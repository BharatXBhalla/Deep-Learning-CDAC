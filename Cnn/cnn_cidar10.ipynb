{
  "nbformat": 4,
  "nbformat_minor": 0,
  "metadata": {
    "colab": {
      "name": "cnn_cidar10.ipynb",
      "provenance": [],
      "collapsed_sections": [],
      "authorship_tag": "ABX9TyOE4kTgynYMbDFrBMygRtTr",
      "include_colab_link": true
    },
    "kernelspec": {
      "name": "python3",
      "display_name": "Python 3"
    },
    "language_info": {
      "name": "python"
    },
    "accelerator": "GPU"
  },
  "cells": [
    {
      "cell_type": "markdown",
      "metadata": {
        "id": "view-in-github",
        "colab_type": "text"
      },
      "source": [
        "<a href=\"https://colab.research.google.com/github/BharatXBhalla/Deep-Learning-CDAC/blob/main/Cnn/cnn_cidar10.ipynb\" target=\"_parent\"><img src=\"https://colab.research.google.com/assets/colab-badge.svg\" alt=\"Open In Colab\"/></a>"
      ]
    },
    {
      "cell_type": "code",
      "execution_count": 1,
      "metadata": {
        "colab": {
          "base_uri": "https://localhost:8080/"
        },
        "id": "ipkRzLWVtbpZ",
        "outputId": "668f3bd1-63a4-4165-c5d5-4d106d9eb74c"
      },
      "outputs": [
        {
          "output_type": "stream",
          "name": "stdout",
          "text": [
            "Downloading data from https://www.cs.toronto.edu/~kriz/cifar-10-python.tar.gz\n",
            "170500096/170498071 [==============================] - 3s 0us/step\n",
            "170508288/170498071 [==============================] - 3s 0us/step\n"
          ]
        }
      ],
      "source": [
        "from keras.datasets import cifar10\n",
        "\n",
        "(x_train,y_train),(x_test,y_test) = cifar10.load_data()"
      ]
    },
    {
      "cell_type": "code",
      "source": [
        "x_train.shape"
      ],
      "metadata": {
        "colab": {
          "base_uri": "https://localhost:8080/"
        },
        "id": "1GrapRlbtlGq",
        "outputId": "50493d4f-3d74-4427-b825-a1817ea1b50c"
      },
      "execution_count": 2,
      "outputs": [
        {
          "output_type": "execute_result",
          "data": {
            "text/plain": [
              "(50000, 32, 32, 3)"
            ]
          },
          "metadata": {},
          "execution_count": 2
        }
      ]
    },
    {
      "cell_type": "code",
      "source": [
        "y_train.shape"
      ],
      "metadata": {
        "colab": {
          "base_uri": "https://localhost:8080/"
        },
        "id": "Om9M-DvqtrjU",
        "outputId": "5576ab3b-a537-4c65-af46-a0f93e0ecb81"
      },
      "execution_count": 3,
      "outputs": [
        {
          "output_type": "execute_result",
          "data": {
            "text/plain": [
              "(50000, 1)"
            ]
          },
          "metadata": {},
          "execution_count": 3
        }
      ]
    },
    {
      "cell_type": "code",
      "source": [
        "from keras.utils import np_utils\n",
        "\n",
        "y_train = np_utils.to_categorical(y_train)\n",
        "y_test = np_utils.to_categorical(y_test)"
      ],
      "metadata": {
        "id": "VzKdrLoItuct"
      },
      "execution_count": 4,
      "outputs": []
    },
    {
      "cell_type": "code",
      "source": [
        "y_train[0]"
      ],
      "metadata": {
        "colab": {
          "base_uri": "https://localhost:8080/"
        },
        "id": "i3bzmBnPt_Fu",
        "outputId": "9e40ad37-1170-4d88-9976-6ff1ee56d441"
      },
      "execution_count": 5,
      "outputs": [
        {
          "output_type": "execute_result",
          "data": {
            "text/plain": [
              "array([0., 0., 0., 0., 0., 0., 1., 0., 0., 0.], dtype=float32)"
            ]
          },
          "metadata": {},
          "execution_count": 5
        }
      ]
    },
    {
      "cell_type": "code",
      "source": [
        "y_train.shape"
      ],
      "metadata": {
        "colab": {
          "base_uri": "https://localhost:8080/"
        },
        "id": "m0cQa2zkuBqn",
        "outputId": "02d20d32-dca6-4517-c0a8-f2cf7d534654"
      },
      "execution_count": 6,
      "outputs": [
        {
          "output_type": "execute_result",
          "data": {
            "text/plain": [
              "(50000, 10)"
            ]
          },
          "metadata": {},
          "execution_count": 6
        }
      ]
    },
    {
      "cell_type": "code",
      "source": [
        "import keras\n",
        "from keras.layers import Dense,Dropout,Flatten,Conv2D,MaxPooling2D\n",
        "from keras.models import Sequential\n"
      ],
      "metadata": {
        "id": "tIStDOm6uDm7"
      },
      "execution_count": 7,
      "outputs": []
    },
    {
      "cell_type": "code",
      "source": [
        "model = Sequential()\n",
        "\n",
        "model.add(Conv2D(64,kernel_size=(2,2),activation=\"relu\",input_shape=(x_train.shape[1],x_train.shape[2],x_train.shape[3])))\n",
        "model.add(Dropout(0.25))\n",
        "model.add(Conv2D(128,kernel_size=(2,2),activation=\"relu\"))\n",
        "model.add(MaxPooling2D(pool_size=(2, 2)))\n",
        "model.add(Conv2D(256,kernel_size=(2,2),strides=(2,2)))\n",
        "model.add(Flatten())\n",
        "model.add(Dense(128, activation='relu'))\n",
        "model.add(Dense(64, activation='sigmoid'))\n",
        "model.add(Dense(y_train.shape[1], activation='softmax'))\n",
        "\n",
        "model.compile(loss = 'categorical_crossentropy',\n",
        "              optimizer =\"sgd\",\n",
        "              metrics = ['accuracy'])\n",
        "\n",
        "\n",
        "\n",
        "model.summary()"
      ],
      "metadata": {
        "colab": {
          "base_uri": "https://localhost:8080/"
        },
        "id": "ARzihPlEuPpv",
        "outputId": "2a10b798-e95f-4560-e1b5-414b5bd88874"
      },
      "execution_count": 17,
      "outputs": [
        {
          "output_type": "stream",
          "name": "stdout",
          "text": [
            "Model: \"sequential_3\"\n",
            "_________________________________________________________________\n",
            " Layer (type)                Output Shape              Param #   \n",
            "=================================================================\n",
            " conv2d_9 (Conv2D)           (None, 31, 31, 64)        832       \n",
            "                                                                 \n",
            " dropout_4 (Dropout)         (None, 31, 31, 64)        0         \n",
            "                                                                 \n",
            " conv2d_10 (Conv2D)          (None, 30, 30, 128)       32896     \n",
            "                                                                 \n",
            " max_pooling2d_5 (MaxPooling  (None, 15, 15, 128)      0         \n",
            " 2D)                                                             \n",
            "                                                                 \n",
            " conv2d_11 (Conv2D)          (None, 7, 7, 256)         131328    \n",
            "                                                                 \n",
            " flatten_3 (Flatten)         (None, 12544)             0         \n",
            "                                                                 \n",
            " dense_11 (Dense)            (None, 128)               1605760   \n",
            "                                                                 \n",
            " dense_12 (Dense)            (None, 64)                8256      \n",
            "                                                                 \n",
            " dense_13 (Dense)            (None, 10)                650       \n",
            "                                                                 \n",
            "=================================================================\n",
            "Total params: 1,779,722\n",
            "Trainable params: 1,779,722\n",
            "Non-trainable params: 0\n",
            "_________________________________________________________________\n"
          ]
        }
      ]
    },
    {
      "cell_type": "code",
      "source": [
        "batch_size = 32\n",
        "epochs = 10"
      ],
      "metadata": {
        "id": "TfMz9_YLvaMt"
      },
      "execution_count": 15,
      "outputs": []
    },
    {
      "cell_type": "code",
      "source": [
        "history = model.fit(x_train,y_train,batch_size=batch_size,epochs=epochs,verbose=1,validation_data=(x_test,y_test))"
      ],
      "metadata": {
        "colab": {
          "base_uri": "https://localhost:8080/"
        },
        "id": "R31apoTIzMvM",
        "outputId": "d726ec0c-1df2-4e0e-f156-5d18f092694d"
      },
      "execution_count": 18,
      "outputs": [
        {
          "output_type": "stream",
          "name": "stdout",
          "text": [
            "Epoch 1/10\n",
            "1563/1563 [==============================] - 60s 17ms/step - loss: 2.3084 - accuracy: 0.0992 - val_loss: 2.3172 - val_accuracy: 0.0990\n",
            "Epoch 2/10\n",
            "1563/1563 [==============================] - 26s 16ms/step - loss: 2.1918 - accuracy: 0.1753 - val_loss: 1.9892 - val_accuracy: 0.2895\n",
            "Epoch 3/10\n",
            "1563/1563 [==============================] - 25s 16ms/step - loss: 1.7649 - accuracy: 0.3650 - val_loss: 1.5681 - val_accuracy: 0.4394\n",
            "Epoch 4/10\n",
            "1563/1563 [==============================] - 25s 16ms/step - loss: 1.4423 - accuracy: 0.4900 - val_loss: 1.3480 - val_accuracy: 0.5237\n",
            "Epoch 5/10\n",
            "1563/1563 [==============================] - 25s 16ms/step - loss: 1.2506 - accuracy: 0.5639 - val_loss: 1.2569 - val_accuracy: 0.5644\n",
            "Epoch 6/10\n",
            "1563/1563 [==============================] - 26s 16ms/step - loss: 1.1256 - accuracy: 0.6098 - val_loss: 1.2053 - val_accuracy: 0.5817\n",
            "Epoch 7/10\n",
            "1563/1563 [==============================] - 26s 16ms/step - loss: 1.0334 - accuracy: 0.6406 - val_loss: 1.1748 - val_accuracy: 0.5877\n",
            "Epoch 8/10\n",
            "1563/1563 [==============================] - 24s 16ms/step - loss: 0.9540 - accuracy: 0.6700 - val_loss: 1.0428 - val_accuracy: 0.6385\n",
            "Epoch 9/10\n",
            "1563/1563 [==============================] - 24s 16ms/step - loss: 0.8888 - accuracy: 0.6923 - val_loss: 1.0158 - val_accuracy: 0.6508\n",
            "Epoch 10/10\n",
            "1563/1563 [==============================] - 24s 16ms/step - loss: 0.8224 - accuracy: 0.7151 - val_loss: 1.0156 - val_accuracy: 0.6532\n"
          ]
        }
      ]
    },
    {
      "cell_type": "code",
      "source": [
        "import matplotlib.pyplot as plt\n"
      ],
      "metadata": {
        "id": "wo6w0iP_1jq2"
      },
      "execution_count": 19,
      "outputs": []
    },
    {
      "cell_type": "code",
      "source": [
        "score = model.evaluate(x_test, y_test, verbose=0)"
      ],
      "metadata": {
        "id": "9NINy0iX5QbJ"
      },
      "execution_count": 21,
      "outputs": []
    },
    {
      "cell_type": "code",
      "source": [
        "print('Test loss:', score[0])\n",
        "print('Test accuracy:', score[1])"
      ],
      "metadata": {
        "colab": {
          "base_uri": "https://localhost:8080/"
        },
        "id": "9jxMhSQu5SHF",
        "outputId": "a2ed5b79-dd5a-405c-be56-02eae983420b"
      },
      "execution_count": 22,
      "outputs": [
        {
          "output_type": "stream",
          "name": "stdout",
          "text": [
            "Test loss: 1.0155786275863647\n",
            "Test accuracy: 0.6531999707221985\n"
          ]
        }
      ]
    },
    {
      "cell_type": "code",
      "source": [
        "history_dict = history.history\n"
      ],
      "metadata": {
        "id": "2ZQFoIBj5YIb"
      },
      "execution_count": 23,
      "outputs": []
    },
    {
      "cell_type": "code",
      "source": [
        "history_dict"
      ],
      "metadata": {
        "colab": {
          "base_uri": "https://localhost:8080/"
        },
        "id": "pQoG35GO5hmO",
        "outputId": "4b6f1544-2004-41c6-82d7-26ba97feecfe"
      },
      "execution_count": 24,
      "outputs": [
        {
          "output_type": "execute_result",
          "data": {
            "text/plain": [
              "{'accuracy': [0.09916000068187714,\n",
              "  0.1752600073814392,\n",
              "  0.36504000425338745,\n",
              "  0.4900200068950653,\n",
              "  0.5638999938964844,\n",
              "  0.6097999811172485,\n",
              "  0.6405799984931946,\n",
              "  0.6700400114059448,\n",
              "  0.6923199892044067,\n",
              "  0.7150999903678894],\n",
              " 'loss': [2.3084499835968018,\n",
              "  2.1918013095855713,\n",
              "  1.7649070024490356,\n",
              "  1.4422897100448608,\n",
              "  1.2506380081176758,\n",
              "  1.1256368160247803,\n",
              "  1.0334111452102661,\n",
              "  0.9540119767189026,\n",
              "  0.888835608959198,\n",
              "  0.8224016427993774],\n",
              " 'val_accuracy': [0.0989999994635582,\n",
              "  0.28949999809265137,\n",
              "  0.43939998745918274,\n",
              "  0.5236999988555908,\n",
              "  0.5644000172615051,\n",
              "  0.5817000269889832,\n",
              "  0.5877000093460083,\n",
              "  0.6384999752044678,\n",
              "  0.6507999897003174,\n",
              "  0.6531999707221985],\n",
              " 'val_loss': [2.3172051906585693,\n",
              "  1.9892308712005615,\n",
              "  1.5680880546569824,\n",
              "  1.3480315208435059,\n",
              "  1.2569091320037842,\n",
              "  1.2052968740463257,\n",
              "  1.1748485565185547,\n",
              "  1.0427584648132324,\n",
              "  1.0157530307769775,\n",
              "  1.0155786275863647]}"
            ]
          },
          "metadata": {},
          "execution_count": 24
        }
      ]
    },
    {
      "cell_type": "code",
      "source": [
        "loss_history = history_dict['loss']\n",
        "val_loss_history = history_dict['val_loss']\n",
        "epochs = range(1,len(loss_history)+1)\n",
        "\n",
        "plt.plot(epochs,val_loss_history,label = \"Validation Loss\")\n",
        "plt.plot(epochs,loss_history,label=\"Loss\")\n",
        "\n",
        "plt.legend()\n",
        "plt.xlabel(\"Epochs\")\n",
        "plt.ylabel(\"Loss\")"
      ],
      "metadata": {
        "colab": {
          "base_uri": "https://localhost:8080/",
          "height": 296
        },
        "id": "XTaTpuIP5jc8",
        "outputId": "1c6d7c18-5522-49e8-caa2-a638c256b14e"
      },
      "execution_count": 26,
      "outputs": [
        {
          "output_type": "execute_result",
          "data": {
            "text/plain": [
              "Text(0, 0.5, 'Loss')"
            ]
          },
          "metadata": {},
          "execution_count": 26
        },
        {
          "output_type": "display_data",
          "data": {
            "image/png": "[encoded data removed]",
            "text/plain": [
              "<Figure size 432x288 with 1 Axes>"
            ]
          },
          "metadata": {
            "needs_background": "light"
          }
        }
      ]
    },
    {
      "cell_type": "code",
      "source": [
        "accuracy_history = history_dict['accuracy']\n",
        "val_accuracy_history = history_dict['val_accuracy']\n",
        "epochs = range(1,len(accuracy_history)+1)\n",
        "\n",
        "plt.plot(epochs,val_accuracy_history,label = \"Validation accuracy\")\n",
        "plt.plot(epochs,accuracy_history,label=\"accuracy\")\n",
        "\n",
        "plt.legend()\n",
        "plt.xlabel(\"Epochs\")\n",
        "plt.ylabel(\"Accuracy\")"
      ],
      "metadata": {
        "colab": {
          "base_uri": "https://localhost:8080/",
          "height": 296
        },
        "id": "xA4YuwbU6rRr",
        "outputId": "3d099926-2fa3-45a6-8862-8217dddbcebb"
      },
      "execution_count": 28,
      "outputs": [
        {
          "output_type": "execute_result",
          "data": {
            "text/plain": [
              "Text(0, 0.5, 'Accuracy')"
            ]
          },
          "metadata": {},
          "execution_count": 28
        },
        {
          "output_type": "display_data",
          "data": {
            "image/png": "[encoded data removed]",
            "text/plain": [
              "<Figure size 432x288 with 1 Axes>"
            ]
          },
          "metadata": {
            "needs_background": "light"
          }
        }
      ]
    },
    {
      "cell_type": "code",
      "source": [
        "model.save(\"cidar_10.h5\")"
      ],
      "metadata": {
        "id": "oO287tv56-aH"
      },
      "execution_count": 29,
      "outputs": []
    },
    {
      "cell_type": "code",
      "source": [
        "plt.imshow(x_train[2])"
      ],
      "metadata": {
        "colab": {
          "base_uri": "https://localhost:8080/",
          "height": 283
        },
        "id": "3ZRY9ZWg7IMa",
        "outputId": "274527db-9fd3-4a2c-9380-3c371a181601"
      },
      "execution_count": 31,
      "outputs": [
        {
          "output_type": "execute_result",
          "data": {
            "text/plain": [
              "<matplotlib.image.AxesImage at 0x7f21325b0b10>"
            ]
          },
          "metadata": {},
          "execution_count": 31
        },
        {
          "output_type": "display_data",
          "data": {
            "image/png": "[encoded data removed]",
            "text/plain": [
              "<Figure size 432x288 with 1 Axes>"
            ]
          },
          "metadata": {
            "needs_background": "light"
          }
        }
      ]
    },
    {
      "cell_type": "code",
      "source": [
        "from keras.models import load_model\n",
        "\n",
        "classifier = load_model('cidar_10.h5')"
      ],
      "metadata": {
        "id": "eDTK1UVN8InR"
      },
      "execution_count": 33,
      "outputs": []
    },
    {
      "cell_type": "code",
      "source": [
        "classifier.predict(x_train[2].reshape(1,32,32,3))"
      ],
      "metadata": {
        "colab": {
          "base_uri": "https://localhost:8080/"
        },
        "id": "sZc_yQF98fMo",
        "outputId": "8b41d95a-66cc-44e9-82b7-d1354da70a35"
      },
      "execution_count": 37,
      "outputs": [
        {
          "output_type": "execute_result",
          "data": {
            "text/plain": [
              "array([[0.01596627, 0.00737971, 0.01662808, 0.17715381, 0.01657429,\n",
              "        0.01086025, 0.08007378, 0.05617663, 0.09157428, 0.52761286]],\n",
              "      dtype=float32)"
            ]
          },
          "metadata": {},
          "execution_count": 37
        }
      ]
    },
    {
      "cell_type": "code",
      "source": [
        "y_train[2]"
      ],
      "metadata": {
        "colab": {
          "base_uri": "https://localhost:8080/"
        },
        "id": "RafbkWfU8p0e",
        "outputId": "ebb175f6-003c-4940-9b7b-7c4a7eeb94f7"
      },
      "execution_count": 38,
      "outputs": [
        {
          "output_type": "execute_result",
          "data": {
            "text/plain": [
              "array([0., 0., 0., 0., 0., 0., 0., 0., 0., 1.], dtype=float32)"
            ]
          },
          "metadata": {},
          "execution_count": 38
        }
      ]
    },
    {
      "cell_type": "code",
      "source": [
        ""
      ],
      "metadata": {
        "id": "q7MYVUVx8_EY"
      },
      "execution_count": null,
      "outputs": []
    }
  ]
}