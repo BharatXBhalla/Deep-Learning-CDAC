{
  "nbformat": 4,
  "nbformat_minor": 0,
  "metadata": {
    "colab": {
      "name": "Using VGGNet.ipynb",
      "provenance": [],
      "collapsed_sections": [],
      "authorship_tag": "ABX9TyOvdD4zbDrEqJgVwcUBzKvO",
      "include_colab_link": true
    },
    "kernelspec": {
      "name": "python3",
      "display_name": "Python 3"
    },
    "language_info": {
      "name": "python"
    }
  },
  "cells": [
    {
      "cell_type": "markdown",
      "metadata": {
        "id": "view-in-github",
        "colab_type": "text"
      },
      "source": [
        "<a href=\"https://colab.research.google.com/github/BharatXBhalla/Deep-Learning-CDAC/blob/main/Cnn/Using_VGGNet.ipynb\" target=\"_parent\"><img src=\"https://colab.research.google.com/assets/colab-badge.svg\" alt=\"Open In Colab\"/></a>"
      ]
    },
    {
      "cell_type": "code",
      "execution_count": 23,
      "metadata": {
        "id": "wHuVT9mM54-v"
      },
      "outputs": [],
      "source": [
        "from tensorflow.keras.applications import VGG16,VGG19\n",
        "from keras.preprocessing import image\n",
        "\n",
        "VGGmodel16 = VGG16(weights=\"imagenet\")\n",
        "VGGmodel19 = VGG19(weights=\"imagenet\")"
      ]
    },
    {
      "cell_type": "code",
      "source": [
        "!pip install keras.applications"
      ],
      "metadata": {
        "colab": {
          "base_uri": "https://localhost:8080/"
        },
        "id": "t_mRIlIB6Kat",
        "outputId": "a9caaa69-0866-4f7a-d786-96d790db09f0"
      },
      "execution_count": 24,
      "outputs": [
        {
          "output_type": "stream",
          "name": "stdout",
          "text": [
            "Requirement already satisfied: keras.applications in /usr/local/lib/python3.7/dist-packages (1.0.8)\n",
            "Requirement already satisfied: numpy>=1.9.1 in /usr/local/lib/python3.7/dist-packages (from keras.applications) (1.21.5)\n",
            "Requirement already satisfied: h5py in /usr/local/lib/python3.7/dist-packages (from keras.applications) (3.1.0)\n",
            "Requirement already satisfied: cached-property in /usr/local/lib/python3.7/dist-packages (from h5py->keras.applications) (1.5.2)\n"
          ]
        }
      ]
    },
    {
      "cell_type": "code",
      "source": [
        "pimg = image.load_img(\"mountian.jpg\",target_size=(224,224))"
      ],
      "metadata": {
        "id": "lLDgi5Rp6GRJ"
      },
      "execution_count": 25,
      "outputs": []
    },
    {
      "cell_type": "code",
      "source": [
        "iarray=image.img_to_array(pimg)"
      ],
      "metadata": {
        "id": "fYuQ2p3i9ZAS"
      },
      "execution_count": 26,
      "outputs": []
    },
    {
      "cell_type": "code",
      "source": [
        "iarray.shape"
      ],
      "metadata": {
        "colab": {
          "base_uri": "https://localhost:8080/"
        },
        "id": "qsQ4plgq9wc_",
        "outputId": "b5c6a500-bf6b-4ff5-edd3-1999cb3b5af2"
      },
      "execution_count": 27,
      "outputs": [
        {
          "output_type": "execute_result",
          "data": {
            "text/plain": [
              "(224, 224, 3)"
            ]
          },
          "metadata": {},
          "execution_count": 27
        }
      ]
    },
    {
      "cell_type": "code",
      "source": [
        "import numpy as np"
      ],
      "metadata": {
        "id": "Blsbf8w19_5k"
      },
      "execution_count": 28,
      "outputs": []
    },
    {
      "cell_type": "code",
      "source": [
        "iexpand= np.expand_dims(iarray,axis=0)"
      ],
      "metadata": {
        "id": "iZk0xGt7-Gr1"
      },
      "execution_count": 29,
      "outputs": []
    },
    {
      "cell_type": "code",
      "source": [
        "iexpand.shape"
      ],
      "metadata": {
        "colab": {
          "base_uri": "https://localhost:8080/"
        },
        "id": "6AaSRMnS-M8I",
        "outputId": "5aaf3733-7700-4466-9839-a18b24cc504d"
      },
      "execution_count": 30,
      "outputs": [
        {
          "output_type": "execute_result",
          "data": {
            "text/plain": [
              "(1, 224, 224, 3)"
            ]
          },
          "metadata": {},
          "execution_count": 30
        }
      ]
    },
    {
      "cell_type": "code",
      "source": [
        "from tensorflow.keras.applications.vgg16 import preprocess_input"
      ],
      "metadata": {
        "id": "Jlf4ieN9-mv8"
      },
      "execution_count": 35,
      "outputs": []
    },
    {
      "cell_type": "code",
      "source": [
        "input = preprocess_input(iexpand)"
      ],
      "metadata": {
        "id": "6Ja5iRC6_ykX"
      },
      "execution_count": 36,
      "outputs": []
    },
    {
      "cell_type": "code",
      "source": [
        "output=VGGmodel16.predict(input)"
      ],
      "metadata": {
        "id": "UyC6JJFG_9Q5"
      },
      "execution_count": 39,
      "outputs": []
    },
    {
      "cell_type": "code",
      "source": [
        "from tensorflow.keras.applications.vgg16 import decode_predictions"
      ],
      "metadata": {
        "id": "JlyEILrj__4d"
      },
      "execution_count": 44,
      "outputs": []
    },
    {
      "cell_type": "code",
      "source": [
        "decode_predictions(output)"
      ],
      "metadata": {
        "colab": {
          "base_uri": "https://localhost:8080/"
        },
        "id": "vYQ32QXYALR1",
        "outputId": "b3a40845-3ad1-4f2c-f1c9-e91ef2ab1ec7"
      },
      "execution_count": 45,
      "outputs": [
        {
          "output_type": "stream",
          "name": "stdout",
          "text": [
            "Downloading data from https://storage.googleapis.com/download.tensorflow.org/data/imagenet_class_index.json\n",
            "40960/35363 [==================================] - 0s 0us/step\n",
            "49152/35363 [=========================================] - 0s 0us/step\n"
          ]
        },
        {
          "output_type": "execute_result",
          "data": {
            "text/plain": [
              "[[('n09193705', 'alp', 0.7775862),\n",
              "  ('n09468604', 'valley', 0.08674001),\n",
              "  ('n09472597', 'volcano', 0.03533377),\n",
              "  ('n09246464', 'cliff', 0.030047728),\n",
              "  ('n03792972', 'mountain_tent', 0.01629108)]]"
            ]
          },
          "metadata": {},
          "execution_count": 45
        }
      ]
    },
    {
      "cell_type": "code",
      "source": [
        "from tensorflow.keras.applications.vgg19 import preprocess_input\n",
        "input = preprocess_input(iexpand)\n",
        "output=VGGmodel19.predict(input)\n",
        "from tensorflow.keras.applications.vgg19 import decode_predictions\n",
        "decode_predictions(output)"
      ],
      "metadata": {
        "colab": {
          "base_uri": "https://localhost:8080/"
        },
        "id": "7yV1xEIsA1Hl",
        "outputId": "87871640-db08-4eae-9f45-df73ae1cdeca"
      },
      "execution_count": 46,
      "outputs": [
        {
          "output_type": "execute_result",
          "data": {
            "text/plain": [
              "[[('n09193705', 'alp', 0.9094124),\n",
              "  ('n09472597', 'volcano', 0.054603156),\n",
              "  ('n09468604', 'valley', 0.019497672),\n",
              "  ('n03792972', 'mountain_tent', 0.013072865),\n",
              "  ('n09246464', 'cliff', 0.001414921)]]"
            ]
          },
          "metadata": {},
          "execution_count": 46
        }
      ]
    },
    {
      "cell_type": "markdown",
      "source": [
        ""
      ],
      "metadata": {
        "id": "aknAI3kbBL5O"
      }
    },
    {
      "cell_type": "code",
      "source": [
        ""
      ],
      "metadata": {
        "id": "0Qvh8YtzBLnI"
      },
      "execution_count": null,
      "outputs": []
    }
  ]
}