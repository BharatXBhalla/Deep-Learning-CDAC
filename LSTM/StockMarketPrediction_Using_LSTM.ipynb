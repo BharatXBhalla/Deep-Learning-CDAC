{
  "nbformat": 4,
  "nbformat_minor": 0,
  "metadata": {
    "colab": {
      "name": "StockMarketPrediction_Using_LSTM.ipynb",
      "provenance": [],
      "authorship_tag": "ABX9TyNCcTe2sVeJQasTHq9DOcV+",
      "include_colab_link": true
    },
    "kernelspec": {
      "name": "python3",
      "display_name": "Python 3"
    },
    "language_info": {
      "name": "python"
    }
  },
  "cells": [
    {
      "cell_type": "markdown",
      "metadata": {
        "id": "view-in-github",
        "colab_type": "text"
      },
      "source": [
        "<a href=\"https://colab.research.google.com/github/BharatXBhalla/Deep-Learning-CDAC/blob/main/LSTM/StockMarketPrediction_Using_LSTM.ipynb\" target=\"_parent\"><img src=\"https://colab.research.google.com/assets/colab-badge.svg\" alt=\"Open In Colab\"/></a>"
      ]
    },
    {
      "cell_type": "code",
      "execution_count": 8,
      "metadata": {
        "id": "hDfjaIqjTZee",
        "colab": {
          "base_uri": "https://localhost:8080/"
        },
        "outputId": "afc22348-fe3a-4df1-cb7d-7b2160644767"
      },
      "outputs": [
        {
          "output_type": "stream",
          "name": "stdout",
          "text": [
            "Collecting quandl\n",
            "  Downloading Quandl-3.7.0-py2.py3-none-any.whl (26 kB)\n",
            "Requirement already satisfied: numpy>=1.8 in /usr/local/lib/python3.7/dist-packages (from quandl) (1.21.5)\n",
            "Requirement already satisfied: requests>=2.7.0 in /usr/local/lib/python3.7/dist-packages (from quandl) (2.23.0)\n",
            "Requirement already satisfied: six in /usr/local/lib/python3.7/dist-packages (from quandl) (1.15.0)\n",
            "Requirement already satisfied: more-itertools in /usr/local/lib/python3.7/dist-packages (from quandl) (8.12.0)\n",
            "Requirement already satisfied: pandas>=0.14 in /usr/local/lib/python3.7/dist-packages (from quandl) (1.3.5)\n",
            "Requirement already satisfied: python-dateutil in /usr/local/lib/python3.7/dist-packages (from quandl) (2.8.2)\n",
            "Collecting inflection>=0.3.1\n",
            "  Downloading inflection-0.5.1-py2.py3-none-any.whl (9.5 kB)\n",
            "Requirement already satisfied: pytz>=2017.3 in /usr/local/lib/python3.7/dist-packages (from pandas>=0.14->quandl) (2018.9)\n",
            "Requirement already satisfied: idna<3,>=2.5 in /usr/local/lib/python3.7/dist-packages (from requests>=2.7.0->quandl) (2.10)\n",
            "Requirement already satisfied: urllib3!=1.25.0,!=1.25.1,<1.26,>=1.21.1 in /usr/local/lib/python3.7/dist-packages (from requests>=2.7.0->quandl) (1.24.3)\n",
            "Requirement already satisfied: certifi>=2017.4.17 in /usr/local/lib/python3.7/dist-packages (from requests>=2.7.0->quandl) (2021.10.8)\n",
            "Requirement already satisfied: chardet<4,>=3.0.2 in /usr/local/lib/python3.7/dist-packages (from requests>=2.7.0->quandl) (3.0.4)\n",
            "Installing collected packages: inflection, quandl\n",
            "Successfully installed inflection-0.5.1 quandl-3.7.0\n"
          ]
        }
      ],
      "source": [
        "!pip install quandl"
      ]
    },
    {
      "cell_type": "code",
      "source": [
        "import quandl"
      ],
      "metadata": {
        "id": "uqDycCCLTcbf"
      },
      "execution_count": 9,
      "outputs": []
    },
    {
      "cell_type": "code",
      "source": [
        "start=pd.to_datetime('2012-01-01')\n",
        "end=pd.to_datetime('2021-01-01')\n"
      ],
      "metadata": {
        "id": "zAN4H2gIT8HV"
      },
      "execution_count": 10,
      "outputs": []
    },
    {
      "cell_type": "code",
      "source": [
        "aapl=quandl.get('WIKI/AAPL.11',start_date=start,end_date=end)"
      ],
      "metadata": {
        "id": "tIISo-O1UAOQ"
      },
      "execution_count": 11,
      "outputs": []
    },
    {
      "cell_type": "code",
      "source": [
        "aapl"
      ],
      "metadata": {
        "colab": {
          "base_uri": "https://localhost:8080/",
          "height": 455
        },
        "id": "CBznrh3sUjJD",
        "outputId": "cb3fafc4-ffca-42c1-d5f2-db554fd9e730"
      },
      "execution_count": 13,
      "outputs": [
        {
          "output_type": "execute_result",
          "data": {
            "text/html": [
              "\n",
              "  <div id=\"df-2cf798e7-8e22-4fc8-91f3-bafe511a3192\">\n",
              "    <div class=\"colab-df-container\">\n",
              "      <div>\n",
              "<style scoped>\n",
              "    .dataframe tbody tr th:only-of-type {\n",
              "        vertical-align: middle;\n",
              "    }\n",
              "\n",
              "    .dataframe tbody tr th {\n",
              "        vertical-align: top;\n",
              "    }\n",
              "\n",
              "    .dataframe thead th {\n",
              "        text-align: right;\n",
              "    }\n",
              "</style>\n",
              "<table border=\"1\" class=\"dataframe\">\n",
              "  <thead>\n",
              "    <tr style=\"text-align: right;\">\n",
              "      <th></th>\n",
              "      <th>Adj. Close</th>\n",
              "    </tr>\n",
              "    <tr>\n",
              "      <th>Date</th>\n",
              "      <th></th>\n",
              "    </tr>\n",
              "  </thead>\n",
              "  <tbody>\n",
              "    <tr>\n",
              "      <th>2012-01-03</th>\n",
              "      <td>52.848787</td>\n",
              "    </tr>\n",
              "    <tr>\n",
              "      <th>2012-01-04</th>\n",
              "      <td>53.132802</td>\n",
              "    </tr>\n",
              "    <tr>\n",
              "      <th>2012-01-05</th>\n",
              "      <td>53.722681</td>\n",
              "    </tr>\n",
              "    <tr>\n",
              "      <th>2012-01-06</th>\n",
              "      <td>54.284287</td>\n",
              "    </tr>\n",
              "    <tr>\n",
              "      <th>2012-01-09</th>\n",
              "      <td>54.198183</td>\n",
              "    </tr>\n",
              "    <tr>\n",
              "      <th>...</th>\n",
              "      <td>...</td>\n",
              "    </tr>\n",
              "    <tr>\n",
              "      <th>2018-03-21</th>\n",
              "      <td>171.270000</td>\n",
              "    </tr>\n",
              "    <tr>\n",
              "      <th>2018-03-22</th>\n",
              "      <td>168.845000</td>\n",
              "    </tr>\n",
              "    <tr>\n",
              "      <th>2018-03-23</th>\n",
              "      <td>164.940000</td>\n",
              "    </tr>\n",
              "    <tr>\n",
              "      <th>2018-03-26</th>\n",
              "      <td>172.770000</td>\n",
              "    </tr>\n",
              "    <tr>\n",
              "      <th>2018-03-27</th>\n",
              "      <td>168.340000</td>\n",
              "    </tr>\n",
              "  </tbody>\n",
              "</table>\n",
              "<p>1566 rows × 1 columns</p>\n",
              "</div>\n",
              "      <button class=\"colab-df-convert\" onclick=\"convertToInteractive('df-2cf798e7-8e22-4fc8-91f3-bafe511a3192')\"\n",
              "              title=\"Convert this dataframe to an interactive table.\"\n",
              "              style=\"display:none;\">\n",
              "        \n",
              "  <svg xmlns=\"http://www.w3.org/2000/svg\" height=\"24px\"viewBox=\"0 0 24 24\"\n",
              "       width=\"24px\">\n",
              "    <path d=\"M0 0h24v24H0V0z\" fill=\"none\"/>\n",
              "    <path d=\"M18.56 5.44l.94 2.06.94-2.06 2.06-.94-2.06-.94-.94-2.06-.94 2.06-2.06.94zm-11 1L8.5 8.5l.94-2.06 2.06-.94-2.06-.94L8.5 2.5l-.94 2.06-2.06.94zm10 10l.94 2.06.94-2.06 2.06-.94-2.06-.94-.94-2.06-.94 2.06-2.06.94z\"/><path d=\"M17.41 7.96l-1.37-1.37c-.4-.4-.92-.59-1.43-.59-.52 0-1.04.2-1.43.59L10.3 9.45l-7.72 7.72c-.78.78-.78 2.05 0 2.83L4 21.41c.39.39.9.59 1.41.59.51 0 1.02-.2 1.41-.59l7.78-7.78 2.81-2.81c.8-.78.8-2.07 0-2.86zM5.41 20L4 18.59l7.72-7.72 1.47 1.35L5.41 20z\"/>\n",
              "  </svg>\n",
              "      </button>\n",
              "      \n",
              "  <style>\n",
              "    .colab-df-container {\n",
              "      display:flex;\n",
              "      flex-wrap:wrap;\n",
              "      gap: 12px;\n",
              "    }\n",
              "\n",
              "    .colab-df-convert {\n",
              "      background-color: #E8F0FE;\n",
              "      border: none;\n",
              "      border-radius: 50%;\n",
              "      cursor: pointer;\n",
              "      display: none;\n",
              "      fill: #1967D2;\n",
              "      height: 32px;\n",
              "      padding: 0 0 0 0;\n",
              "      width: 32px;\n",
              "    }\n",
              "\n",
              "    .colab-df-convert:hover {\n",
              "      background-color: #E2EBFA;\n",
              "      box-shadow: 0px 1px 2px rgba(60, 64, 67, 0.3), 0px 1px 3px 1px rgba(60, 64, 67, 0.15);\n",
              "      fill: #174EA6;\n",
              "    }\n",
              "\n",
              "    [theme=dark] .colab-df-convert {\n",
              "      background-color: #3B4455;\n",
              "      fill: #D2E3FC;\n",
              "    }\n",
              "\n",
              "    [theme=dark] .colab-df-convert:hover {\n",
              "      background-color: #434B5C;\n",
              "      box-shadow: 0px 1px 3px 1px rgba(0, 0, 0, 0.15);\n",
              "      filter: drop-shadow(0px 1px 2px rgba(0, 0, 0, 0.3));\n",
              "      fill: #FFFFFF;\n",
              "    }\n",
              "  </style>\n",
              "\n",
              "      <script>\n",
              "        const buttonEl =\n",
              "          document.querySelector('#df-2cf798e7-8e22-4fc8-91f3-bafe511a3192 button.colab-df-convert');\n",
              "        buttonEl.style.display =\n",
              "          google.colab.kernel.accessAllowed ? 'block' : 'none';\n",
              "\n",
              "        async function convertToInteractive(key) {\n",
              "          const element = document.querySelector('#df-2cf798e7-8e22-4fc8-91f3-bafe511a3192');\n",
              "          const dataTable =\n",
              "            await google.colab.kernel.invokeFunction('convertToInteractive',\n",
              "                                                     [key], {});\n",
              "          if (!dataTable) return;\n",
              "\n",
              "          const docLinkHtml = 'Like what you see? Visit the ' +\n",
              "            '<a target=\"_blank\" href=https://colab.research.google.com/notebooks/data_table.ipynb>data table notebook</a>'\n",
              "            + ' to learn more about interactive tables.';\n",
              "          element.innerHTML = '';\n",
              "          dataTable['output_type'] = 'display_data';\n",
              "          await google.colab.output.renderOutput(dataTable, element);\n",
              "          const docLink = document.createElement('div');\n",
              "          docLink.innerHTML = docLinkHtml;\n",
              "          element.appendChild(docLink);\n",
              "        }\n",
              "      </script>\n",
              "    </div>\n",
              "  </div>\n",
              "  "
            ],
            "text/plain": [
              "            Adj. Close\n",
              "Date                  \n",
              "2012-01-03   52.848787\n",
              "2012-01-04   53.132802\n",
              "2012-01-05   53.722681\n",
              "2012-01-06   54.284287\n",
              "2012-01-09   54.198183\n",
              "...                ...\n",
              "2018-03-21  171.270000\n",
              "2018-03-22  168.845000\n",
              "2018-03-23  164.940000\n",
              "2018-03-26  172.770000\n",
              "2018-03-27  168.340000\n",
              "\n",
              "[1566 rows x 1 columns]"
            ]
          },
          "metadata": {},
          "execution_count": 13
        }
      ]
    },
    {
      "cell_type": "code",
      "source": [
        "aapl.plot()"
      ],
      "metadata": {
        "colab": {
          "base_uri": "https://localhost:8080/",
          "height": 286
        },
        "id": "H-IA6NgGUjob",
        "outputId": "8a8a2708-879b-4956-dc49-2a66440c6f22"
      },
      "execution_count": 14,
      "outputs": [
        {
          "output_type": "execute_result",
          "data": {
            "text/plain": [
              "<matplotlib.axes._subplots.AxesSubplot at 0x7f8b0e95ab10>"
            ]
          },
          "metadata": {},
          "execution_count": 14
        },
        {
          "output_type": "display_data",
          "data": {
            "image/png": "[encoded data removed]",
            "text/plain": [
              "<Figure size 432x288 with 1 Axes>"
            ]
          },
          "metadata": {
            "needs_background": "light"
          }
        }
      ]
    },
    {
      "cell_type": "code",
      "source": [
        "from sklearn.preprocessing import MinMaxScaler"
      ],
      "metadata": {
        "id": "Os5rYdb2WY2n"
      },
      "execution_count": 15,
      "outputs": []
    },
    {
      "cell_type": "code",
      "source": [
        "scalar = MinMaxScaler()\n",
        "df=scalar.fit_transform(aapl)"
      ],
      "metadata": {
        "id": "bE3e1LapWgM-"
      },
      "execution_count": 17,
      "outputs": []
    },
    {
      "cell_type": "code",
      "source": [
        "import matplotlib.pyplot as plt"
      ],
      "metadata": {
        "id": "wTTXlQhHWo5T"
      },
      "execution_count": 19,
      "outputs": []
    },
    {
      "cell_type": "code",
      "source": [
        "plt.plot(df)"
      ],
      "metadata": {
        "colab": {
          "base_uri": "https://localhost:8080/",
          "height": 282
        },
        "id": "Z39DpvRBWzZp",
        "outputId": "7bb54a2f-3681-4cff-9fe7-1b9368bc9e5b"
      },
      "execution_count": 20,
      "outputs": [
        {
          "output_type": "execute_result",
          "data": {
            "text/plain": [
              "[<matplotlib.lines.Line2D at 0x7f8aff996c10>]"
            ]
          },
          "metadata": {},
          "execution_count": 20
        },
        {
          "output_type": "display_data",
          "data": {
            "image/png": "[encoded data removed]",
            "text/plain": [
              "<Figure size 432x288 with 1 Axes>"
            ]
          },
          "metadata": {
            "needs_background": "light"
          }
        }
      ]
    },
    {
      "cell_type": "code",
      "source": [
        "# Spliting my data into train and test"
      ],
      "metadata": {
        "id": "Xna1zzJaW53Z"
      },
      "execution_count": 21,
      "outputs": []
    },
    {
      "cell_type": "code",
      "source": [
        "from sklearn.model_selection import train_test_split"
      ],
      "metadata": {
        "id": "emHWqk9lXF5X"
      },
      "execution_count": 198,
      "outputs": []
    },
    {
      "cell_type": "code",
      "source": [
        "train_size = int(len(df)*0.8)"
      ],
      "metadata": {
        "id": "PL591bpPXJDj"
      },
      "execution_count": 199,
      "outputs": []
    },
    {
      "cell_type": "code",
      "source": [
        "train_size"
      ],
      "metadata": {
        "colab": {
          "base_uri": "https://localhost:8080/"
        },
        "id": "iyFCe-SpXbll",
        "outputId": "6ecf004e-ea85-4a11-877c-e7e31e40996f"
      },
      "execution_count": 200,
      "outputs": [
        {
          "output_type": "execute_result",
          "data": {
            "text/plain": [
              "1252"
            ]
          },
          "metadata": {},
          "execution_count": 200
        }
      ]
    },
    {
      "cell_type": "code",
      "source": [
        "test_size=len(df)-train_size"
      ],
      "metadata": {
        "id": "EsdwRubnXcmm"
      },
      "execution_count": 201,
      "outputs": []
    },
    {
      "cell_type": "code",
      "source": [
        "test_size"
      ],
      "metadata": {
        "colab": {
          "base_uri": "https://localhost:8080/"
        },
        "id": "97vDPXQFXh3R",
        "outputId": "3a226cec-5eb2-43f1-a0af-da0986238c2b"
      },
      "execution_count": 202,
      "outputs": [
        {
          "output_type": "execute_result",
          "data": {
            "text/plain": [
              "314"
            ]
          },
          "metadata": {},
          "execution_count": 202
        }
      ]
    },
    {
      "cell_type": "code",
      "source": [
        "train_data = df[0:train_size,:]\n",
        "test_data = df[train_size:,:]"
      ],
      "metadata": {
        "id": "VqFAPf6uXjFx"
      },
      "execution_count": 203,
      "outputs": []
    },
    {
      "cell_type": "code",
      "source": [
        "train_data.shape"
      ],
      "metadata": {
        "colab": {
          "base_uri": "https://localhost:8080/"
        },
        "id": "yb10-EWwX6BE",
        "outputId": "42528e3a-4925-47e1-ce1f-28eaf660c5f4"
      },
      "execution_count": 204,
      "outputs": [
        {
          "output_type": "execute_result",
          "data": {
            "text/plain": [
              "(1252, 1)"
            ]
          },
          "metadata": {},
          "execution_count": 204
        }
      ]
    },
    {
      "cell_type": "code",
      "source": [
        "test_data.shape"
      ],
      "metadata": {
        "colab": {
          "base_uri": "https://localhost:8080/"
        },
        "id": "Ej2DrBvFX8Sj",
        "outputId": "069ad1b4-ddfc-49d7-fde6-f57af348adaa"
      },
      "execution_count": 205,
      "outputs": [
        {
          "output_type": "execute_result",
          "data": {
            "text/plain": [
              "(314, 1)"
            ]
          },
          "metadata": {},
          "execution_count": 205
        }
      ]
    },
    {
      "cell_type": "code",
      "source": [
        "pd.DataFrame(train_data).head()"
      ],
      "metadata": {
        "colab": {
          "base_uri": "https://localhost:8080/",
          "height": 206
        },
        "id": "Q8acYrhabhIX",
        "outputId": "3ad708b0-9079-45ed-fa77-db4720ffba69"
      },
      "execution_count": 206,
      "outputs": [
        {
          "output_type": "execute_result",
          "data": {
            "text/html": [
              "\n",
              "  <div id=\"df-46c663fe-fd3f-43ea-a995-9a732d034818\">\n",
              "    <div class=\"colab-df-container\">\n",
              "      <div>\n",
              "<style scoped>\n",
              "    .dataframe tbody tr th:only-of-type {\n",
              "        vertical-align: middle;\n",
              "    }\n",
              "\n",
              "    .dataframe tbody tr th {\n",
              "        vertical-align: top;\n",
              "    }\n",
              "\n",
              "    .dataframe thead th {\n",
              "        text-align: right;\n",
              "    }\n",
              "</style>\n",
              "<table border=\"1\" class=\"dataframe\">\n",
              "  <thead>\n",
              "    <tr style=\"text-align: right;\">\n",
              "      <th></th>\n",
              "      <th>0</th>\n",
              "    </tr>\n",
              "  </thead>\n",
              "  <tbody>\n",
              "    <tr>\n",
              "      <th>0</th>\n",
              "      <td>0.014680</td>\n",
              "    </tr>\n",
              "    <tr>\n",
              "      <th>1</th>\n",
              "      <td>0.016851</td>\n",
              "    </tr>\n",
              "    <tr>\n",
              "      <th>2</th>\n",
              "      <td>0.021361</td>\n",
              "    </tr>\n",
              "    <tr>\n",
              "      <th>3</th>\n",
              "      <td>0.025655</td>\n",
              "    </tr>\n",
              "    <tr>\n",
              "      <th>4</th>\n",
              "      <td>0.024997</td>\n",
              "    </tr>\n",
              "  </tbody>\n",
              "</table>\n",
              "</div>\n",
              "      <button class=\"colab-df-convert\" onclick=\"convertToInteractive('df-46c663fe-fd3f-43ea-a995-9a732d034818')\"\n",
              "              title=\"Convert this dataframe to an interactive table.\"\n",
              "              style=\"display:none;\">\n",
              "        \n",
              "  <svg xmlns=\"http://www.w3.org/2000/svg\" height=\"24px\"viewBox=\"0 0 24 24\"\n",
              "       width=\"24px\">\n",
              "    <path d=\"M0 0h24v24H0V0z\" fill=\"none\"/>\n",
              "    <path d=\"M18.56 5.44l.94 2.06.94-2.06 2.06-.94-2.06-.94-.94-2.06-.94 2.06-2.06.94zm-11 1L8.5 8.5l.94-2.06 2.06-.94-2.06-.94L8.5 2.5l-.94 2.06-2.06.94zm10 10l.94 2.06.94-2.06 2.06-.94-2.06-.94-.94-2.06-.94 2.06-2.06.94z\"/><path d=\"M17.41 7.96l-1.37-1.37c-.4-.4-.92-.59-1.43-.59-.52 0-1.04.2-1.43.59L10.3 9.45l-7.72 7.72c-.78.78-.78 2.05 0 2.83L4 21.41c.39.39.9.59 1.41.59.51 0 1.02-.2 1.41-.59l7.78-7.78 2.81-2.81c.8-.78.8-2.07 0-2.86zM5.41 20L4 18.59l7.72-7.72 1.47 1.35L5.41 20z\"/>\n",
              "  </svg>\n",
              "      </button>\n",
              "      \n",
              "  <style>\n",
              "    .colab-df-container {\n",
              "      display:flex;\n",
              "      flex-wrap:wrap;\n",
              "      gap: 12px;\n",
              "    }\n",
              "\n",
              "    .colab-df-convert {\n",
              "      background-color: #E8F0FE;\n",
              "      border: none;\n",
              "      border-radius: 50%;\n",
              "      cursor: pointer;\n",
              "      display: none;\n",
              "      fill: #1967D2;\n",
              "      height: 32px;\n",
              "      padding: 0 0 0 0;\n",
              "      width: 32px;\n",
              "    }\n",
              "\n",
              "    .colab-df-convert:hover {\n",
              "      background-color: #E2EBFA;\n",
              "      box-shadow: 0px 1px 2px rgba(60, 64, 67, 0.3), 0px 1px 3px 1px rgba(60, 64, 67, 0.15);\n",
              "      fill: #174EA6;\n",
              "    }\n",
              "\n",
              "    [theme=dark] .colab-df-convert {\n",
              "      background-color: #3B4455;\n",
              "      fill: #D2E3FC;\n",
              "    }\n",
              "\n",
              "    [theme=dark] .colab-df-convert:hover {\n",
              "      background-color: #434B5C;\n",
              "      box-shadow: 0px 1px 3px 1px rgba(0, 0, 0, 0.15);\n",
              "      filter: drop-shadow(0px 1px 2px rgba(0, 0, 0, 0.3));\n",
              "      fill: #FFFFFF;\n",
              "    }\n",
              "  </style>\n",
              "\n",
              "      <script>\n",
              "        const buttonEl =\n",
              "          document.querySelector('#df-46c663fe-fd3f-43ea-a995-9a732d034818 button.colab-df-convert');\n",
              "        buttonEl.style.display =\n",
              "          google.colab.kernel.accessAllowed ? 'block' : 'none';\n",
              "\n",
              "        async function convertToInteractive(key) {\n",
              "          const element = document.querySelector('#df-46c663fe-fd3f-43ea-a995-9a732d034818');\n",
              "          const dataTable =\n",
              "            await google.colab.kernel.invokeFunction('convertToInteractive',\n",
              "                                                     [key], {});\n",
              "          if (!dataTable) return;\n",
              "\n",
              "          const docLinkHtml = 'Like what you see? Visit the ' +\n",
              "            '<a target=\"_blank\" href=https://colab.research.google.com/notebooks/data_table.ipynb>data table notebook</a>'\n",
              "            + ' to learn more about interactive tables.';\n",
              "          element.innerHTML = '';\n",
              "          dataTable['output_type'] = 'display_data';\n",
              "          await google.colab.output.renderOutput(dataTable, element);\n",
              "          const docLink = document.createElement('div');\n",
              "          docLink.innerHTML = docLinkHtml;\n",
              "          element.appendChild(docLink);\n",
              "        }\n",
              "      </script>\n",
              "    </div>\n",
              "  </div>\n",
              "  "
            ],
            "text/plain": [
              "          0\n",
              "0  0.014680\n",
              "1  0.016851\n",
              "2  0.021361\n",
              "3  0.025655\n",
              "4  0.024997"
            ]
          },
          "metadata": {},
          "execution_count": 206
        }
      ]
    },
    {
      "cell_type": "code",
      "source": [
        "def time_series_x_y(timesteps,data):\n",
        "  y=data[timesteps:,:]\n",
        "  x=[]\n",
        "  for i,index in zip(y,range(0,len(y))):\n",
        "    x.append(train_data[0+index:0+index+timesteps])\n",
        "  \n",
        "  x=np.array(x)\n",
        "\n",
        "  return x,y"
      ],
      "metadata": {
        "id": "OlMlb1M4cKjR"
      },
      "execution_count": 207,
      "outputs": []
    },
    {
      "cell_type": "code",
      "source": [
        "timestep = 30\n",
        "x_train,y_train = time_series_x_y(timestep,train_data)"
      ],
      "metadata": {
        "id": "u797NaRldLOH"
      },
      "execution_count": 208,
      "outputs": []
    },
    {
      "cell_type": "code",
      "source": [
        "x_test,y_test = time_series_x_y(timestep,test_data)"
      ],
      "metadata": {
        "id": "zAtMIAXley3c"
      },
      "execution_count": 209,
      "outputs": []
    },
    {
      "cell_type": "code",
      "source": [
        "y_train.shape , x_train.shape"
      ],
      "metadata": {
        "colab": {
          "base_uri": "https://localhost:8080/"
        },
        "id": "RWpnFipNe4yc",
        "outputId": "82960ca4-ac63-4164-cd7c-515320d63ef6"
      },
      "execution_count": 210,
      "outputs": [
        {
          "output_type": "execute_result",
          "data": {
            "text/plain": [
              "((1222, 1), (1222, 30, 1))"
            ]
          },
          "metadata": {},
          "execution_count": 210
        }
      ]
    },
    {
      "cell_type": "code",
      "source": [
        "train_data.shape"
      ],
      "metadata": {
        "colab": {
          "base_uri": "https://localhost:8080/"
        },
        "id": "YJuQqUdtf_6G",
        "outputId": "68d976d2-b543-4325-99b2-bea4b30ce289"
      },
      "execution_count": 211,
      "outputs": [
        {
          "output_type": "execute_result",
          "data": {
            "text/plain": [
              "(1252, 1)"
            ]
          },
          "metadata": {},
          "execution_count": 211
        }
      ]
    },
    {
      "cell_type": "code",
      "source": [
        "from tensorflow.keras.models import Sequential\n",
        "from tensorflow.keras.layers import LSTM,Dense"
      ],
      "metadata": {
        "id": "I4m7IvAUgyAx"
      },
      "execution_count": 212,
      "outputs": []
    },
    {
      "cell_type": "code",
      "source": [
        "model = Sequential()\n",
        "\n",
        "model.add(LSTM(64, return_sequences=True,input_shape=(timestep,1)))\n",
        "model.add(LSTM(32,dropout=0.5))\n",
        "model.add(Dense(1,activation=\"relu\"))\n",
        "\n",
        "model.compile(loss=\"mean_squared_error\",optimizer=\"adam\")\n"
      ],
      "metadata": {
        "id": "lhO1abbghCG6"
      },
      "execution_count": 227,
      "outputs": []
    },
    {
      "cell_type": "code",
      "source": [
        "model.summary()"
      ],
      "metadata": {
        "colab": {
          "base_uri": "https://localhost:8080/"
        },
        "id": "EMzdW-PFhTLz",
        "outputId": "f085f241-4e33-4d10-faac-2159238bd9af"
      },
      "execution_count": 228,
      "outputs": [
        {
          "output_type": "stream",
          "name": "stdout",
          "text": [
            "Model: \"sequential_21\"\n",
            "_________________________________________________________________\n",
            " Layer (type)                Output Shape              Param #   \n",
            "=================================================================\n",
            " lstm_36 (LSTM)              (None, 30, 64)            16896     \n",
            "                                                                 \n",
            " lstm_37 (LSTM)              (None, 32)                12416     \n",
            "                                                                 \n",
            " dense_19 (Dense)            (None, 1)                 33        \n",
            "                                                                 \n",
            "=================================================================\n",
            "Total params: 29,345\n",
            "Trainable params: 29,345\n",
            "Non-trainable params: 0\n",
            "_________________________________________________________________\n"
          ]
        }
      ]
    },
    {
      "cell_type": "code",
      "source": [
        "history=model.fit(x_train,y_train,\n",
        "                  validation_data=(x_test,y_test)\n",
        "                  ,epochs=100\n",
        "                  ,batch_size=64,\n",
        "\n",
        "                  verbose=1)"
      ],
      "metadata": {
        "colab": {
          "base_uri": "https://localhost:8080/"
        },
        "id": "vpcMkKLChtSw",
        "outputId": "8e499bda-34d9-4cf9-d44b-0c8423da71f1"
      },
      "execution_count": null,
      "outputs": [
        {
          "output_type": "stream",
          "name": "stdout",
          "text": [
            "Epoch 1/100\n",
            "20/20 [==============================] - 6s 96ms/step - loss: 0.0212 - val_loss: 0.4337\n",
            "Epoch 2/100\n",
            "20/20 [==============================] - 1s 42ms/step - loss: 0.0033 - val_loss: 0.4038\n",
            "Epoch 3/100\n",
            "20/20 [==============================] - 1s 42ms/step - loss: 0.0013 - val_loss: 0.4318\n",
            "Epoch 4/100\n",
            "20/20 [==============================] - 1s 41ms/step - loss: 0.0012 - val_loss: 0.4284\n",
            "Epoch 5/100\n",
            "20/20 [==============================] - 1s 43ms/step - loss: 0.0011 - val_loss: 0.4217\n",
            "Epoch 6/100\n",
            "20/20 [==============================] - 1s 43ms/step - loss: 0.0010 - val_loss: 0.4287\n",
            "Epoch 7/100\n",
            "20/20 [==============================] - 1s 43ms/step - loss: 0.0010 - val_loss: 0.4284\n",
            "Epoch 8/100\n",
            "20/20 [==============================] - 1s 44ms/step - loss: 9.9569e-04 - val_loss: 0.4212\n",
            "Epoch 9/100\n",
            "20/20 [==============================] - 1s 43ms/step - loss: 9.3848e-04 - val_loss: 0.4231\n",
            "Epoch 10/100\n",
            "20/20 [==============================] - 1s 45ms/step - loss: 9.3563e-04 - val_loss: 0.4285\n",
            "Epoch 11/100\n",
            "20/20 [==============================] - 1s 43ms/step - loss: 8.5526e-04 - val_loss: 0.4282\n",
            "Epoch 12/100\n",
            "20/20 [==============================] - 1s 42ms/step - loss: 8.5412e-04 - val_loss: 0.4135\n",
            "Epoch 13/100\n",
            "20/20 [==============================] - 1s 42ms/step - loss: 9.0155e-04 - val_loss: 0.4331\n",
            "Epoch 14/100\n",
            "20/20 [==============================] - 1s 42ms/step - loss: 8.6421e-04 - val_loss: 0.4253\n",
            "Epoch 15/100\n",
            "20/20 [==============================] - 1s 43ms/step - loss: 8.1517e-04 - val_loss: 0.4258\n",
            "Epoch 16/100\n",
            "20/20 [==============================] - 1s 42ms/step - loss: 7.7801e-04 - val_loss: 0.4328\n",
            "Epoch 17/100\n",
            "20/20 [==============================] - 1s 43ms/step - loss: 7.5213e-04 - val_loss: 0.4240\n",
            "Epoch 18/100\n",
            "20/20 [==============================] - 1s 44ms/step - loss: 7.4783e-04 - val_loss: 0.4241\n",
            "Epoch 19/100\n",
            "20/20 [==============================] - 1s 43ms/step - loss: 7.5566e-04 - val_loss: 0.4252\n",
            "Epoch 20/100\n",
            "20/20 [==============================] - 1s 43ms/step - loss: 7.1664e-04 - val_loss: 0.4282\n",
            "Epoch 21/100\n",
            "20/20 [==============================] - 1s 44ms/step - loss: 7.0226e-04 - val_loss: 0.4300\n",
            "Epoch 22/100\n",
            "20/20 [==============================] - 1s 43ms/step - loss: 7.0701e-04 - val_loss: 0.4231\n",
            "Epoch 23/100\n",
            "20/20 [==============================] - 1s 42ms/step - loss: 7.0804e-04 - val_loss: 0.4228\n",
            "Epoch 24/100\n",
            "20/20 [==============================] - 1s 42ms/step - loss: 6.9899e-04 - val_loss: 0.4351\n",
            "Epoch 25/100\n",
            "20/20 [==============================] - 1s 43ms/step - loss: 6.6344e-04 - val_loss: 0.4245\n",
            "Epoch 26/100\n",
            "20/20 [==============================] - 1s 42ms/step - loss: 6.2538e-04 - val_loss: 0.4345\n",
            "Epoch 27/100\n",
            "20/20 [==============================] - 1s 43ms/step - loss: 6.6873e-04 - val_loss: 0.4399\n",
            "Epoch 28/100\n",
            "20/20 [==============================] - 1s 43ms/step - loss: 7.3387e-04 - val_loss: 0.4190\n",
            "Epoch 29/100\n",
            "20/20 [==============================] - 1s 43ms/step - loss: 6.4599e-04 - val_loss: 0.4402\n",
            "Epoch 30/100\n",
            "20/20 [==============================] - 1s 44ms/step - loss: 7.1389e-04 - val_loss: 0.4436\n",
            "Epoch 31/100\n",
            "20/20 [==============================] - 1s 43ms/step - loss: 8.3316e-04 - val_loss: 0.4333\n",
            "Epoch 32/100\n",
            "20/20 [==============================] - 1s 44ms/step - loss: 6.5638e-04 - val_loss: 0.4357\n",
            "Epoch 33/100\n",
            "20/20 [==============================] - 1s 42ms/step - loss: 6.4878e-04 - val_loss: 0.4269\n",
            "Epoch 34/100\n",
            "20/20 [==============================] - 1s 43ms/step - loss: 5.9071e-04 - val_loss: 0.4241\n",
            "Epoch 35/100\n",
            "20/20 [==============================] - 1s 44ms/step - loss: 5.7724e-04 - val_loss: 0.4284\n",
            "Epoch 36/100\n",
            "20/20 [==============================] - 1s 43ms/step - loss: 5.5390e-04 - val_loss: 0.4360\n",
            "Epoch 37/100\n",
            "20/20 [==============================] - 1s 43ms/step - loss: 6.0344e-04 - val_loss: 0.4334\n",
            "Epoch 38/100\n",
            "20/20 [==============================] - 1s 43ms/step - loss: 5.5890e-04 - val_loss: 0.4209\n",
            "Epoch 39/100\n",
            "20/20 [==============================] - 1s 43ms/step - loss: 5.3542e-04 - val_loss: 0.4345\n",
            "Epoch 40/100\n",
            "20/20 [==============================] - 1s 44ms/step - loss: 5.2814e-04 - val_loss: 0.4390\n",
            "Epoch 41/100\n",
            "20/20 [==============================] - 1s 43ms/step - loss: 6.4208e-04 - val_loss: 0.4275\n",
            "Epoch 42/100\n",
            "20/20 [==============================] - 1s 44ms/step - loss: 5.0718e-04 - val_loss: 0.4302\n",
            "Epoch 43/100\n",
            "20/20 [==============================] - 1s 44ms/step - loss: 5.2079e-04 - val_loss: 0.4364\n",
            "Epoch 44/100\n",
            "20/20 [==============================] - 1s 44ms/step - loss: 4.9944e-04 - val_loss: 0.4307\n",
            "Epoch 45/100\n",
            "20/20 [==============================] - 1s 43ms/step - loss: 4.8830e-04 - val_loss: 0.4242\n",
            "Epoch 46/100\n",
            "20/20 [==============================] - 1s 42ms/step - loss: 5.0303e-04 - val_loss: 0.4271\n",
            "Epoch 47/100\n",
            "20/20 [==============================] - 1s 43ms/step - loss: 5.1601e-04 - val_loss: 0.4354\n",
            "Epoch 48/100\n",
            "20/20 [==============================] - 1s 42ms/step - loss: 4.7535e-04 - val_loss: 0.4403\n",
            "Epoch 49/100\n",
            "20/20 [==============================] - 1s 42ms/step - loss: 4.8360e-04 - val_loss: 0.4326\n",
            "Epoch 50/100\n",
            "20/20 [==============================] - 1s 42ms/step - loss: 4.8672e-04 - val_loss: 0.4350\n",
            "Epoch 51/100\n",
            "20/20 [==============================] - 1s 43ms/step - loss: 4.5202e-04 - val_loss: 0.4358\n",
            "Epoch 52/100\n",
            "20/20 [==============================] - 1s 43ms/step - loss: 4.5555e-04 - val_loss: 0.4373\n",
            "Epoch 53/100\n",
            "20/20 [==============================] - 1s 44ms/step - loss: 4.4461e-04 - val_loss: 0.4313\n",
            "Epoch 54/100\n",
            "20/20 [==============================] - 1s 43ms/step - loss: 4.3495e-04 - val_loss: 0.4338\n",
            "Epoch 55/100\n",
            "20/20 [==============================] - 1s 45ms/step - loss: 4.6503e-04 - val_loss: 0.4320\n",
            "Epoch 56/100\n",
            "20/20 [==============================] - 1s 43ms/step - loss: 4.3757e-04 - val_loss: 0.4316\n",
            "Epoch 57/100\n",
            "20/20 [==============================] - 1s 43ms/step - loss: 4.2132e-04 - val_loss: 0.4377\n",
            "Epoch 58/100\n",
            "20/20 [==============================] - 1s 43ms/step - loss: 4.2347e-04 - val_loss: 0.4211\n",
            "Epoch 59/100\n",
            "20/20 [==============================] - 1s 42ms/step - loss: 4.6217e-04 - val_loss: 0.4238\n",
            "Epoch 60/100\n",
            "20/20 [==============================] - 1s 42ms/step - loss: 4.4326e-04 - val_loss: 0.4365\n",
            "Epoch 61/100\n",
            "20/20 [==============================] - 1s 44ms/step - loss: 4.7260e-04 - val_loss: 0.4276\n",
            "Epoch 62/100\n",
            "20/20 [==============================] - 1s 44ms/step - loss: 4.1030e-04 - val_loss: 0.4384\n",
            "Epoch 63/100\n",
            "20/20 [==============================] - 1s 45ms/step - loss: 4.2487e-04 - val_loss: 0.4270\n",
            "Epoch 64/100\n",
            "20/20 [==============================] - 1s 45ms/step - loss: 4.3994e-04 - val_loss: 0.4340\n",
            "Epoch 65/100\n",
            "20/20 [==============================] - 1s 44ms/step - loss: 4.3617e-04 - val_loss: 0.4204\n",
            "Epoch 66/100\n",
            "20/20 [==============================] - 1s 44ms/step - loss: 4.0720e-04 - val_loss: 0.4312\n",
            "Epoch 67/100\n",
            "20/20 [==============================] - 1s 45ms/step - loss: 4.2053e-04 - val_loss: 0.4258\n",
            "Epoch 68/100\n",
            "20/20 [==============================] - 1s 43ms/step - loss: 4.2953e-04 - val_loss: 0.4284\n",
            "Epoch 69/100\n",
            "20/20 [==============================] - 1s 43ms/step - loss: 3.9229e-04 - val_loss: 0.4342\n",
            "Epoch 70/100\n",
            "20/20 [==============================] - 1s 43ms/step - loss: 3.9925e-04 - val_loss: 0.4311\n",
            "Epoch 71/100\n",
            "20/20 [==============================] - 1s 42ms/step - loss: 3.7755e-04 - val_loss: 0.4241\n",
            "Epoch 72/100\n",
            "20/20 [==============================] - 1s 44ms/step - loss: 4.1381e-04 - val_loss: 0.4313\n",
            "Epoch 73/100\n",
            "20/20 [==============================] - 1s 43ms/step - loss: 4.1090e-04 - val_loss: 0.4283\n",
            "Epoch 74/100\n",
            "20/20 [==============================] - 1s 46ms/step - loss: 4.1072e-04 - val_loss: 0.4276\n",
            "Epoch 75/100\n",
            "20/20 [==============================] - 1s 45ms/step - loss: 3.7922e-04 - val_loss: 0.4278\n",
            "Epoch 76/100\n",
            "20/20 [==============================] - 1s 44ms/step - loss: 3.8517e-04 - val_loss: 0.4327\n",
            "Epoch 77/100\n",
            "20/20 [==============================] - 1s 44ms/step - loss: 3.7401e-04 - val_loss: 0.4337\n",
            "Epoch 78/100\n",
            "20/20 [==============================] - 1s 45ms/step - loss: 3.8184e-04 - val_loss: 0.4301\n",
            "Epoch 79/100\n",
            "20/20 [==============================] - 1s 44ms/step - loss: 4.3538e-04 - val_loss: 0.4310\n",
            "Epoch 80/100\n",
            "20/20 [==============================] - 1s 44ms/step - loss: 4.2480e-04 - val_loss: 0.4388\n",
            "Epoch 81/100\n",
            "20/20 [==============================] - 1s 46ms/step - loss: 4.0130e-04 - val_loss: 0.4299\n",
            "Epoch 82/100\n",
            "20/20 [==============================] - 1s 44ms/step - loss: 3.6084e-04 - val_loss: 0.4361\n",
            "Epoch 83/100\n",
            "20/20 [==============================] - 1s 42ms/step - loss: 3.8486e-04 - val_loss: 0.4314\n",
            "Epoch 84/100\n",
            "20/20 [==============================] - 1s 43ms/step - loss: 3.4812e-04 - val_loss: 0.4274\n",
            "Epoch 85/100\n",
            "20/20 [==============================] - 1s 44ms/step - loss: 3.8360e-04 - val_loss: 0.4361\n",
            "Epoch 86/100\n",
            "20/20 [==============================] - 1s 45ms/step - loss: 3.8268e-04 - val_loss: 0.4222\n",
            "Epoch 87/100\n",
            "20/20 [==============================] - 1s 45ms/step - loss: 3.5484e-04 - val_loss: 0.4354\n",
            "Epoch 88/100\n",
            "20/20 [==============================] - 1s 45ms/step - loss: 3.7281e-04 - val_loss: 0.4289\n",
            "Epoch 89/100\n",
            "20/20 [==============================] - 1s 44ms/step - loss: 3.5468e-04 - val_loss: 0.4365\n",
            "Epoch 90/100\n",
            "20/20 [==============================] - 1s 44ms/step - loss: 3.3992e-04 - val_loss: 0.4378\n",
            "Epoch 91/100\n",
            "20/20 [==============================] - 1s 44ms/step - loss: 3.5598e-04 - val_loss: 0.4290\n",
            "Epoch 92/100\n",
            "20/20 [==============================] - 1s 44ms/step - loss: 3.5200e-04 - val_loss: 0.4286\n",
            "Epoch 93/100\n",
            "20/20 [==============================] - 1s 43ms/step - loss: 3.6516e-04 - val_loss: 0.4270\n",
            "Epoch 94/100\n",
            "20/20 [==============================] - 1s 46ms/step - loss: 3.3215e-04 - val_loss: 0.4338\n",
            "Epoch 95/100\n",
            "20/20 [==============================] - 1s 45ms/step - loss: 3.7575e-04 - val_loss: 0.4386\n",
            "Epoch 96/100\n",
            "20/20 [==============================] - 1s 44ms/step - loss: 4.0103e-04 - val_loss: 0.4253\n",
            "Epoch 97/100\n",
            "20/20 [==============================] - 1s 45ms/step - loss: 3.4394e-04 - val_loss: 0.4404\n",
            "Epoch 98/100\n",
            "20/20 [==============================] - 1s 44ms/step - loss: 3.7400e-04 - val_loss: 0.4277\n",
            "Epoch 99/100\n",
            "20/20 [==============================] - 1s 44ms/step - loss: 3.2155e-04 - val_loss: 0.4229\n",
            "Epoch 100/100\n",
            "20/20 [==============================] - 1s 44ms/step - loss: 4.1281e-04 - val_loss: 0.4376\n"
          ]
        }
      ]
    },
    {
      "cell_type": "code",
      "source": [
        "def plot_history(history,label,parameter):\n",
        "  plt.figure()\n",
        "  plt.plot(history.history[parameter],label=label+\" loss\")\n",
        "  plt.plot(history.history[\"val_\"+parameter],label=label+\" val loss\")\n",
        "  plt.xlabel(\"Epochs\")\n",
        "  plt.ylabel(\"Loss\")\n",
        "  plt.legend()\n",
        "  plt.show()"
      ],
      "metadata": {
        "id": "4-3Rvf0OjBga"
      },
      "execution_count": 226,
      "outputs": []
    },
    {
      "cell_type": "code",
      "source": [
        "plot_history(history,\"train\",\"loss\")"
      ],
      "metadata": {
        "colab": {
          "base_uri": "https://localhost:8080/",
          "height": 279
        },
        "id": "ct3ajeiAkopO",
        "outputId": "30b09717-8c72-409e-c17f-2141be0b21ec"
      },
      "execution_count": 217,
      "outputs": [
        {
          "output_type": "display_data",
          "data": {
            "image/png": "[encoded data removed]",
            "text/plain": [
              "<Figure size 432x288 with 1 Axes>"
            ]
          },
          "metadata": {
            "needs_background": "light"
          }
        }
      ]
    },
    {
      "cell_type": "code",
      "source": [
        "train_predict = model.predict(x_train)\n",
        "test_predict = model.predict(x_test)"
      ],
      "metadata": {
        "id": "QyZBdZj5k_fy"
      },
      "execution_count": 218,
      "outputs": []
    },
    {
      "cell_type": "code",
      "source": [
        "plt.plot(y_train)"
      ],
      "metadata": {
        "colab": {
          "base_uri": "https://localhost:8080/",
          "height": 283
        },
        "id": "xzReKL8tlEpw",
        "outputId": "232ec631-f7b5-4281-c689-2a72aadafccf"
      },
      "execution_count": 219,
      "outputs": [
        {
          "output_type": "execute_result",
          "data": {
            "text/plain": [
              "[<matplotlib.lines.Line2D at 0x7f8a8552f890>]"
            ]
          },
          "metadata": {},
          "execution_count": 219
        },
        {
          "output_type": "display_data",
          "data": {
            "image/png": "[encoded data removed]",
            "text/plain": [
              "<Figure size 432x288 with 1 Axes>"
            ]
          },
          "metadata": {
            "needs_background": "light"
          }
        }
      ]
    },
    {
      "cell_type": "code",
      "source": [
        "plt.plot(train_predict)"
      ],
      "metadata": {
        "colab": {
          "base_uri": "https://localhost:8080/",
          "height": 282
        },
        "id": "aZMqJ3Sglz4K",
        "outputId": "7e491b23-e04d-4cfa-b072-bfffac0a8a60"
      },
      "execution_count": 220,
      "outputs": [
        {
          "output_type": "execute_result",
          "data": {
            "text/plain": [
              "[<matplotlib.lines.Line2D at 0x7f8a82574390>]"
            ]
          },
          "metadata": {},
          "execution_count": 220
        },
        {
          "output_type": "display_data",
          "data": {
            "image/png": "[encoded data removed]",
            "text/plain": [
              "<Figure size 432x288 with 1 Axes>"
            ]
          },
          "metadata": {
            "needs_background": "light"
          }
        }
      ]
    },
    {
      "cell_type": "code",
      "source": [
        "plt.plot(test_predict)\n",
        "plt.plot(y_test)"
      ],
      "metadata": {
        "colab": {
          "base_uri": "https://localhost:8080/",
          "height": 282
        },
        "id": "JsBw6c9xmPsg",
        "outputId": "d164289a-c70a-43c3-a6aa-f8ab97bc2efb"
      },
      "execution_count": 221,
      "outputs": [
        {
          "output_type": "execute_result",
          "data": {
            "text/plain": [
              "[<matplotlib.lines.Line2D at 0x7f8a8234ab90>]"
            ]
          },
          "metadata": {},
          "execution_count": 221
        },
        {
          "output_type": "display_data",
          "data": {
            "image/png": "[encoded data removed]",
            "text/plain": [
              "<Figure size 432x288 with 1 Axes>"
            ]
          },
          "metadata": {
            "needs_background": "light"
          }
        }
      ]
    },
    {
      "cell_type": "code",
      "source": [
        "plt.plot(scalar.inverse_transform(test_predict))\n",
        "plt.plot(scalar.inverse_transform(y_test))"
      ],
      "metadata": {
        "colab": {
          "base_uri": "https://localhost:8080/",
          "height": 282
        },
        "id": "rpYxcQAMmWuY",
        "outputId": "eb590235-e121-46a0-badb-46acaceaf8ae"
      },
      "execution_count": 222,
      "outputs": [
        {
          "output_type": "execute_result",
          "data": {
            "text/plain": [
              "[<matplotlib.lines.Line2D at 0x7f8a8554d750>]"
            ]
          },
          "metadata": {},
          "execution_count": 222
        },
        {
          "output_type": "display_data",
          "data": {
            "image/png": "[encoded data removed]",
            "text/plain": [
              "<Figure size 432x288 with 1 Axes>"
            ]
          },
          "metadata": {
            "needs_background": "light"
          }
        }
      ]
    },
    {
      "cell_type": "code",
      "source": [
        ""
      ],
      "metadata": {
        "id": "CqyJOFLqqTRH"
      },
      "execution_count": 222,
      "outputs": []
    }
  ]
}