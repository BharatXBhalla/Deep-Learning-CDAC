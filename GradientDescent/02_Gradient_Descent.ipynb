{
  "nbformat": 4,
  "nbformat_minor": 0,
  "metadata": {
    "colab": {
      "name": "02_Gradient_Descent.ipynb",
      "provenance": [],
      "collapsed_sections": [],
      "authorship_tag": "ABX9TyMis6rz9mv2v4ELC+0SDgGH",
      "include_colab_link": true
    },
    "kernelspec": {
      "name": "python3",
      "display_name": "Python 3"
    },
    "language_info": {
      "name": "python"
    }
  },
  "cells": [
    {
      "cell_type": "markdown",
      "metadata": {
        "id": "view-in-github",
        "colab_type": "text"
      },
      "source": [
        "<a href=\"https://colab.research.google.com/github/BharatXBhalla/Deep-Learning-CDAC/blob/main/GradientDescent/02_Gradient_Descent.ipynb\" target=\"_parent\"><img src=\"https://colab.research.google.com/assets/colab-badge.svg\" alt=\"Open In Colab\"/></a>"
      ]
    },
    {
      "cell_type": "code",
      "execution_count": 1,
      "metadata": {
        "id": "mjG9q8y3IiTB"
      },
      "outputs": [],
      "source": [
        "import numpy as np"
      ]
    },
    {
      "cell_type": "code",
      "source": [
        "x = [2,4,6]\n",
        "y = [11,13,20]"
      ],
      "metadata": {
        "id": "q5uN-KTiIpG7"
      },
      "execution_count": 2,
      "outputs": []
    },
    {
      "cell_type": "code",
      "source": [
        "b0=0\n",
        "b1=0\n",
        "lr=0.01"
      ],
      "metadata": {
        "id": "VVOyc91SIwfk"
      },
      "execution_count": 31,
      "outputs": []
    },
    {
      "cell_type": "code",
      "source": [
        "yp=[]\n",
        "MSE = 0\n",
        "y_yp_x=0\n",
        "y_yp=0"
      ],
      "metadata": {
        "id": "VL4Eusg1Iysg"
      },
      "execution_count": 32,
      "outputs": []
    },
    {
      "cell_type": "code",
      "source": [
        "for e in range(0,1000):\n",
        "  yp=[]\n",
        "  MSE = 0\n",
        "  y_yp_x=0\n",
        "  y_yp=0\n",
        "  for r in range(0,len(x)):\n",
        "    temp = b0 + b1*x[r]\n",
        "    yp.append(temp)\n",
        "    MSE = MSE + (y[r]-yp[r])**2\n",
        "    y_yp_x = y_yp_x + (y[r] - yp[r] )*x[r]\n",
        "    y_yp = y_yp + (y[r] - yp[r] )\n",
        "  \n",
        "  MSE = MSE /len(x)\n",
        "  if(e%100==0):\n",
        "    print(\"Epoch \",e)\n",
        "    print(MSE)\n",
        "  y_yp_x = (-2/len(x))*y_yp_x\n",
        "  y_yp = (-2/len(x)) * y_yp\n",
        "  b0 = b0 -y_yp*lr\n",
        "  b1 = b1 -y_yp_x*lr\n"
      ],
      "metadata": {
        "colab": {
          "base_uri": "https://localhost:8080/"
        },
        "id": "4_nZVMblIzxB",
        "outputId": "d8332410-8b1a-44af-8f57-a8ee09a4c440"
      },
      "execution_count": 39,
      "outputs": [
        {
          "output_type": "stream",
          "name": "stdout",
          "text": [
            "Epoch  0\n",
            "1.3938326397672023\n",
            "Epoch  100\n",
            "1.3917500068690583\n",
            "Epoch  200\n",
            "1.3905447158708606\n",
            "Epoch  300\n",
            "1.3898471726832755\n",
            "Epoch  400\n",
            "1.3894434805464606\n",
            "Epoch  500\n",
            "1.389209850078518\n",
            "Epoch  600\n",
            "1.3890746401237688\n",
            "Epoch  700\n",
            "1.3889963894913728\n",
            "Epoch  800\n",
            "1.388951103169952\n",
            "Epoch  900\n",
            "1.3889248944244719\n"
          ]
        }
      ]
    },
    {
      "cell_type": "code",
      "source": [
        "b0 + b1*np.array(x)"
      ],
      "metadata": {
        "colab": {
          "base_uri": "https://localhost:8080/"
        },
        "id": "r0UEW0FDI-a0",
        "outputId": "c0167708-c674-4cf8-9919-168be79c9252"
      },
      "execution_count": 40,
      "outputs": [
        {
          "output_type": "execute_result",
          "data": {
            "text/plain": [
              "array([10.15980456, 14.66501787, 19.17023119])"
            ]
          },
          "metadata": {},
          "execution_count": 40
        }
      ]
    },
    {
      "cell_type": "code",
      "source": [
        "  y"
      ],
      "metadata": {
        "colab": {
          "base_uri": "https://localhost:8080/"
        },
        "id": "kICFLWs4KChF",
        "outputId": "cdf991f6-e04b-4f3c-fd7e-871a46527a53"
      },
      "execution_count": 27,
      "outputs": [
        {
          "output_type": "execute_result",
          "data": {
            "text/plain": [
              "[11, 13, 20]"
            ]
          },
          "metadata": {},
          "execution_count": 27
        }
      ]
    },
    {
      "cell_type": "code",
      "source": [
        ""
      ],
      "metadata": {
        "id": "cm-mEcRrL8jC"
      },
      "execution_count": 14,
      "outputs": []
    },
    {
      "cell_type": "code",
      "source": [
        ""
      ],
      "metadata": {
        "id": "y1oIJc1IMU54"
      },
      "execution_count": null,
      "outputs": []
    }
  ]
}