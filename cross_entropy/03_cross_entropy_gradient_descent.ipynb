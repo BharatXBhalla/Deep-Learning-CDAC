{
  "nbformat": 4,
  "nbformat_minor": 0,
  "metadata": {
    "colab": {
      "name": "03_cross_entropy_gradient_descent.ipynb",
      "provenance": [],
      "collapsed_sections": [],
      "authorship_tag": "ABX9TyN0r2+nsBwdlypdX07wFbAU",
      "include_colab_link": true
    },
    "kernelspec": {
      "name": "python3",
      "display_name": "Python 3"
    },
    "language_info": {
      "name": "python"
    }
  },
  "cells": [
    {
      "cell_type": "markdown",
      "metadata": {
        "id": "view-in-github",
        "colab_type": "text"
      },
      "source": [
        "<a href=\"https://colab.research.google.com/github/BharatXBhalla/Deep-Learning-CDAC/blob/main/cross_entropy/03_cross_entropy_gradient_descent.ipynb\" target=\"_parent\"><img src=\"https://colab.research.google.com/assets/colab-badge.svg\" alt=\"Open In Colab\"/></a>"
      ]
    },
    {
      "cell_type": "code",
      "execution_count": 2,
      "metadata": {
        "id": "F9G1oedlEZd4"
      },
      "outputs": [],
      "source": [
        "import numpy as np\n",
        "import matplotlib.pyplot as plt\n",
        "import math\n",
        "import numpy as np\n",
        "from scipy.stats import entropy"
      ]
    },
    {
      "cell_type": "code",
      "source": [
        "def sigmoid(x):\n",
        "  return 1/(1+np.exp(-x))"
      ],
      "metadata": {
        "id": "mVyTMGk1D0IW"
      },
      "execution_count": 65,
      "outputs": []
    },
    {
      "cell_type": "code",
      "source": [
        "x1 = [0,0,1]\n",
        "x2 = [0,1,0]\n",
        "y=[0,1,1]"
      ],
      "metadata": {
        "id": "66vHqtAkEm_k"
      },
      "execution_count": 52,
      "outputs": []
    },
    {
      "cell_type": "code",
      "source": [
        "lr =0.01"
      ],
      "metadata": {
        "id": "2KfxDGGSEykD"
      },
      "execution_count": 53,
      "outputs": []
    },
    {
      "cell_type": "code",
      "source": [
        "w1=0\n",
        "w2=0"
      ],
      "metadata": {
        "id": "dHUracKsEz-5"
      },
      "execution_count": 54,
      "outputs": []
    },
    {
      "cell_type": "code",
      "source": [
        "epochs =10000"
      ],
      "metadata": {
        "id": "0P0Fgq7lE3Ed"
      },
      "execution_count": 55,
      "outputs": []
    },
    {
      "cell_type": "code",
      "source": [
        "for e in range(epochs):\n",
        "  yp=[]\n",
        "  Cross_Entropy = 0\n",
        "  w1_grad = 0\n",
        "  w2_grad = 0\n",
        "  for r in range(0,len(x1)):\n",
        "\n",
        "    temp = w1*x1[r]+w2*x2[r]\n",
        "\n",
        "    t= 1/(1+math.exp(-temp))\n",
        "\n",
        "    yp.append(t)\n",
        "\n",
        "    Cross_Entropy = Cross_Entropy - (1-y[r])*math.log(1-t,2)-(y[r])*math.log(t,2)\n",
        "\n",
        "    w1_grad=w1_grad + x1[r]*(t-y[r])\n",
        "    w2_grad=w1_grad + x2[r]*(t-y[r])\n",
        "\n",
        "  if e%1000==0:\n",
        "    print(\"w1 = \",w1,\" w2= \",w2,\" Cross_Entropy =\",Cross_Entropy)\n",
        "  w2 = w2 - lr * w2_grad\n",
        "  w1 = w1 - lr * w1_grad\n",
        "\n",
        "print(sigmoid(np.array(x1)*w1+np.array(x2)*w2))\n",
        "\n",
        "\n",
        "\n"
      ],
      "metadata": {
        "colab": {
          "base_uri": "https://localhost:8080/"
        },
        "id": "a9V-REr3E8jk",
        "outputId": "be16fbb2-fd57-4d6b-be1a-9241f1193833"
      },
      "execution_count": 66,
      "outputs": [
        {
          "output_type": "stream",
          "name": "stdout",
          "text": [
            "w1 =  5.276818566591461  w2=  5.276818566591461  Cross_Entropy = 1.0147029463427177\n",
            "w1 =  5.3264032032392965  w2=  5.3264032032392965  Cross_Entropy = 1.0139934074761476\n",
            "w1 =  5.373655680343361  w2=  5.373655680343361  Cross_Entropy = 1.0133490549623132\n",
            "w1 =  5.418785107757772  w2=  5.418785107757772  Cross_Entropy = 1.0127613119558982\n",
            "w1 =  5.461973710117939  w2=  5.461973710117939  Cross_Entropy = 1.0122230416533307\n",
            "w1 =  5.503381242651516  w2=  5.503381242651516  Cross_Entropy = 1.01172825745321\n",
            "w1 =  5.543148536666167  w2=  5.543148536666167  Cross_Entropy = 1.0112719003727815\n",
            "w1 =  5.581400372658244  w2=  5.581400372658244  Cross_Entropy = 1.0108496661990625\n",
            "w1 =  5.618247828399712  w2=  5.618247828399712  Cross_Entropy = 1.0104578698808173\n",
            "w1 =  5.65379021302449  w2=  5.65379021302449  Cross_Entropy = 1.0100933381289137\n",
            "[0.5        0.99662546 0.99662546]\n"
          ]
        }
      ]
    },
    {
      "cell_type": "code",
      "source": [
        "1/(1+math.exp(-(w1+w2)))"
      ],
      "metadata": {
        "id": "zLAngs2qF1y2",
        "colab": {
          "base_uri": "https://localhost:8080/"
        },
        "outputId": "27d1dbd3-628b-4c67-988e-9fe6fe284c4b"
      },
      "execution_count": 67,
      "outputs": [
        {
          "output_type": "execute_result",
          "data": {
            "text/plain": [
              "0.9999885353802466"
            ]
          },
          "metadata": {},
          "execution_count": 67
        }
      ]
    },
    {
      "cell_type": "code",
      "source": [
        ""
      ],
      "metadata": {
        "id": "5k9Etq6uCPtd"
      },
      "execution_count": null,
      "outputs": []
    }
  ]
}