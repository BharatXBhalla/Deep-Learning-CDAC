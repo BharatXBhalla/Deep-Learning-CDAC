{
  "nbformat": 4,
  "nbformat_minor": 0,
  "metadata": {
    "colab": {
      "name": "Rain in Austrailia Using Rnn.ipynb",
      "provenance": [],
      "collapsed_sections": [],
      "authorship_tag": "ABX9TyMgBYp9q48zo9npKPx7QZbe",
      "include_colab_link": true
    },
    "kernelspec": {
      "name": "python3",
      "display_name": "Python 3"
    },
    "language_info": {
      "name": "python"
    }
  },
  "cells": [
    {
      "cell_type": "markdown",
      "metadata": {
        "id": "view-in-github",
        "colab_type": "text"
      },
      "source": [
        "<a href=\"https://colab.research.google.com/github/BharatXBhalla/Deep-Learning-CDAC/blob/main/Rnn/Rain_in_Austrailia_Using_Rnn.ipynb\" target=\"_parent\"><img src=\"https://colab.research.google.com/assets/colab-badge.svg\" alt=\"Open In Colab\"/></a>"
      ]
    },
    {
      "cell_type": "code",
      "execution_count": 1,
      "metadata": {
        "id": "IC_rEiN_fNad"
      },
      "outputs": [],
      "source": [
        "import numpy as np\n",
        "import pandas as pd\n",
        "from tensorflow import keras\n",
        "from keras import Input\n",
        "from keras.layers import Dense,SimpleRNN\n",
        "import matplotlib.pyplot as plt"
      ]
    },
    {
      "cell_type": "code",
      "source": [
        "from sklearn.model_selection import train_test_split\n",
        "from sklearn.metrics import mean_squared_error\n",
        "from sklearn.preprocessing import MinMaxScaler\n",
        "import plotly\n",
        "import plotly.express as ex\n",
        "import plotly.graph_objects as go"
      ],
      "metadata": {
        "id": "GT-DgARwf0jm"
      },
      "execution_count": 2,
      "outputs": []
    },
    {
      "cell_type": "code",
      "source": [
        "pd.options.display.max_columns=50"
      ],
      "metadata": {
        "id": "EUOEbsVAgiU9"
      },
      "execution_count": 3,
      "outputs": []
    },
    {
      "cell_type": "code",
      "source": [
        "df=pd.read_csv(\"/weatherAUS.csv\",encoding=\"utf-8\")"
      ],
      "metadata": {
        "id": "osZEa-1uhWr7"
      },
      "execution_count": 4,
      "outputs": []
    },
    {
      "cell_type": "code",
      "source": [
        "df.head()"
      ],
      "metadata": {
        "colab": {
          "base_uri": "https://localhost:8080/",
          "height": 357
        },
        "id": "_-xLLFNYhjiF",
        "outputId": "44e0f04d-5eac-45c9-a559-bc1cb4c3eb59"
      },
      "execution_count": 5,
      "outputs": [
        {
          "output_type": "execute_result",
          "data": {
            "text/html": [
              "\n",
              "  <div id=\"df-a96f5741-0b2f-4941-ba22-c6d05c1f5d1e\">\n",
              "    <div class=\"colab-df-container\">\n",
              "      <div>\n",
              "<style scoped>\n",
              "    .dataframe tbody tr th:only-of-type {\n",
              "        vertical-align: middle;\n",
              "    }\n",
              "\n",
              "    .dataframe tbody tr th {\n",
              "        vertical-align: top;\n",
              "    }\n",
              "\n",
              "    .dataframe thead th {\n",
              "        text-align: right;\n",
              "    }\n",
              "</style>\n",
              "<table border=\"1\" class=\"dataframe\">\n",
              "  <thead>\n",
              "    <tr style=\"text-align: right;\">\n",
              "      <th></th>\n",
              "      <th>Date</th>\n",
              "      <th>Location</th>\n",
              "      <th>MinTemp</th>\n",
              "      <th>MaxTemp</th>\n",
              "      <th>Rainfall</th>\n",
              "      <th>Evaporation</th>\n",
              "      <th>Sunshine</th>\n",
              "      <th>WindGustDir</th>\n",
              "      <th>WindGustSpeed</th>\n",
              "      <th>WindDir9am</th>\n",
              "      <th>WindDir3pm</th>\n",
              "      <th>WindSpeed9am</th>\n",
              "      <th>WindSpeed3pm</th>\n",
              "      <th>Humidity9am</th>\n",
              "      <th>Humidity3pm</th>\n",
              "      <th>Pressure9am</th>\n",
              "      <th>Pressure3pm</th>\n",
              "      <th>Cloud9am</th>\n",
              "      <th>Cloud3pm</th>\n",
              "      <th>Temp9am</th>\n",
              "      <th>Temp3pm</th>\n",
              "      <th>RainToday</th>\n",
              "      <th>RainTomorrow</th>\n",
              "    </tr>\n",
              "  </thead>\n",
              "  <tbody>\n",
              "    <tr>\n",
              "      <th>0</th>\n",
              "      <td>2008-12-01</td>\n",
              "      <td>Albury</td>\n",
              "      <td>13.4</td>\n",
              "      <td>22.9</td>\n",
              "      <td>0.6</td>\n",
              "      <td>NaN</td>\n",
              "      <td>NaN</td>\n",
              "      <td>W</td>\n",
              "      <td>44.0</td>\n",
              "      <td>W</td>\n",
              "      <td>WNW</td>\n",
              "      <td>20.0</td>\n",
              "      <td>24.0</td>\n",
              "      <td>71.0</td>\n",
              "      <td>22.0</td>\n",
              "      <td>1007.7</td>\n",
              "      <td>1007.1</td>\n",
              "      <td>8.0</td>\n",
              "      <td>NaN</td>\n",
              "      <td>16.9</td>\n",
              "      <td>21.8</td>\n",
              "      <td>No</td>\n",
              "      <td>No</td>\n",
              "    </tr>\n",
              "    <tr>\n",
              "      <th>1</th>\n",
              "      <td>2008-12-02</td>\n",
              "      <td>Albury</td>\n",
              "      <td>7.4</td>\n",
              "      <td>25.1</td>\n",
              "      <td>0.0</td>\n",
              "      <td>NaN</td>\n",
              "      <td>NaN</td>\n",
              "      <td>WNW</td>\n",
              "      <td>44.0</td>\n",
              "      <td>NNW</td>\n",
              "      <td>WSW</td>\n",
              "      <td>4.0</td>\n",
              "      <td>22.0</td>\n",
              "      <td>44.0</td>\n",
              "      <td>25.0</td>\n",
              "      <td>1010.6</td>\n",
              "      <td>1007.8</td>\n",
              "      <td>NaN</td>\n",
              "      <td>NaN</td>\n",
              "      <td>17.2</td>\n",
              "      <td>24.3</td>\n",
              "      <td>No</td>\n",
              "      <td>No</td>\n",
              "    </tr>\n",
              "    <tr>\n",
              "      <th>2</th>\n",
              "      <td>2008-12-03</td>\n",
              "      <td>Albury</td>\n",
              "      <td>12.9</td>\n",
              "      <td>25.7</td>\n",
              "      <td>0.0</td>\n",
              "      <td>NaN</td>\n",
              "      <td>NaN</td>\n",
              "      <td>WSW</td>\n",
              "      <td>46.0</td>\n",
              "      <td>W</td>\n",
              "      <td>WSW</td>\n",
              "      <td>19.0</td>\n",
              "      <td>26.0</td>\n",
              "      <td>38.0</td>\n",
              "      <td>30.0</td>\n",
              "      <td>1007.6</td>\n",
              "      <td>1008.7</td>\n",
              "      <td>NaN</td>\n",
              "      <td>2.0</td>\n",
              "      <td>21.0</td>\n",
              "      <td>23.2</td>\n",
              "      <td>No</td>\n",
              "      <td>No</td>\n",
              "    </tr>\n",
              "    <tr>\n",
              "      <th>3</th>\n",
              "      <td>2008-12-04</td>\n",
              "      <td>Albury</td>\n",
              "      <td>9.2</td>\n",
              "      <td>28.0</td>\n",
              "      <td>0.0</td>\n",
              "      <td>NaN</td>\n",
              "      <td>NaN</td>\n",
              "      <td>NE</td>\n",
              "      <td>24.0</td>\n",
              "      <td>SE</td>\n",
              "      <td>E</td>\n",
              "      <td>11.0</td>\n",
              "      <td>9.0</td>\n",
              "      <td>45.0</td>\n",
              "      <td>16.0</td>\n",
              "      <td>1017.6</td>\n",
              "      <td>1012.8</td>\n",
              "      <td>NaN</td>\n",
              "      <td>NaN</td>\n",
              "      <td>18.1</td>\n",
              "      <td>26.5</td>\n",
              "      <td>No</td>\n",
              "      <td>No</td>\n",
              "    </tr>\n",
              "    <tr>\n",
              "      <th>4</th>\n",
              "      <td>2008-12-05</td>\n",
              "      <td>Albury</td>\n",
              "      <td>17.5</td>\n",
              "      <td>32.3</td>\n",
              "      <td>1.0</td>\n",
              "      <td>NaN</td>\n",
              "      <td>NaN</td>\n",
              "      <td>W</td>\n",
              "      <td>41.0</td>\n",
              "      <td>ENE</td>\n",
              "      <td>NW</td>\n",
              "      <td>7.0</td>\n",
              "      <td>20.0</td>\n",
              "      <td>82.0</td>\n",
              "      <td>33.0</td>\n",
              "      <td>1010.8</td>\n",
              "      <td>1006.0</td>\n",
              "      <td>7.0</td>\n",
              "      <td>8.0</td>\n",
              "      <td>17.8</td>\n",
              "      <td>29.7</td>\n",
              "      <td>No</td>\n",
              "      <td>No</td>\n",
              "    </tr>\n",
              "  </tbody>\n",
              "</table>\n",
              "</div>\n",
              "      <button class=\"colab-df-convert\" onclick=\"convertToInteractive('df-a96f5741-0b2f-4941-ba22-c6d05c1f5d1e')\"\n",
              "              title=\"Convert this dataframe to an interactive table.\"\n",
              "              style=\"display:none;\">\n",
              "        \n",
              "  <svg xmlns=\"http://www.w3.org/2000/svg\" height=\"24px\"viewBox=\"0 0 24 24\"\n",
              "       width=\"24px\">\n",
              "    <path d=\"M0 0h24v24H0V0z\" fill=\"none\"/>\n",
              "    <path d=\"M18.56 5.44l.94 2.06.94-2.06 2.06-.94-2.06-.94-.94-2.06-.94 2.06-2.06.94zm-11 1L8.5 8.5l.94-2.06 2.06-.94-2.06-.94L8.5 2.5l-.94 2.06-2.06.94zm10 10l.94 2.06.94-2.06 2.06-.94-2.06-.94-.94-2.06-.94 2.06-2.06.94z\"/><path d=\"M17.41 7.96l-1.37-1.37c-.4-.4-.92-.59-1.43-.59-.52 0-1.04.2-1.43.59L10.3 9.45l-7.72 7.72c-.78.78-.78 2.05 0 2.83L4 21.41c.39.39.9.59 1.41.59.51 0 1.02-.2 1.41-.59l7.78-7.78 2.81-2.81c.8-.78.8-2.07 0-2.86zM5.41 20L4 18.59l7.72-7.72 1.47 1.35L5.41 20z\"/>\n",
              "  </svg>\n",
              "      </button>\n",
              "      \n",
              "  <style>\n",
              "    .colab-df-container {\n",
              "      display:flex;\n",
              "      flex-wrap:wrap;\n",
              "      gap: 12px;\n",
              "    }\n",
              "\n",
              "    .colab-df-convert {\n",
              "      background-color: #E8F0FE;\n",
              "      border: none;\n",
              "      border-radius: 50%;\n",
              "      cursor: pointer;\n",
              "      display: none;\n",
              "      fill: #1967D2;\n",
              "      height: 32px;\n",
              "      padding: 0 0 0 0;\n",
              "      width: 32px;\n",
              "    }\n",
              "\n",
              "    .colab-df-convert:hover {\n",
              "      background-color: #E2EBFA;\n",
              "      box-shadow: 0px 1px 2px rgba(60, 64, 67, 0.3), 0px 1px 3px 1px rgba(60, 64, 67, 0.15);\n",
              "      fill: #174EA6;\n",
              "    }\n",
              "\n",
              "    [theme=dark] .colab-df-convert {\n",
              "      background-color: #3B4455;\n",
              "      fill: #D2E3FC;\n",
              "    }\n",
              "\n",
              "    [theme=dark] .colab-df-convert:hover {\n",
              "      background-color: #434B5C;\n",
              "      box-shadow: 0px 1px 3px 1px rgba(0, 0, 0, 0.15);\n",
              "      filter: drop-shadow(0px 1px 2px rgba(0, 0, 0, 0.3));\n",
              "      fill: #FFFFFF;\n",
              "    }\n",
              "  </style>\n",
              "\n",
              "      <script>\n",
              "        const buttonEl =\n",
              "          document.querySelector('#df-a96f5741-0b2f-4941-ba22-c6d05c1f5d1e button.colab-df-convert');\n",
              "        buttonEl.style.display =\n",
              "          google.colab.kernel.accessAllowed ? 'block' : 'none';\n",
              "\n",
              "        async function convertToInteractive(key) {\n",
              "          const element = document.querySelector('#df-a96f5741-0b2f-4941-ba22-c6d05c1f5d1e');\n",
              "          const dataTable =\n",
              "            await google.colab.kernel.invokeFunction('convertToInteractive',\n",
              "                                                     [key], {});\n",
              "          if (!dataTable) return;\n",
              "\n",
              "          const docLinkHtml = 'Like what you see? Visit the ' +\n",
              "            '<a target=\"_blank\" href=https://colab.research.google.com/notebooks/data_table.ipynb>data table notebook</a>'\n",
              "            + ' to learn more about interactive tables.';\n",
              "          element.innerHTML = '';\n",
              "          dataTable['output_type'] = 'display_data';\n",
              "          await google.colab.output.renderOutput(dataTable, element);\n",
              "          const docLink = document.createElement('div');\n",
              "          docLink.innerHTML = docLinkHtml;\n",
              "          element.appendChild(docLink);\n",
              "        }\n",
              "      </script>\n",
              "    </div>\n",
              "  </div>\n",
              "  "
            ],
            "text/plain": [
              "         Date Location  MinTemp  MaxTemp  Rainfall  Evaporation  Sunshine  \\\n",
              "0  2008-12-01   Albury     13.4     22.9       0.6          NaN       NaN   \n",
              "1  2008-12-02   Albury      7.4     25.1       0.0          NaN       NaN   \n",
              "2  2008-12-03   Albury     12.9     25.7       0.0          NaN       NaN   \n",
              "3  2008-12-04   Albury      9.2     28.0       0.0          NaN       NaN   \n",
              "4  2008-12-05   Albury     17.5     32.3       1.0          NaN       NaN   \n",
              "\n",
              "  WindGustDir  WindGustSpeed WindDir9am WindDir3pm  WindSpeed9am  \\\n",
              "0           W           44.0          W        WNW          20.0   \n",
              "1         WNW           44.0        NNW        WSW           4.0   \n",
              "2         WSW           46.0          W        WSW          19.0   \n",
              "3          NE           24.0         SE          E          11.0   \n",
              "4           W           41.0        ENE         NW           7.0   \n",
              "\n",
              "   WindSpeed3pm  Humidity9am  Humidity3pm  Pressure9am  Pressure3pm  Cloud9am  \\\n",
              "0          24.0         71.0         22.0       1007.7       1007.1       8.0   \n",
              "1          22.0         44.0         25.0       1010.6       1007.8       NaN   \n",
              "2          26.0         38.0         30.0       1007.6       1008.7       NaN   \n",
              "3           9.0         45.0         16.0       1017.6       1012.8       NaN   \n",
              "4          20.0         82.0         33.0       1010.8       1006.0       7.0   \n",
              "\n",
              "   Cloud3pm  Temp9am  Temp3pm RainToday RainTomorrow  \n",
              "0       NaN     16.9     21.8        No           No  \n",
              "1       NaN     17.2     24.3        No           No  \n",
              "2       2.0     21.0     23.2        No           No  \n",
              "3       NaN     18.1     26.5        No           No  \n",
              "4       8.0     17.8     29.7        No           No  "
            ]
          },
          "metadata": {},
          "execution_count": 5
        }
      ]
    },
    {
      "cell_type": "code",
      "source": [
        "df.shape"
      ],
      "metadata": {
        "colab": {
          "base_uri": "https://localhost:8080/"
        },
        "id": "DGrt4yjDhlNp",
        "outputId": "fa522431-7558-4b32-ef96-acb5f2961452"
      },
      "execution_count": 6,
      "outputs": [
        {
          "output_type": "execute_result",
          "data": {
            "text/plain": [
              "(145460, 23)"
            ]
          },
          "metadata": {},
          "execution_count": 6
        }
      ]
    },
    {
      "cell_type": "code",
      "source": [
        "df.isna().sum()"
      ],
      "metadata": {
        "colab": {
          "base_uri": "https://localhost:8080/"
        },
        "id": "_V3AX2p1hqZK",
        "outputId": "a1f2e8f2-aa4c-44f1-e077-18260c65f59d"
      },
      "execution_count": 7,
      "outputs": [
        {
          "output_type": "execute_result",
          "data": {
            "text/plain": [
              "Date                 0\n",
              "Location             0\n",
              "MinTemp           1485\n",
              "MaxTemp           1261\n",
              "Rainfall          3261\n",
              "Evaporation      62790\n",
              "Sunshine         69835\n",
              "WindGustDir      10326\n",
              "WindGustSpeed    10263\n",
              "WindDir9am       10566\n",
              "WindDir3pm        4228\n",
              "WindSpeed9am      1767\n",
              "WindSpeed3pm      3062\n",
              "Humidity9am       2654\n",
              "Humidity3pm       4507\n",
              "Pressure9am      15065\n",
              "Pressure3pm      15028\n",
              "Cloud9am         55888\n",
              "Cloud3pm         59358\n",
              "Temp9am           1767\n",
              "Temp3pm           3609\n",
              "RainToday         3261\n",
              "RainTomorrow      3267\n",
              "dtype: int64"
            ]
          },
          "metadata": {},
          "execution_count": 7
        }
      ]
    },
    {
      "cell_type": "code",
      "source": [
        "df=df[pd.isnull(df['MinTemp']) == False]\n",
        "df=df[pd.isnull(df['MaxTemp']) == False]"
      ],
      "metadata": {
        "id": "oLnZh4cqh40b"
      },
      "execution_count": 11,
      "outputs": []
    },
    {
      "cell_type": "code",
      "source": [
        "df.isna().sum()"
      ],
      "metadata": {
        "colab": {
          "base_uri": "https://localhost:8080/"
        },
        "id": "UEEh7h9ciL5W",
        "outputId": "0e5f862c-672b-44e7-8294-0b1d8ac770bf"
      },
      "execution_count": 13,
      "outputs": [
        {
          "output_type": "execute_result",
          "data": {
            "text/plain": [
              "Date                 0\n",
              "Location             0\n",
              "MinTemp              0\n",
              "MaxTemp              0\n",
              "Rainfall          2249\n",
              "Evaporation      61663\n",
              "Sunshine         68660\n",
              "WindGustDir       9243\n",
              "WindGustSpeed     9182\n",
              "WindDir9am        9755\n",
              "WindDir3pm        3493\n",
              "WindSpeed9am      1107\n",
              "WindSpeed3pm      2373\n",
              "Humidity9am       1449\n",
              "Humidity3pm       3267\n",
              "Pressure9am      13677\n",
              "Pressure3pm      13671\n",
              "Cloud9am         54511\n",
              "Cloud3pm         57855\n",
              "Temp9am            575\n",
              "Temp3pm           2381\n",
              "RainToday         2249\n",
              "RainTomorrow      2257\n",
              "dtype: int64"
            ]
          },
          "metadata": {},
          "execution_count": 13
        }
      ]
    },
    {
      "cell_type": "code",
      "source": [
        "df['MedTemp']= df[['MinTemp','MaxTemp']].median(axis=1)"
      ],
      "metadata": {
        "id": "ohxKmfqQjJy7"
      },
      "execution_count": 14,
      "outputs": []
    },
    {
      "cell_type": "code",
      "source": [
        "df.head()"
      ],
      "metadata": {
        "colab": {
          "base_uri": "https://localhost:8080/",
          "height": 357
        },
        "id": "ep0Y8nqRjatB",
        "outputId": "1ae69b19-1d5c-4567-9573-e3e75b3f7a34"
      },
      "execution_count": 16,
      "outputs": [
        {
          "output_type": "execute_result",
          "data": {
            "text/html": [
              "\n",
              "  <div id=\"df-67d2e5e4-061b-465f-b422-b58119eece34\">\n",
              "    <div class=\"colab-df-container\">\n",
              "      <div>\n",
              "<style scoped>\n",
              "    .dataframe tbody tr th:only-of-type {\n",
              "        vertical-align: middle;\n",
              "    }\n",
              "\n",
              "    .dataframe tbody tr th {\n",
              "        vertical-align: top;\n",
              "    }\n",
              "\n",
              "    .dataframe thead th {\n",
              "        text-align: right;\n",
              "    }\n",
              "</style>\n",
              "<table border=\"1\" class=\"dataframe\">\n",
              "  <thead>\n",
              "    <tr style=\"text-align: right;\">\n",
              "      <th></th>\n",
              "      <th>Date</th>\n",
              "      <th>Location</th>\n",
              "      <th>MinTemp</th>\n",
              "      <th>MaxTemp</th>\n",
              "      <th>Rainfall</th>\n",
              "      <th>Evaporation</th>\n",
              "      <th>Sunshine</th>\n",
              "      <th>WindGustDir</th>\n",
              "      <th>WindGustSpeed</th>\n",
              "      <th>WindDir9am</th>\n",
              "      <th>WindDir3pm</th>\n",
              "      <th>WindSpeed9am</th>\n",
              "      <th>WindSpeed3pm</th>\n",
              "      <th>Humidity9am</th>\n",
              "      <th>Humidity3pm</th>\n",
              "      <th>Pressure9am</th>\n",
              "      <th>Pressure3pm</th>\n",
              "      <th>Cloud9am</th>\n",
              "      <th>Cloud3pm</th>\n",
              "      <th>Temp9am</th>\n",
              "      <th>Temp3pm</th>\n",
              "      <th>RainToday</th>\n",
              "      <th>RainTomorrow</th>\n",
              "      <th>MedTemp</th>\n",
              "    </tr>\n",
              "  </thead>\n",
              "  <tbody>\n",
              "    <tr>\n",
              "      <th>0</th>\n",
              "      <td>2008-12-01</td>\n",
              "      <td>Albury</td>\n",
              "      <td>13.4</td>\n",
              "      <td>22.9</td>\n",
              "      <td>0.6</td>\n",
              "      <td>NaN</td>\n",
              "      <td>NaN</td>\n",
              "      <td>W</td>\n",
              "      <td>44.0</td>\n",
              "      <td>W</td>\n",
              "      <td>WNW</td>\n",
              "      <td>20.0</td>\n",
              "      <td>24.0</td>\n",
              "      <td>71.0</td>\n",
              "      <td>22.0</td>\n",
              "      <td>1007.7</td>\n",
              "      <td>1007.1</td>\n",
              "      <td>8.0</td>\n",
              "      <td>NaN</td>\n",
              "      <td>16.9</td>\n",
              "      <td>21.8</td>\n",
              "      <td>No</td>\n",
              "      <td>No</td>\n",
              "      <td>18.15</td>\n",
              "    </tr>\n",
              "    <tr>\n",
              "      <th>1</th>\n",
              "      <td>2008-12-02</td>\n",
              "      <td>Albury</td>\n",
              "      <td>7.4</td>\n",
              "      <td>25.1</td>\n",
              "      <td>0.0</td>\n",
              "      <td>NaN</td>\n",
              "      <td>NaN</td>\n",
              "      <td>WNW</td>\n",
              "      <td>44.0</td>\n",
              "      <td>NNW</td>\n",
              "      <td>WSW</td>\n",
              "      <td>4.0</td>\n",
              "      <td>22.0</td>\n",
              "      <td>44.0</td>\n",
              "      <td>25.0</td>\n",
              "      <td>1010.6</td>\n",
              "      <td>1007.8</td>\n",
              "      <td>NaN</td>\n",
              "      <td>NaN</td>\n",
              "      <td>17.2</td>\n",
              "      <td>24.3</td>\n",
              "      <td>No</td>\n",
              "      <td>No</td>\n",
              "      <td>16.25</td>\n",
              "    </tr>\n",
              "    <tr>\n",
              "      <th>2</th>\n",
              "      <td>2008-12-03</td>\n",
              "      <td>Albury</td>\n",
              "      <td>12.9</td>\n",
              "      <td>25.7</td>\n",
              "      <td>0.0</td>\n",
              "      <td>NaN</td>\n",
              "      <td>NaN</td>\n",
              "      <td>WSW</td>\n",
              "      <td>46.0</td>\n",
              "      <td>W</td>\n",
              "      <td>WSW</td>\n",
              "      <td>19.0</td>\n",
              "      <td>26.0</td>\n",
              "      <td>38.0</td>\n",
              "      <td>30.0</td>\n",
              "      <td>1007.6</td>\n",
              "      <td>1008.7</td>\n",
              "      <td>NaN</td>\n",
              "      <td>2.0</td>\n",
              "      <td>21.0</td>\n",
              "      <td>23.2</td>\n",
              "      <td>No</td>\n",
              "      <td>No</td>\n",
              "      <td>19.30</td>\n",
              "    </tr>\n",
              "    <tr>\n",
              "      <th>3</th>\n",
              "      <td>2008-12-04</td>\n",
              "      <td>Albury</td>\n",
              "      <td>9.2</td>\n",
              "      <td>28.0</td>\n",
              "      <td>0.0</td>\n",
              "      <td>NaN</td>\n",
              "      <td>NaN</td>\n",
              "      <td>NE</td>\n",
              "      <td>24.0</td>\n",
              "      <td>SE</td>\n",
              "      <td>E</td>\n",
              "      <td>11.0</td>\n",
              "      <td>9.0</td>\n",
              "      <td>45.0</td>\n",
              "      <td>16.0</td>\n",
              "      <td>1017.6</td>\n",
              "      <td>1012.8</td>\n",
              "      <td>NaN</td>\n",
              "      <td>NaN</td>\n",
              "      <td>18.1</td>\n",
              "      <td>26.5</td>\n",
              "      <td>No</td>\n",
              "      <td>No</td>\n",
              "      <td>18.60</td>\n",
              "    </tr>\n",
              "    <tr>\n",
              "      <th>4</th>\n",
              "      <td>2008-12-05</td>\n",
              "      <td>Albury</td>\n",
              "      <td>17.5</td>\n",
              "      <td>32.3</td>\n",
              "      <td>1.0</td>\n",
              "      <td>NaN</td>\n",
              "      <td>NaN</td>\n",
              "      <td>W</td>\n",
              "      <td>41.0</td>\n",
              "      <td>ENE</td>\n",
              "      <td>NW</td>\n",
              "      <td>7.0</td>\n",
              "      <td>20.0</td>\n",
              "      <td>82.0</td>\n",
              "      <td>33.0</td>\n",
              "      <td>1010.8</td>\n",
              "      <td>1006.0</td>\n",
              "      <td>7.0</td>\n",
              "      <td>8.0</td>\n",
              "      <td>17.8</td>\n",
              "      <td>29.7</td>\n",
              "      <td>No</td>\n",
              "      <td>No</td>\n",
              "      <td>24.90</td>\n",
              "    </tr>\n",
              "  </tbody>\n",
              "</table>\n",
              "</div>\n",
              "      <button class=\"colab-df-convert\" onclick=\"convertToInteractive('df-67d2e5e4-061b-465f-b422-b58119eece34')\"\n",
              "              title=\"Convert this dataframe to an interactive table.\"\n",
              "              style=\"display:none;\">\n",
              "        \n",
              "  <svg xmlns=\"http://www.w3.org/2000/svg\" height=\"24px\"viewBox=\"0 0 24 24\"\n",
              "       width=\"24px\">\n",
              "    <path d=\"M0 0h24v24H0V0z\" fill=\"none\"/>\n",
              "    <path d=\"M18.56 5.44l.94 2.06.94-2.06 2.06-.94-2.06-.94-.94-2.06-.94 2.06-2.06.94zm-11 1L8.5 8.5l.94-2.06 2.06-.94-2.06-.94L8.5 2.5l-.94 2.06-2.06.94zm10 10l.94 2.06.94-2.06 2.06-.94-2.06-.94-.94-2.06-.94 2.06-2.06.94z\"/><path d=\"M17.41 7.96l-1.37-1.37c-.4-.4-.92-.59-1.43-.59-.52 0-1.04.2-1.43.59L10.3 9.45l-7.72 7.72c-.78.78-.78 2.05 0 2.83L4 21.41c.39.39.9.59 1.41.59.51 0 1.02-.2 1.41-.59l7.78-7.78 2.81-2.81c.8-.78.8-2.07 0-2.86zM5.41 20L4 18.59l7.72-7.72 1.47 1.35L5.41 20z\"/>\n",
              "  </svg>\n",
              "      </button>\n",
              "      \n",
              "  <style>\n",
              "    .colab-df-container {\n",
              "      display:flex;\n",
              "      flex-wrap:wrap;\n",
              "      gap: 12px;\n",
              "    }\n",
              "\n",
              "    .colab-df-convert {\n",
              "      background-color: #E8F0FE;\n",
              "      border: none;\n",
              "      border-radius: 50%;\n",
              "      cursor: pointer;\n",
              "      display: none;\n",
              "      fill: #1967D2;\n",
              "      height: 32px;\n",
              "      padding: 0 0 0 0;\n",
              "      width: 32px;\n",
              "    }\n",
              "\n",
              "    .colab-df-convert:hover {\n",
              "      background-color: #E2EBFA;\n",
              "      box-shadow: 0px 1px 2px rgba(60, 64, 67, 0.3), 0px 1px 3px 1px rgba(60, 64, 67, 0.15);\n",
              "      fill: #174EA6;\n",
              "    }\n",
              "\n",
              "    [theme=dark] .colab-df-convert {\n",
              "      background-color: #3B4455;\n",
              "      fill: #D2E3FC;\n",
              "    }\n",
              "\n",
              "    [theme=dark] .colab-df-convert:hover {\n",
              "      background-color: #434B5C;\n",
              "      box-shadow: 0px 1px 3px 1px rgba(0, 0, 0, 0.15);\n",
              "      filter: drop-shadow(0px 1px 2px rgba(0, 0, 0, 0.3));\n",
              "      fill: #FFFFFF;\n",
              "    }\n",
              "  </style>\n",
              "\n",
              "      <script>\n",
              "        const buttonEl =\n",
              "          document.querySelector('#df-67d2e5e4-061b-465f-b422-b58119eece34 button.colab-df-convert');\n",
              "        buttonEl.style.display =\n",
              "          google.colab.kernel.accessAllowed ? 'block' : 'none';\n",
              "\n",
              "        async function convertToInteractive(key) {\n",
              "          const element = document.querySelector('#df-67d2e5e4-061b-465f-b422-b58119eece34');\n",
              "          const dataTable =\n",
              "            await google.colab.kernel.invokeFunction('convertToInteractive',\n",
              "                                                     [key], {});\n",
              "          if (!dataTable) return;\n",
              "\n",
              "          const docLinkHtml = 'Like what you see? Visit the ' +\n",
              "            '<a target=\"_blank\" href=https://colab.research.google.com/notebooks/data_table.ipynb>data table notebook</a>'\n",
              "            + ' to learn more about interactive tables.';\n",
              "          element.innerHTML = '';\n",
              "          dataTable['output_type'] = 'display_data';\n",
              "          await google.colab.output.renderOutput(dataTable, element);\n",
              "          const docLink = document.createElement('div');\n",
              "          docLink.innerHTML = docLinkHtml;\n",
              "          element.appendChild(docLink);\n",
              "        }\n",
              "      </script>\n",
              "    </div>\n",
              "  </div>\n",
              "  "
            ],
            "text/plain": [
              "         Date Location  MinTemp  MaxTemp  Rainfall  Evaporation  Sunshine  \\\n",
              "0  2008-12-01   Albury     13.4     22.9       0.6          NaN       NaN   \n",
              "1  2008-12-02   Albury      7.4     25.1       0.0          NaN       NaN   \n",
              "2  2008-12-03   Albury     12.9     25.7       0.0          NaN       NaN   \n",
              "3  2008-12-04   Albury      9.2     28.0       0.0          NaN       NaN   \n",
              "4  2008-12-05   Albury     17.5     32.3       1.0          NaN       NaN   \n",
              "\n",
              "  WindGustDir  WindGustSpeed WindDir9am WindDir3pm  WindSpeed9am  \\\n",
              "0           W           44.0          W        WNW          20.0   \n",
              "1         WNW           44.0        NNW        WSW           4.0   \n",
              "2         WSW           46.0          W        WSW          19.0   \n",
              "3          NE           24.0         SE          E          11.0   \n",
              "4           W           41.0        ENE         NW           7.0   \n",
              "\n",
              "   WindSpeed3pm  Humidity9am  Humidity3pm  Pressure9am  Pressure3pm  Cloud9am  \\\n",
              "0          24.0         71.0         22.0       1007.7       1007.1       8.0   \n",
              "1          22.0         44.0         25.0       1010.6       1007.8       NaN   \n",
              "2          26.0         38.0         30.0       1007.6       1008.7       NaN   \n",
              "3           9.0         45.0         16.0       1017.6       1012.8       NaN   \n",
              "4          20.0         82.0         33.0       1010.8       1006.0       7.0   \n",
              "\n",
              "   Cloud3pm  Temp9am  Temp3pm RainToday RainTomorrow  MedTemp  \n",
              "0       NaN     16.9     21.8        No           No    18.15  \n",
              "1       NaN     17.2     24.3        No           No    16.25  \n",
              "2       2.0     21.0     23.2        No           No    19.30  \n",
              "3       NaN     18.1     26.5        No           No    18.60  \n",
              "4       8.0     17.8     29.7        No           No    24.90  "
            ]
          },
          "metadata": {},
          "execution_count": 16
        }
      ]
    },
    {
      "cell_type": "code",
      "source": [
        "df['Location'].unique()"
      ],
      "metadata": {
        "colab": {
          "base_uri": "https://localhost:8080/"
        },
        "id": "41WWhYrDjcOx",
        "outputId": "82655d38-fa7f-4c8d-9cf5-ab0041cd830f"
      },
      "execution_count": 18,
      "outputs": [
        {
          "output_type": "execute_result",
          "data": {
            "text/plain": [
              "array(['Albury', 'BadgerysCreek', 'Cobar', 'CoffsHarbour', 'Moree',\n",
              "       'Newcastle', 'NorahHead', 'NorfolkIsland', 'Penrith', 'Richmond',\n",
              "       'Sydney', 'SydneyAirport', 'WaggaWagga', 'Williamtown',\n",
              "       'Wollongong', 'Canberra', 'Tuggeranong', 'MountGinini', 'Ballarat',\n",
              "       'Bendigo', 'Sale', 'MelbourneAirport', 'Melbourne', 'Mildura',\n",
              "       'Nhil', 'Portland', 'Watsonia', 'Dartmoor', 'Brisbane', 'Cairns',\n",
              "       'GoldCoast', 'Townsville', 'Adelaide', 'MountGambier', 'Nuriootpa',\n",
              "       'Woomera', 'Albany', 'Witchcliffe', 'PearceRAAF', 'PerthAirport',\n",
              "       'Perth', 'SalmonGums', 'Walpole', 'Hobart', 'Launceston',\n",
              "       'AliceSprings', 'Darwin', 'Katherine', 'Uluru'], dtype=object)"
            ]
          },
          "metadata": {},
          "execution_count": 18
        }
      ]
    },
    {
      "cell_type": "code",
      "source": [
        "dfSydney = df[df[\"Location\"] == \"Sydney\"]"
      ],
      "metadata": {
        "id": "650Ecs_-n8i3"
      },
      "execution_count": 19,
      "outputs": []
    },
    {
      "cell_type": "code",
      "source": [
        "fig = go.Figure()\n",
        "fig.add_trace(go.Scatter(\n",
        "    x=dfSydney[\"Date\"],\n",
        "    y=dfSydney[\"MedTemp\"],\n",
        "    mode=\"lines\",\n",
        "    name=\"Median Temperatures\",\n",
        "    opacity=0.8,  \n",
        "    line={'color':'orange','width':1}\n",
        "))\n",
        "\n",
        "fig.update_layout({'plot_bgcolor':'black'})\n",
        "fig.update_xaxes(showgrid=True,gridcolor='lightgray',showline=True,zeroline=True,zerolinecolor='gray',zerolinewidth=1,\n",
        "                 linewidth=1,linecolor='red',title='Date')\n",
        "fig.update_yaxes(showgrid=True,gridcolor='lightgray',showline=True,zeroline=True,zerolinecolor='gray',zerolinewidth=1,\n",
        "                 linewidth=1,linecolor='red',title='Degree celcuis')\n",
        "fig.update_layout(title={'text':'Avg daily temp in Sydney','font':{'color':'green'}})\n"
      ],
      "metadata": {
        "colab": {
          "base_uri": "https://localhost:8080/",
          "height": 542
        },
        "id": "HIrcKr3voIA4",
        "outputId": "5e0cd001-7395-4996-8746-97687faa18ec"
      },
      "execution_count": 29,
      "outputs": [
        {
          "output_type": "display_data",
          "data": {
            "text/html": [
              "<html>\n",
              "<head><meta charset=\"utf-8\" /></head>\n",
              "<body>\n",
              "    <div>            <script src=\"https://cdnjs.cloudflare.com/ajax/libs/mathjax/2.7.5/MathJax.js?config=TeX-AMS-MML_SVG\"></script><script type=\"text/javascript\">if (window.MathJax) {MathJax.Hub.Config({SVG: {font: \"STIX-Web\"}});}</script>                <script type=\"text/javascript\">window.PlotlyConfig = {MathJaxConfig: 'local'};</script>\n",
              "        <script src=\"https://cdn.plot.ly/plotly-2.8.3.min.js\"></script>                <div id=\"3341e0eb-297d-4fc5-8f05-e4d08b9c29a9\" class=\"plotly-graph-div\" style=\"height:525px; width:100%;\"></div>            <script type=\"text/javascript\">                                    window.PLOTLYENV=window.PLOTLYENV || {};                                    if (document.getElementById(\"3341e0eb-297d-4fc5-8f05-e4d08b9c29a9\")) {                    Plotly.newPlot(                        \"3341e0eb-297d-4fc5-8f05-e4d08b9c29a9\",                        [{\"line\":{\"color\":\"orange\",\"width\":1},\"mode\":\"lines\",\"name\":\"Median Temperatures\",\"opacity\":0.8,\"x\":[\"2008-02-01\",\"2008-02-02\",\"2008-02-03\",\"2008-02-04\",\"2008-02-05\",\"2008-02-06\",\"2008-02-07\",\"2008-02-08\",\"2008-02-09\",\"2008-02-10\",\"2008-02-11\",\"2008-02-12\",\"2008-02-13\",\"2008-02-14\",\"2008-02-15\",\"2008-02-16\",\"2008-02-17\",\"2008-02-18\",\"2008-02-19\",\"2008-02-20\",\"2008-02-21\",\"2008-02-22\",\"2008-02-23\",\"2008-02-24\",\"2008-02-25\",\"2008-02-26\",\"2008-02-27\",\"2008-02-28\",\"2008-02-29\",\"2008-03-01\",\"2008-03-02\",\"2008-03-03\",\"2008-03-04\",\"2008-03-05\",\"2008-03-06\",\"2008-03-07\",\"2008-03-08\",\"2008-03-09\",\"2008-03-10\",\"2008-03-11\",\"2008-03-12\",\"2008-03-13\",\"2008-03-14\",\"2008-03-15\",\"2008-03-16\",\"2008-03-17\",\"2008-03-18\",\"2008-03-19\",\"2008-03-20\",\"2008-03-21\",\"2008-03-22\",\"2008-03-23\",\"2008-03-24\",\"2008-03-25\",\"2008-03-26\",\"2008-03-27\",\"2008-03-28\",\"2008-03-29\",\"2008-03-30\",\"2008-03-31\",\"2008-04-01\",\"2008-04-02\",\"2008-04-03\",\"2008-04-04\",\"2008-04-05\",\"2008-04-06\",\"2008-04-07\",\"2008-04-08\",\"2008-04-09\",\"2008-04-10\",\"2008-04-11\",\"2008-04-12\",\"2008-04-13\",\"2008-04-14\",\"2008-04-15\",\"2008-04-16\",\"2008-04-17\",\"2008-04-18\",\"2008-04-19\",\"2008-04-20\",\"2008-04-21\",\"2008-04-22\",\"2008-04-23\",\"2008-04-24\",\"2008-04-25\",\"2008-04-26\",\"2008-04-27\",\"2008-04-28\",\"2008-04-29\",\"2008-04-30\",\"2008-05-01\",\"2008-05-02\",\"2008-05-03\",\"2008-05-04\",\"2008-05-05\",\"2008-05-06\",\"2008-05-07\",\"2008-05-08\",\"2008-05-09\",\"2008-05-10\",\"2008-05-11\",\"2008-05-12\",\"2008-05-13\",\"2008-05-14\",\"2008-05-15\",\"2008-05-16\",\"2008-05-17\",\"2008-05-18\",\"2008-05-19\",\"2008-05-20\",\"2008-05-21\",\"2008-05-22\",\"2008-05-23\",\"2008-05-24\",\"2008-05-25\",\"2008-05-26\",\"2008-05-27\",\"2008-05-28\",\"2008-05-29\",\"2008-05-30\",\"2008-05-31\",\"2008-06-01\",\"2008-06-02\",\"2008-06-03\",\"2008-06-04\",\"2008-06-05\",\"2008-06-06\",\"2008-06-07\",\"2008-06-08\",\"2008-06-09\",\"2008-06-10\",\"2008-06-11\",\"2008-06-12\",\"2008-06-13\",\"2008-06-14\",\"2008-06-15\",\"2008-06-16\",\"2008-06-17\",\"2008-06-18\",\"2008-06-19\",\"2008-06-20\",\"2008-06-21\",\"2008-06-22\",\"2008-06-23\",\"2008-06-24\",\"2008-06-25\",\"2008-06-26\",\"2008-06-27\",\"2008-06-28\",\"2008-06-29\",\"2008-06-30\",\"2008-07-01\",\"2008-07-02\",\"2008-07-03\",\"2008-07-04\",\"2008-07-05\",\"2008-07-06\",\"2008-07-07\",\"2008-07-08\",\"2008-07-09\",\"2008-07-10\",\"2008-07-11\",\"2008-07-12\",\"2008-07-13\",\"2008-07-14\",\"2008-07-15\",\"2008-07-16\",\"2008-07-17\",\"2008-07-18\",\"2008-07-19\",\"2008-07-20\",\"2008-07-21\",\"2008-07-22\",\"2008-07-23\",\"2008-07-24\",\"2008-07-25\",\"2008-07-26\",\"2008-07-27\",\"2008-07-28\",\"2008-07-29\",\"2008-07-30\",\"2008-07-31\",\"2008-08-01\",\"2008-08-02\",\"2008-08-03\",\"2008-08-04\",\"2008-08-05\",\"2008-08-06\",\"2008-08-07\",\"2008-08-08\",\"2008-08-09\",\"2008-08-10\",\"2008-08-11\",\"2008-08-12\",\"2008-08-13\",\"2008-08-14\",\"2008-08-15\",\"2008-08-16\",\"2008-08-17\",\"2008-08-18\",\"2008-08-19\",\"2008-08-20\",\"2008-08-21\",\"2008-08-22\",\"2008-08-23\",\"2008-08-24\",\"2008-08-25\",\"2008-08-26\",\"2008-08-27\",\"2008-08-28\",\"2008-08-29\",\"2008-08-30\",\"2008-08-31\",\"2008-09-01\",\"2008-09-02\",\"2008-09-03\",\"2008-09-04\",\"2008-09-05\",\"2008-09-06\",\"2008-09-07\",\"2008-09-08\",\"2008-09-09\",\"2008-09-10\",\"2008-09-11\",\"2008-09-12\",\"2008-09-13\",\"2008-09-14\",\"2008-09-15\",\"2008-09-16\",\"2008-09-17\",\"2008-09-18\",\"2008-09-19\",\"2008-09-20\",\"2008-09-21\",\"2008-09-22\",\"2008-09-23\",\"2008-09-24\",\"2008-09-25\",\"2008-09-26\",\"2008-09-27\",\"2008-09-28\",\"2008-09-29\",\"2008-09-30\",\"2008-10-01\",\"2008-10-02\",\"2008-10-03\",\"2008-10-04\",\"2008-10-05\",\"2008-10-06\",\"2008-10-07\",\"2008-10-08\",\"2008-10-09\",\"2008-10-10\",\"2008-10-11\",\"2008-10-12\",\"2008-10-13\",\"2008-10-14\",\"2008-10-15\",\"2008-10-16\",\"2008-10-17\",\"2008-10-18\",\"2008-10-19\",\"2008-10-20\",\"2008-10-21\",\"2008-10-22\",\"2008-10-23\",\"2008-10-24\",\"2008-10-25\",\"2008-10-26\",\"2008-10-27\",\"2008-10-28\",\"2008-10-29\",\"2008-10-30\",\"2008-10-31\",\"2008-11-01\",\"2008-11-02\",\"2008-11-03\",\"2008-11-04\",\"2008-11-05\",\"2008-11-06\",\"2008-11-07\",\"2008-11-08\",\"2008-11-09\",\"2008-11-10\",\"2008-11-11\",\"2008-11-12\",\"2008-11-13\",\"2008-11-14\",\"2008-11-15\",\"2008-11-16\",\"2008-11-17\",\"2008-11-18\",\"2008-11-19\",\"2008-11-20\",\"2008-11-21\",\"2008-11-22\",\"2008-11-23\",\"2008-11-24\",\"2008-11-25\",\"2008-11-26\",\"2008-11-27\",\"2008-11-28\",\"2008-11-29\",\"2008-11-30\",\"2008-12-01\",\"2008-12-02\",\"2008-12-03\",\"2008-12-04\",\"2008-12-05\",\"2008-12-06\",\"2008-12-07\",\"2008-12-08\",\"2008-12-09\",\"2008-12-10\",\"2008-12-11\",\"2008-12-12\",\"2008-12-13\",\"2008-12-14\",\"2008-12-15\",\"2008-12-16\",\"2008-12-17\",\"2008-12-18\",\"2008-12-19\",\"2008-12-20\",\"2008-12-21\",\"2008-12-22\",\"2008-12-23\",\"2008-12-24\",\"2008-12-25\",\"2008-12-26\",\"2008-12-27\",\"2008-12-28\",\"2008-12-29\",\"2008-12-30\",\"2008-12-31\",\"2009-01-01\",\"2009-01-02\",\"2009-01-03\",\"2009-01-04\",\"2009-01-05\",\"2009-01-06\",\"2009-01-07\",\"2009-01-08\",\"2009-01-09\",\"2009-01-10\",\"2009-01-11\",\"2009-01-12\",\"2009-01-13\",\"2009-01-14\",\"2009-01-15\",\"2009-01-16\",\"2009-01-17\",\"2009-01-18\",\"2009-01-19\",\"2009-01-20\",\"2009-01-21\",\"2009-01-22\",\"2009-01-23\",\"2009-01-24\",\"2009-01-25\",\"2009-01-26\",\"2009-01-27\",\"2009-01-28\",\"2009-01-29\",\"2009-01-30\",\"2009-01-31\",\"2009-02-01\",\"2009-02-02\",\"2009-02-03\",\"2009-02-04\",\"2009-02-05\",\"2009-02-06\",\"2009-02-07\",\"2009-02-08\",\"2009-02-09\",\"2009-02-10\",\"2009-02-11\",\"2009-02-12\",\"2009-02-13\",\"2009-02-14\",\"2009-02-15\",\"2009-02-16\",\"2009-02-17\",\"2009-02-18\",\"2009-02-19\",\"2009-02-20\",\"2009-02-21\",\"2009-02-22\",\"2009-02-23\",\"2009-02-24\",\"2009-02-25\",\"2009-02-26\",\"2009-02-27\",\"2009-02-28\",\"2009-03-01\",\"2009-03-02\",\"2009-03-03\",\"2009-03-04\",\"2009-03-05\",\"2009-03-06\",\"2009-03-07\",\"2009-03-08\",\"2009-03-09\",\"2009-03-10\",\"2009-03-11\",\"2009-03-12\",\"2009-03-13\",\"2009-03-14\",\"2009-03-15\",\"2009-03-16\",\"2009-03-17\",\"2009-03-18\",\"2009-03-19\",\"2009-03-20\",\"2009-03-21\",\"2009-03-22\",\"2009-03-23\",\"2009-03-24\",\"2009-03-25\",\"2009-03-26\",\"2009-03-27\",\"2009-03-28\",\"2009-03-29\",\"2009-03-30\",\"2009-03-31\",\"2009-04-01\",\"2009-04-02\",\"2009-04-03\",\"2009-04-04\",\"2009-04-05\",\"2009-04-06\",\"2009-04-07\",\"2009-04-08\",\"2009-04-09\",\"2009-04-10\",\"2009-04-11\",\"2009-04-12\",\"2009-04-13\",\"2009-04-14\",\"2009-04-15\",\"2009-04-16\",\"2009-04-17\",\"2009-04-18\",\"2009-04-19\",\"2009-04-20\",\"2009-04-21\",\"2009-04-22\",\"2009-04-23\",\"2009-04-24\",\"2009-04-25\",\"2009-04-26\",\"2009-04-27\",\"2009-04-28\",\"2009-04-29\",\"2009-04-30\",\"2009-05-01\",\"2009-05-02\",\"2009-05-03\",\"2009-05-04\",\"2009-05-05\",\"2009-05-06\",\"2009-05-07\",\"2009-05-08\",\"2009-05-09\",\"2009-05-10\",\"2009-05-11\",\"2009-05-12\",\"2009-05-13\",\"2009-05-14\",\"2009-05-15\",\"2009-05-16\",\"2009-05-17\",\"2009-05-18\",\"2009-05-19\",\"2009-05-20\",\"2009-05-21\",\"2009-05-22\",\"2009-05-23\",\"2009-05-24\",\"2009-05-25\",\"2009-05-26\",\"2009-05-27\",\"2009-05-28\",\"2009-05-29\",\"2009-05-30\",\"2009-05-31\",\"2009-06-01\",\"2009-06-02\",\"2009-06-03\",\"2009-06-04\",\"2009-06-05\",\"2009-06-06\",\"2009-06-07\",\"2009-06-08\",\"2009-06-09\",\"2009-06-10\",\"2009-06-11\",\"2009-06-12\",\"2009-06-13\",\"2009-06-14\",\"2009-06-15\",\"2009-06-16\",\"2009-06-17\",\"2009-06-18\",\"2009-06-19\",\"2009-06-20\",\"2009-06-21\",\"2009-06-22\",\"2009-06-23\",\"2009-06-24\",\"2009-06-25\",\"2009-06-26\",\"2009-06-27\",\"2009-06-28\",\"2009-06-29\",\"2009-06-30\",\"2009-07-01\",\"2009-07-02\",\"2009-07-03\",\"2009-07-04\",\"2009-07-05\",\"2009-07-06\",\"2009-07-07\",\"2009-07-08\",\"2009-07-09\",\"2009-07-10\",\"2009-07-11\",\"2009-07-12\",\"2009-07-13\",\"2009-07-14\",\"2009-07-15\",\"2009-07-16\",\"2009-07-17\",\"2009-07-18\",\"2009-07-19\",\"2009-07-20\",\"2009-07-21\",\"2009-07-22\",\"2009-07-23\",\"2009-07-24\",\"2009-07-25\",\"2009-07-26\",\"2009-07-27\",\"2009-07-28\",\"2009-07-29\",\"2009-07-30\",\"2009-07-31\",\"2009-08-01\",\"2009-08-02\",\"2009-08-03\",\"2009-08-04\",\"2009-08-05\",\"2009-08-06\",\"2009-08-07\",\"2009-08-08\",\"2009-08-09\",\"2009-08-10\",\"2009-08-11\",\"2009-08-12\",\"2009-08-13\",\"2009-08-14\",\"2009-08-15\",\"2009-08-16\",\"2009-08-17\",\"2009-08-18\",\"2009-08-19\",\"2009-08-20\",\"2009-08-21\",\"2009-08-22\",\"2009-08-23\",\"2009-08-24\",\"2009-08-25\",\"2009-08-26\",\"2009-08-27\",\"2009-08-28\",\"2009-08-29\",\"2009-08-30\",\"2009-08-31\",\"2009-09-01\",\"2009-09-02\",\"2009-09-03\",\"2009-09-04\",\"2009-09-05\",\"2009-09-06\",\"2009-09-07\",\"2009-09-08\",\"2009-09-09\",\"2009-09-10\",\"2009-09-11\",\"2009-09-12\",\"2009-09-13\",\"2009-09-14\",\"2009-09-15\",\"2009-09-16\",\"2009-09-17\",\"2009-09-18\",\"2009-09-19\",\"2009-09-20\",\"2009-09-21\",\"2009-09-22\",\"2009-09-23\",\"2009-09-24\",\"2009-09-25\",\"2009-09-26\",\"2009-09-27\",\"2009-09-28\",\"2009-09-29\",\"2009-09-30\",\"2009-10-01\",\"2009-10-02\",\"2009-10-03\",\"2009-10-04\",\"2009-10-05\",\"2009-10-06\",\"2009-10-07\",\"2009-10-08\",\"2009-10-09\",\"2009-10-10\",\"2009-10-11\",\"2009-10-12\",\"2009-10-13\",\"2009-10-14\",\"2009-10-15\",\"2009-10-16\",\"2009-10-17\",\"2009-10-18\",\"2009-10-19\",\"2009-10-20\",\"2009-10-21\",\"2009-10-22\",\"2009-10-23\",\"2009-10-24\",\"2009-10-25\",\"2009-10-26\",\"2009-10-27\",\"2009-10-28\",\"2009-10-29\",\"2009-10-30\",\"2009-10-31\",\"2009-11-01\",\"2009-11-02\",\"2009-11-03\",\"2009-11-04\",\"2009-11-05\",\"2009-11-06\",\"2009-11-07\",\"2009-11-08\",\"2009-11-09\",\"2009-11-10\",\"2009-11-11\",\"2009-11-12\",\"2009-11-13\",\"2009-11-14\",\"2009-11-15\",\"2009-11-16\",\"2009-11-17\",\"2009-11-18\",\"2009-11-19\",\"2009-11-20\",\"2009-11-21\",\"2009-11-22\",\"2009-11-23\",\"2009-11-24\",\"2009-11-25\",\"2009-11-26\",\"2009-11-27\",\"2009-11-28\",\"2009-11-29\",\"2009-11-30\",\"2009-12-01\",\"2009-12-02\",\"2009-12-03\",\"2009-12-04\",\"2009-12-05\",\"2009-12-06\",\"2009-12-07\",\"2009-12-08\",\"2009-12-09\",\"2009-12-10\",\"2009-12-11\",\"2009-12-12\",\"2009-12-13\",\"2009-12-14\",\"2009-12-15\",\"2009-12-16\",\"2009-12-17\",\"2009-12-18\",\"2009-12-19\",\"2009-12-20\",\"2009-12-21\",\"2009-12-22\",\"2009-12-25\",\"2009-12-26\",\"2009-12-27\",\"2009-12-28\",\"2009-12-29\",\"2009-12-30\",\"2009-12-31\",\"2010-01-01\",\"2010-01-02\",\"2010-01-03\",\"2010-01-04\",\"2010-01-05\",\"2010-01-06\",\"2010-01-07\",\"2010-01-08\",\"2010-01-09\",\"2010-01-10\",\"2010-01-11\",\"2010-01-12\",\"2010-01-13\",\"2010-01-14\",\"2010-01-15\",\"2010-01-16\",\"2010-01-17\",\"2010-01-18\",\"2010-01-19\",\"2010-01-20\",\"2010-01-21\",\"2010-01-22\",\"2010-01-23\",\"2010-01-24\",\"2010-01-25\",\"2010-01-26\",\"2010-01-27\",\"2010-01-28\",\"2010-01-29\",\"2010-01-30\",\"2010-01-31\",\"2010-02-01\",\"2010-02-02\",\"2010-02-03\",\"2010-02-04\",\"2010-02-05\",\"2010-02-06\",\"2010-02-07\",\"2010-02-08\",\"2010-02-09\",\"2010-02-10\",\"2010-02-11\",\"2010-02-12\",\"2010-02-13\",\"2010-02-14\",\"2010-02-15\",\"2010-02-16\",\"2010-02-17\",\"2010-02-18\",\"2010-02-19\",\"2010-02-20\",\"2010-02-21\",\"2010-02-22\",\"2010-02-23\",\"2010-02-24\",\"2010-02-25\",\"2010-02-26\",\"2010-02-27\",\"2010-02-28\",\"2010-03-01\",\"2010-03-02\",\"2010-03-03\",\"2010-03-04\",\"2010-03-05\",\"2010-03-06\",\"2010-03-07\",\"2010-03-08\",\"2010-03-09\",\"2010-03-10\",\"2010-03-11\",\"2010-03-12\",\"2010-03-13\",\"2010-03-14\",\"2010-03-15\",\"2010-03-16\",\"2010-03-17\",\"2010-03-18\",\"2010-03-19\",\"2010-03-20\",\"2010-03-21\",\"2010-03-22\",\"2010-03-23\",\"2010-03-24\",\"2010-03-25\",\"2010-03-26\",\"2010-03-27\",\"2010-03-28\",\"2010-03-29\",\"2010-03-30\",\"2010-03-31\",\"2010-04-01\",\"2010-04-02\",\"2010-04-03\",\"2010-04-04\",\"2010-04-05\",\"2010-04-06\",\"2010-04-07\",\"2010-04-08\",\"2010-04-09\",\"2010-04-10\",\"2010-04-11\",\"2010-04-12\",\"2010-04-13\",\"2010-04-14\",\"2010-04-15\",\"2010-04-16\",\"2010-04-17\",\"2010-04-19\",\"2010-04-20\",\"2010-04-21\",\"2010-04-22\",\"2010-04-23\",\"2010-04-24\",\"2010-04-25\",\"2010-04-26\",\"2010-04-27\",\"2010-04-28\",\"2010-04-29\",\"2010-04-30\",\"2010-05-01\",\"2010-05-02\",\"2010-05-03\",\"2010-05-04\",\"2010-05-05\",\"2010-05-06\",\"2010-05-07\",\"2010-05-08\",\"2010-05-09\",\"2010-05-10\",\"2010-05-11\",\"2010-05-12\",\"2010-05-13\",\"2010-05-14\",\"2010-05-15\",\"2010-05-16\",\"2010-05-17\",\"2010-05-18\",\"2010-05-19\",\"2010-05-20\",\"2010-05-21\",\"2010-05-22\",\"2010-05-23\",\"2010-05-24\",\"2010-05-25\",\"2010-05-26\",\"2010-05-27\",\"2010-05-28\",\"2010-05-29\",\"2010-05-30\",\"2010-05-31\",\"2010-06-01\",\"2010-06-02\",\"2010-06-03\",\"2010-06-04\",\"2010-06-05\",\"2010-06-06\",\"2010-06-07\",\"2010-06-08\",\"2010-06-09\",\"2010-06-10\",\"2010-06-11\",\"2010-06-12\",\"2010-06-13\",\"2010-06-14\",\"2010-06-15\",\"2010-06-16\",\"2010-06-17\",\"2010-06-18\",\"2010-06-19\",\"2010-06-20\",\"2010-06-21\",\"2010-06-22\",\"2010-06-23\",\"2010-06-24\",\"2010-06-25\",\"2010-06-26\",\"2010-06-27\",\"2010-06-28\",\"2010-06-29\",\"2010-06-30\",\"2010-07-01\",\"2010-07-02\",\"2010-07-03\",\"2010-07-04\",\"2010-07-05\",\"2010-07-06\",\"2010-07-07\",\"2010-07-08\",\"2010-07-09\",\"2010-07-10\",\"2010-07-11\",\"2010-07-12\",\"2010-07-13\",\"2010-07-14\",\"2010-07-15\",\"2010-07-16\",\"2010-07-17\",\"2010-07-18\",\"2010-07-19\",\"2010-07-20\",\"2010-07-21\",\"2010-07-22\",\"2010-07-23\",\"2010-07-24\",\"2010-07-25\",\"2010-07-26\",\"2010-07-27\",\"2010-07-28\",\"2010-07-29\",\"2010-07-30\",\"2010-07-31\",\"2010-08-01\",\"2010-08-02\",\"2010-08-03\",\"2010-08-04\",\"2010-08-05\",\"2010-08-06\",\"2010-08-07\",\"2010-08-08\",\"2010-08-09\",\"2010-08-10\",\"2010-08-11\",\"2010-08-12\",\"2010-08-13\",\"2010-08-14\",\"2010-08-15\",\"2010-08-16\",\"2010-08-17\",\"2010-08-18\",\"2010-08-19\",\"2010-08-20\",\"2010-08-21\",\"2010-08-22\",\"2010-08-23\",\"2010-08-24\",\"2010-08-25\",\"2010-08-26\",\"2010-08-27\",\"2010-08-28\",\"2010-08-29\",\"2010-08-30\",\"2010-08-31\",\"2010-09-01\",\"2010-09-02\",\"2010-09-03\",\"2010-09-04\",\"2010-09-05\",\"2010-09-06\",\"2010-09-07\",\"2010-09-08\",\"2010-09-09\",\"2010-09-10\",\"2010-09-11\",\"2010-09-12\",\"2010-09-13\",\"2010-09-14\",\"2010-09-16\",\"2010-09-17\",\"2010-09-18\",\"2010-09-19\",\"2010-09-20\",\"2010-09-21\",\"2010-09-22\",\"2010-09-23\",\"2010-09-24\",\"2010-09-25\",\"2010-09-26\",\"2010-09-27\",\"2010-09-28\",\"2010-09-29\",\"2010-09-30\",\"2010-10-01\",\"2010-10-02\",\"2010-10-03\",\"2010-10-04\",\"2010-10-05\",\"2010-10-06\",\"2010-10-07\",\"2010-10-08\",\"2010-10-09\",\"2010-10-10\",\"2010-10-11\",\"2010-10-12\",\"2010-10-13\",\"2010-10-14\",\"2010-10-15\",\"2010-10-16\",\"2010-10-17\",\"2010-10-18\",\"2010-10-19\",\"2010-10-20\",\"2010-10-21\",\"2010-10-22\",\"2010-10-23\",\"2010-10-24\",\"2010-10-25\",\"2010-10-26\",\"2010-10-27\",\"2010-10-28\",\"2010-10-29\",\"2010-10-30\",\"2010-10-31\",\"2010-11-01\",\"2010-11-02\",\"2010-11-03\",\"2010-11-04\",\"2010-11-05\",\"2010-11-06\",\"2010-11-07\",\"2010-11-08\",\"2010-11-09\",\"2010-11-10\",\"2010-11-11\",\"2010-11-12\",\"2010-11-13\",\"2010-11-14\",\"2010-11-15\",\"2010-11-16\",\"2010-11-17\",\"2010-11-18\",\"2010-11-19\",\"2010-11-20\",\"2010-11-21\",\"2010-11-22\",\"2010-11-23\",\"2010-11-24\",\"2010-11-25\",\"2010-11-26\",\"2010-11-27\",\"2010-11-28\",\"2010-11-29\",\"2010-11-30\",\"2010-12-01\",\"2010-12-02\",\"2010-12-03\",\"2010-12-04\",\"2010-12-05\",\"2010-12-06\",\"2010-12-07\",\"2010-12-08\",\"2010-12-09\",\"2010-12-10\",\"2010-12-11\",\"2010-12-12\",\"2010-12-13\",\"2010-12-14\",\"2010-12-15\",\"2010-12-16\",\"2010-12-17\",\"2010-12-18\",\"2010-12-19\",\"2010-12-20\",\"2010-12-21\",\"2010-12-22\",\"2010-12-23\",\"2010-12-24\",\"2010-12-25\",\"2010-12-26\",\"2010-12-27\",\"2010-12-28\",\"2010-12-29\",\"2010-12-30\",\"2010-12-31\",\"2011-01-01\",\"2011-01-02\",\"2011-01-03\",\"2011-01-04\",\"2011-01-05\",\"2011-01-06\",\"2011-01-07\",\"2011-01-08\",\"2011-01-09\",\"2011-01-10\",\"2011-01-11\",\"2011-01-12\",\"2011-01-13\",\"2011-01-14\",\"2011-01-15\",\"2011-01-16\",\"2011-01-17\",\"2011-01-18\",\"2011-01-19\",\"2011-01-20\",\"2011-01-21\",\"2011-01-22\",\"2011-01-23\",\"2011-01-24\",\"2011-01-25\",\"2011-01-26\",\"2011-01-27\",\"2011-01-28\",\"2011-01-29\",\"2011-01-30\",\"2011-01-31\",\"2011-02-01\",\"2011-02-02\",\"2011-02-03\",\"2011-02-04\",\"2011-02-05\",\"2011-02-06\",\"2011-02-07\",\"2011-02-08\",\"2011-02-09\",\"2011-02-10\",\"2011-02-11\",\"2011-02-12\",\"2011-02-13\",\"2011-02-14\",\"2011-02-15\",\"2011-02-16\",\"2011-02-17\",\"2011-02-18\",\"2011-02-19\",\"2011-02-20\",\"2011-02-21\",\"2011-02-22\",\"2011-02-23\",\"2011-02-24\",\"2011-02-25\",\"2011-02-26\",\"2011-02-27\",\"2011-02-28\",\"2011-03-01\",\"2011-03-02\",\"2011-03-03\",\"2011-03-04\",\"2011-03-05\",\"2011-03-06\",\"2011-03-07\",\"2011-03-08\",\"2011-03-09\",\"2011-03-10\",\"2011-03-11\",\"2011-03-12\",\"2011-03-13\",\"2011-03-14\",\"2011-03-15\",\"2011-03-16\",\"2011-03-17\",\"2011-03-18\",\"2011-03-19\",\"2011-03-20\",\"2011-03-21\",\"2011-03-22\",\"2011-03-23\",\"2011-03-24\",\"2011-03-25\",\"2011-03-26\",\"2011-03-27\",\"2011-03-28\",\"2011-03-29\",\"2011-03-30\",\"2011-03-31\",\"2011-05-01\",\"2011-05-02\",\"2011-05-03\",\"2011-05-04\",\"2011-05-05\",\"2011-05-06\",\"2011-05-07\",\"2011-05-08\",\"2011-05-09\",\"2011-05-10\",\"2011-05-11\",\"2011-05-12\",\"2011-05-13\",\"2011-05-14\",\"2011-05-15\",\"2011-05-16\",\"2011-05-17\",\"2011-05-18\",\"2011-05-19\",\"2011-05-20\",\"2011-05-21\",\"2011-05-22\",\"2011-05-23\",\"2011-05-24\",\"2011-05-25\",\"2011-05-26\",\"2011-05-27\",\"2011-05-28\",\"2011-05-29\",\"2011-05-30\",\"2011-05-31\",\"2011-06-01\",\"2011-06-02\",\"2011-06-03\",\"2011-06-04\",\"2011-06-05\",\"2011-06-06\",\"2011-06-07\",\"2011-06-08\",\"2011-06-09\",\"2011-06-10\",\"2011-06-11\",\"2011-06-12\",\"2011-06-13\",\"2011-06-14\",\"2011-06-15\",\"2011-06-16\",\"2011-06-17\",\"2011-06-18\",\"2011-06-19\",\"2011-06-20\",\"2011-06-21\",\"2011-06-22\",\"2011-06-23\",\"2011-06-24\",\"2011-06-25\",\"2011-06-26\",\"2011-06-27\",\"2011-06-28\",\"2011-06-29\",\"2011-06-30\",\"2011-07-01\",\"2011-07-02\",\"2011-07-03\",\"2011-07-04\",\"2011-07-05\",\"2011-07-06\",\"2011-07-07\",\"2011-07-08\",\"2011-07-09\",\"2011-07-10\",\"2011-07-11\",\"2011-07-12\",\"2011-07-13\",\"2011-07-14\",\"2011-07-15\",\"2011-07-16\",\"2011-07-17\",\"2011-07-18\",\"2011-07-19\",\"2011-07-20\",\"2011-07-21\",\"2011-07-22\",\"2011-07-23\",\"2011-07-24\",\"2011-07-25\",\"2011-07-26\",\"2011-07-27\",\"2011-07-28\",\"2011-07-29\",\"2011-07-30\",\"2011-07-31\",\"2011-08-01\",\"2011-08-02\",\"2011-08-03\",\"2011-08-04\",\"2011-08-05\",\"2011-08-06\",\"2011-08-07\",\"2011-08-08\",\"2011-08-09\",\"2011-08-10\",\"2011-08-11\",\"2011-08-12\",\"2011-08-13\",\"2011-08-14\",\"2011-08-15\",\"2011-08-16\",\"2011-08-17\",\"2011-08-18\",\"2011-08-19\",\"2011-08-20\",\"2011-08-21\",\"2011-08-22\",\"2011-08-23\",\"2011-08-24\",\"2011-08-25\",\"2011-08-26\",\"2011-08-27\",\"2011-08-28\",\"2011-08-29\",\"2011-08-30\",\"2011-08-31\",\"2011-09-01\",\"2011-09-02\",\"2011-09-03\",\"2011-09-04\",\"2011-09-05\",\"2011-09-06\",\"2011-09-07\",\"2011-09-08\",\"2011-09-09\",\"2011-09-10\",\"2011-09-11\",\"2011-09-12\",\"2011-09-13\",\"2011-09-14\",\"2011-09-15\",\"2011-09-16\",\"2011-09-17\",\"2011-09-18\",\"2011-09-19\",\"2011-09-20\",\"2011-09-21\",\"2011-09-22\",\"2011-09-23\",\"2011-09-24\",\"2011-09-25\",\"2011-09-26\",\"2011-09-27\",\"2011-09-28\",\"2011-09-29\",\"2011-09-30\",\"2011-10-01\",\"2011-10-02\",\"2011-10-03\",\"2011-10-04\",\"2011-10-05\",\"2011-10-06\",\"2011-10-07\",\"2011-10-08\",\"2011-10-09\",\"2011-10-10\",\"2011-10-11\",\"2011-10-12\",\"2011-10-13\",\"2011-10-14\",\"2011-10-15\",\"2011-10-16\",\"2011-10-17\",\"2011-10-18\",\"2011-10-19\",\"2011-10-20\",\"2011-10-21\",\"2011-10-22\",\"2011-10-23\",\"2011-10-24\",\"2011-10-25\",\"2011-10-26\",\"2011-10-27\",\"2011-10-28\",\"2011-10-29\",\"2011-10-30\",\"2011-10-31\",\"2011-11-01\",\"2011-11-02\",\"2011-11-03\",\"2011-11-04\",\"2011-11-05\",\"2011-11-06\",\"2011-11-07\",\"2011-11-08\",\"2011-11-09\",\"2011-11-10\",\"2011-11-11\",\"2011-11-12\",\"2011-11-13\",\"2011-11-14\",\"2011-11-15\",\"2011-11-16\",\"2011-11-17\",\"2011-11-18\",\"2011-11-19\",\"2011-11-20\",\"2011-11-21\",\"2011-11-22\",\"2011-11-23\",\"2011-11-24\",\"2011-11-25\",\"2011-11-26\",\"2011-11-27\",\"2011-11-28\",\"2011-11-29\",\"2011-11-30\",\"2011-12-01\",\"2011-12-02\",\"2011-12-03\",\"2011-12-04\",\"2011-12-05\",\"2011-12-06\",\"2011-12-07\",\"2011-12-08\",\"2011-12-09\",\"2011-12-10\",\"2011-12-11\",\"2011-12-12\",\"2011-12-13\",\"2011-12-14\",\"2011-12-15\",\"2011-12-16\",\"2011-12-17\",\"2011-12-18\",\"2011-12-19\",\"2011-12-20\",\"2011-12-21\",\"2011-12-22\",\"2011-12-23\",\"2011-12-24\",\"2011-12-25\",\"2011-12-26\",\"2011-12-27\",\"2011-12-28\",\"2011-12-29\",\"2011-12-30\",\"2011-12-31\",\"2012-01-01\",\"2012-01-02\",\"2012-01-03\",\"2012-01-04\",\"2012-01-05\",\"2012-01-06\",\"2012-01-07\",\"2012-01-08\",\"2012-01-09\",\"2012-01-10\",\"2012-01-11\",\"2012-01-12\",\"2012-01-13\",\"2012-01-14\",\"2012-01-15\",\"2012-01-16\",\"2012-01-17\",\"2012-01-18\",\"2012-01-19\",\"2012-01-20\",\"2012-01-21\",\"2012-01-22\",\"2012-01-23\",\"2012-01-24\",\"2012-01-25\",\"2012-01-26\",\"2012-01-27\",\"2012-01-28\",\"2012-01-29\",\"2012-01-30\",\"2012-01-31\",\"2012-02-01\",\"2012-02-02\",\"2012-02-03\",\"2012-02-04\",\"2012-02-05\",\"2012-02-06\",\"2012-02-07\",\"2012-02-08\",\"2012-02-09\",\"2012-02-10\",\"2012-02-11\",\"2012-02-12\",\"2012-02-13\",\"2012-02-14\",\"2012-02-15\",\"2012-02-16\",\"2012-02-17\",\"2012-02-18\",\"2012-02-19\",\"2012-02-20\",\"2012-02-21\",\"2012-02-22\",\"2012-02-23\",\"2012-02-24\",\"2012-02-25\",\"2012-02-26\",\"2012-02-27\",\"2012-02-28\",\"2012-02-29\",\"2012-03-01\",\"2012-03-02\",\"2012-03-03\",\"2012-03-04\",\"2012-03-05\",\"2012-03-06\",\"2012-03-07\",\"2012-03-08\",\"2012-03-09\",\"2012-03-10\",\"2012-03-11\",\"2012-03-12\",\"2012-03-13\",\"2012-03-14\",\"2012-03-15\",\"2012-03-16\",\"2012-03-17\",\"2012-03-18\",\"2012-03-19\",\"2012-03-20\",\"2012-03-21\",\"2012-03-22\",\"2012-03-23\",\"2012-03-24\",\"2012-03-25\",\"2012-03-26\",\"2012-03-27\",\"2012-03-28\",\"2012-03-29\",\"2012-03-30\",\"2012-03-31\",\"2012-04-01\",\"2012-04-02\",\"2012-04-03\",\"2012-04-04\",\"2012-04-05\",\"2012-04-06\",\"2012-04-07\",\"2012-04-08\",\"2012-04-09\",\"2012-04-10\",\"2012-04-11\",\"2012-04-12\",\"2012-04-13\",\"2012-04-14\",\"2012-04-15\",\"2012-04-16\",\"2012-04-17\",\"2012-04-18\",\"2012-04-19\",\"2012-04-20\",\"2012-04-21\",\"2012-04-22\",\"2012-04-23\",\"2012-04-24\",\"2012-04-25\",\"2012-04-26\",\"2012-04-27\",\"2012-04-28\",\"2012-04-29\",\"2012-04-30\",\"2012-05-01\",\"2012-05-02\",\"2012-05-03\",\"2012-05-04\",\"2012-05-05\",\"2012-05-06\",\"2012-05-07\",\"2012-05-08\",\"2012-05-09\",\"2012-05-10\",\"2012-05-11\",\"2012-05-12\",\"2012-05-13\",\"2012-05-14\",\"2012-05-15\",\"2012-05-16\",\"2012-05-17\",\"2012-05-18\",\"2012-05-19\",\"2012-05-20\",\"2012-05-21\",\"2012-05-22\",\"2012-05-23\",\"2012-05-24\",\"2012-05-25\",\"2012-05-26\",\"2012-05-27\",\"2012-05-28\",\"2012-05-29\",\"2012-05-30\",\"2012-05-31\",\"2012-06-01\",\"2012-06-02\",\"2012-06-03\",\"2012-06-04\",\"2012-06-05\",\"2012-06-06\",\"2012-06-07\",\"2012-06-08\",\"2012-06-09\",\"2012-06-10\",\"2012-06-11\",\"2012-06-12\",\"2012-06-13\",\"2012-06-14\",\"2012-06-15\",\"2012-06-16\",\"2012-06-17\",\"2012-06-18\",\"2012-06-19\",\"2012-06-20\",\"2012-06-21\",\"2012-06-22\",\"2012-06-23\",\"2012-06-24\",\"2012-06-25\",\"2012-06-26\",\"2012-06-27\",\"2012-06-28\",\"2012-06-29\",\"2012-06-30\",\"2012-07-01\",\"2012-07-02\",\"2012-07-03\",\"2012-07-04\",\"2012-07-05\",\"2012-07-06\",\"2012-07-07\",\"2012-07-08\",\"2012-07-09\",\"2012-07-10\",\"2012-07-11\",\"2012-07-12\",\"2012-07-13\",\"2012-07-14\",\"2012-07-15\",\"2012-07-16\",\"2012-07-17\",\"2012-07-18\",\"2012-07-19\",\"2012-07-20\",\"2012-07-21\",\"2012-07-22\",\"2012-07-23\",\"2012-07-24\",\"2012-07-25\",\"2012-07-26\",\"2012-07-27\",\"2012-07-28\",\"2012-07-29\",\"2012-07-30\",\"2012-07-31\",\"2012-08-01\",\"2012-08-02\",\"2012-08-03\",\"2012-08-04\",\"2012-08-05\",\"2012-08-06\",\"2012-08-07\",\"2012-08-08\",\"2012-08-09\",\"2012-08-10\",\"2012-08-11\",\"2012-08-12\",\"2012-08-13\",\"2012-08-14\",\"2012-08-15\",\"2012-08-16\",\"2012-08-17\",\"2012-08-18\",\"2012-08-19\",\"2012-08-20\",\"2012-08-21\",\"2012-08-22\",\"2012-08-23\",\"2012-08-24\",\"2012-08-25\",\"2012-08-26\",\"2012-08-27\",\"2012-08-28\",\"2012-08-29\",\"2012-08-30\",\"2012-08-31\",\"2012-09-01\",\"2012-09-02\",\"2012-09-03\",\"2012-09-04\",\"2012-09-05\",\"2012-09-06\",\"2012-09-07\",\"2012-09-08\",\"2012-09-09\",\"2012-09-10\",\"2012-09-11\",\"2012-09-12\",\"2012-09-13\",\"2012-09-14\",\"2012-09-15\",\"2012-09-16\",\"2012-09-17\",\"2012-09-18\",\"2012-09-19\",\"2012-09-20\",\"2012-09-21\",\"2012-09-22\",\"2012-09-23\",\"2012-09-24\",\"2012-09-25\",\"2012-09-26\",\"2012-09-27\",\"2012-09-28\",\"2012-09-29\",\"2012-09-30\",\"2012-10-01\",\"2012-10-02\",\"2012-10-03\",\"2012-10-04\",\"2012-10-05\",\"2012-10-06\",\"2012-10-07\",\"2012-10-08\",\"2012-10-09\",\"2012-10-10\",\"2012-10-11\",\"2012-10-12\",\"2012-10-13\",\"2012-10-14\",\"2012-10-15\",\"2012-10-16\",\"2012-10-17\",\"2012-10-18\",\"2012-10-19\",\"2012-10-20\",\"2012-10-21\",\"2012-10-22\",\"2012-10-23\",\"2012-10-24\",\"2012-10-25\",\"2012-10-26\",\"2012-10-27\",\"2012-10-28\",\"2012-10-29\",\"2012-10-30\",\"2012-10-31\",\"2012-11-01\",\"2012-11-02\",\"2012-11-03\",\"2012-11-04\",\"2012-11-05\",\"2012-11-06\",\"2012-11-07\",\"2012-11-08\",\"2012-11-09\",\"2012-11-10\",\"2012-11-11\",\"2012-11-12\",\"2012-11-13\",\"2012-11-14\",\"2012-11-15\",\"2012-11-16\",\"2012-11-17\",\"2012-11-18\",\"2012-11-19\",\"2012-11-20\",\"2012-11-21\",\"2012-11-22\",\"2012-11-23\",\"2012-11-24\",\"2012-11-25\",\"2012-11-26\",\"2012-11-27\",\"2012-11-28\",\"2012-11-29\",\"2012-11-30\",\"2013-01-01\",\"2013-01-02\",\"2013-01-03\",\"2013-01-04\",\"2013-01-05\",\"2013-01-06\",\"2013-01-07\",\"2013-01-08\",\"2013-01-09\",\"2013-01-10\",\"2013-01-11\",\"2013-01-12\",\"2013-01-13\",\"2013-01-14\",\"2013-01-15\",\"2013-01-16\",\"2013-01-17\",\"2013-01-18\",\"2013-01-19\",\"2013-01-20\",\"2013-01-21\",\"2013-01-22\",\"2013-01-23\",\"2013-01-24\",\"2013-01-25\",\"2013-01-26\",\"2013-01-27\",\"2013-01-28\",\"2013-01-29\",\"2013-01-30\",\"2013-01-31\",\"2013-03-01\",\"2013-03-02\",\"2013-03-03\",\"2013-03-04\",\"2013-03-05\",\"2013-03-06\",\"2013-03-07\",\"2013-03-08\",\"2013-03-09\",\"2013-03-10\",\"2013-03-11\",\"2013-03-12\",\"2013-03-13\",\"2013-03-14\",\"2013-03-15\",\"2013-03-16\",\"2013-03-17\",\"2013-03-18\",\"2013-03-19\",\"2013-03-20\",\"2013-03-21\",\"2013-03-22\",\"2013-03-23\",\"2013-03-24\",\"2013-03-25\",\"2013-03-26\",\"2013-03-27\",\"2013-03-28\",\"2013-03-29\",\"2013-03-30\",\"2013-03-31\",\"2013-04-01\",\"2013-04-02\",\"2013-04-03\",\"2013-04-04\",\"2013-04-05\",\"2013-04-06\",\"2013-04-07\",\"2013-04-08\",\"2013-04-09\",\"2013-04-10\",\"2013-04-11\",\"2013-04-12\",\"2013-04-13\",\"2013-04-14\",\"2013-04-15\",\"2013-04-16\",\"2013-04-17\",\"2013-04-18\",\"2013-04-19\",\"2013-04-20\",\"2013-04-21\",\"2013-04-22\",\"2013-04-23\",\"2013-04-24\",\"2013-04-25\",\"2013-04-26\",\"2013-04-27\",\"2013-04-28\",\"2013-04-29\",\"2013-04-30\",\"2013-05-01\",\"2013-05-02\",\"2013-05-03\",\"2013-05-04\",\"2013-05-05\",\"2013-05-06\",\"2013-05-07\",\"2013-05-08\",\"2013-05-09\",\"2013-05-10\",\"2013-05-11\",\"2013-05-12\",\"2013-05-13\",\"2013-05-14\",\"2013-05-15\",\"2013-05-16\",\"2013-05-17\",\"2013-05-18\",\"2013-05-19\",\"2013-05-20\",\"2013-05-21\",\"2013-05-22\",\"2013-05-23\",\"2013-05-24\",\"2013-05-25\",\"2013-05-26\",\"2013-05-27\",\"2013-05-28\",\"2013-05-29\",\"2013-05-30\",\"2013-05-31\",\"2013-06-01\",\"2013-06-02\",\"2013-06-03\",\"2013-06-04\",\"2013-06-05\",\"2013-06-06\",\"2013-06-07\",\"2013-06-08\",\"2013-06-09\",\"2013-06-10\",\"2013-06-11\",\"2013-06-12\",\"2013-06-13\",\"2013-06-14\",\"2013-06-15\",\"2013-06-16\",\"2013-06-17\",\"2013-06-18\",\"2013-06-19\",\"2013-06-20\",\"2013-06-21\",\"2013-06-22\",\"2013-06-23\",\"2013-06-24\",\"2013-06-25\",\"2013-06-26\",\"2013-06-27\",\"2013-06-28\",\"2013-06-29\",\"2013-06-30\",\"2013-07-01\",\"2013-07-02\",\"2013-07-03\",\"2013-07-04\",\"2013-07-05\",\"2013-07-06\",\"2013-07-07\",\"2013-07-08\",\"2013-07-09\",\"2013-07-10\",\"2013-07-11\",\"2013-07-12\",\"2013-07-13\",\"2013-07-14\",\"2013-07-15\",\"2013-07-16\",\"2013-07-17\",\"2013-07-18\",\"2013-07-19\",\"2013-07-20\",\"2013-07-21\",\"2013-07-22\",\"2013-07-23\",\"2013-07-24\",\"2013-07-25\",\"2013-07-26\",\"2013-07-27\",\"2013-07-28\",\"2013-07-29\",\"2013-07-30\",\"2013-07-31\",\"2013-08-01\",\"2013-08-02\",\"2013-08-03\",\"2013-08-04\",\"2013-08-05\",\"2013-08-06\",\"2013-08-07\",\"2013-08-08\",\"2013-08-09\",\"2013-08-10\",\"2013-08-11\",\"2013-08-12\",\"2013-08-13\",\"2013-08-14\",\"2013-08-15\",\"2013-08-16\",\"2013-08-17\",\"2013-08-18\",\"2013-08-19\",\"2013-08-20\",\"2013-08-21\",\"2013-08-22\",\"2013-08-23\",\"2013-08-24\",\"2013-08-25\",\"2013-08-26\",\"2013-08-27\",\"2013-08-28\",\"2013-08-29\",\"2013-08-30\",\"2013-08-31\",\"2013-09-01\",\"2013-09-02\",\"2013-09-03\",\"2013-09-04\",\"2013-09-05\",\"2013-09-06\",\"2013-09-07\",\"2013-09-08\",\"2013-09-09\",\"2013-09-10\",\"2013-09-11\",\"2013-09-12\",\"2013-09-13\",\"2013-09-14\",\"2013-09-15\",\"2013-09-16\",\"2013-09-17\",\"2013-09-18\",\"2013-09-19\",\"2013-09-20\",\"2013-09-21\",\"2013-09-22\",\"2013-09-23\",\"2013-09-24\",\"2013-09-25\",\"2013-09-26\",\"2013-09-27\",\"2013-09-28\",\"2013-09-29\",\"2013-09-30\",\"2013-10-01\",\"2013-10-02\",\"2013-10-03\",\"2013-10-04\",\"2013-10-05\",\"2013-10-06\",\"2013-10-07\",\"2013-10-08\",\"2013-10-09\",\"2013-10-10\",\"2013-10-11\",\"2013-10-12\",\"2013-10-13\",\"2013-10-14\",\"2013-10-15\",\"2013-10-16\",\"2013-10-17\",\"2013-10-18\",\"2013-10-19\",\"2013-10-20\",\"2013-10-21\",\"2013-10-22\",\"2013-10-23\",\"2013-10-24\",\"2013-10-25\",\"2013-10-26\",\"2013-10-27\",\"2013-10-28\",\"2013-10-29\",\"2013-10-30\",\"2013-10-31\",\"2013-11-01\",\"2013-11-02\",\"2013-11-03\",\"2013-11-04\",\"2013-11-05\",\"2013-11-06\",\"2013-11-07\",\"2013-11-08\",\"2013-11-09\",\"2013-11-10\",\"2013-11-11\",\"2013-11-12\",\"2013-11-13\",\"2013-11-14\",\"2013-11-15\",\"2013-11-16\",\"2013-11-17\",\"2013-11-18\",\"2013-11-19\",\"2013-11-20\",\"2013-11-21\",\"2013-11-22\",\"2013-11-23\",\"2013-11-24\",\"2013-11-25\",\"2013-11-26\",\"2013-11-27\",\"2013-11-28\",\"2013-11-29\",\"2013-11-30\",\"2013-12-01\",\"2013-12-02\",\"2013-12-03\",\"2013-12-04\",\"2013-12-05\",\"2013-12-06\",\"2013-12-07\",\"2013-12-08\",\"2013-12-09\",\"2013-12-10\",\"2013-12-11\",\"2013-12-12\",\"2013-12-13\",\"2013-12-14\",\"2013-12-15\",\"2013-12-16\",\"2013-12-17\",\"2013-12-18\",\"2013-12-19\",\"2013-12-20\",\"2013-12-21\",\"2013-12-22\",\"2013-12-23\",\"2013-12-24\",\"2013-12-25\",\"2013-12-26\",\"2013-12-27\",\"2013-12-28\",\"2013-12-29\",\"2013-12-30\",\"2013-12-31\",\"2014-01-01\",\"2014-01-02\",\"2014-01-03\",\"2014-01-04\",\"2014-01-05\",\"2014-01-06\",\"2014-01-07\",\"2014-01-08\",\"2014-01-09\",\"2014-01-10\",\"2014-01-11\",\"2014-01-12\",\"2014-01-13\",\"2014-01-14\",\"2014-01-15\",\"2014-01-16\",\"2014-01-17\",\"2014-01-18\",\"2014-01-19\",\"2014-01-20\",\"2014-01-21\",\"2014-01-22\",\"2014-01-23\",\"2014-01-24\",\"2014-01-25\",\"2014-01-26\",\"2014-01-27\",\"2014-01-28\",\"2014-01-29\",\"2014-01-30\",\"2014-01-31\",\"2014-02-01\",\"2014-02-02\",\"2014-02-03\",\"2014-02-04\",\"2014-02-05\",\"2014-02-06\",\"2014-02-07\",\"2014-02-08\",\"2014-02-09\",\"2014-02-10\",\"2014-02-11\",\"2014-02-12\",\"2014-02-13\",\"2014-02-14\",\"2014-02-15\",\"2014-02-16\",\"2014-02-17\",\"2014-02-18\",\"2014-02-19\",\"2014-02-20\",\"2014-02-21\",\"2014-02-22\",\"2014-02-23\",\"2014-02-24\",\"2014-02-25\",\"2014-02-26\",\"2014-02-27\",\"2014-02-28\",\"2014-03-01\",\"2014-03-02\",\"2014-03-03\",\"2014-03-04\",\"2014-03-05\",\"2014-03-06\",\"2014-03-07\",\"2014-03-08\",\"2014-03-09\",\"2014-03-10\",\"2014-03-11\",\"2014-03-12\",\"2014-03-13\",\"2014-03-14\",\"2014-03-15\",\"2014-03-16\",\"2014-03-17\",\"2014-03-18\",\"2014-03-19\",\"2014-03-20\",\"2014-03-21\",\"2014-03-22\",\"2014-03-23\",\"2014-03-24\",\"2014-03-25\",\"2014-03-26\",\"2014-03-27\",\"2014-03-28\",\"2014-03-29\",\"2014-03-30\",\"2014-03-31\",\"2014-04-01\",\"2014-04-02\",\"2014-04-03\",\"2014-04-04\",\"2014-04-05\",\"2014-04-06\",\"2014-04-07\",\"2014-04-08\",\"2014-04-09\",\"2014-04-10\",\"2014-04-11\",\"2014-04-12\",\"2014-04-13\",\"2014-04-14\",\"2014-04-15\",\"2014-04-16\",\"2014-04-17\",\"2014-04-18\",\"2014-04-19\",\"2014-04-20\",\"2014-04-21\",\"2014-04-22\",\"2014-04-23\",\"2014-04-24\",\"2014-04-25\",\"2014-04-26\",\"2014-04-27\",\"2014-04-28\",\"2014-04-29\",\"2014-04-30\",\"2014-05-01\",\"2014-05-02\",\"2014-05-03\",\"2014-05-04\",\"2014-05-05\",\"2014-05-06\",\"2014-05-07\",\"2014-05-08\",\"2014-05-09\",\"2014-05-10\",\"2014-05-11\",\"2014-05-12\",\"2014-05-13\",\"2014-05-14\",\"2014-05-15\",\"2014-05-16\",\"2014-05-17\",\"2014-05-18\",\"2014-05-19\",\"2014-05-20\",\"2014-05-21\",\"2014-05-22\",\"2014-05-23\",\"2014-05-24\",\"2014-05-25\",\"2014-05-26\",\"2014-05-27\",\"2014-05-28\",\"2014-05-29\",\"2014-05-30\",\"2014-05-31\",\"2014-06-01\",\"2014-06-02\",\"2014-06-03\",\"2014-06-04\",\"2014-06-05\",\"2014-06-06\",\"2014-06-07\",\"2014-06-08\",\"2014-06-09\",\"2014-06-10\",\"2014-06-11\",\"2014-06-12\",\"2014-06-13\",\"2014-06-14\",\"2014-06-15\",\"2014-06-16\",\"2014-06-17\",\"2014-06-18\",\"2014-06-19\",\"2014-06-20\",\"2014-06-21\",\"2014-06-22\",\"2014-06-23\",\"2014-06-24\",\"2014-06-25\",\"2014-06-26\",\"2014-06-27\",\"2014-06-28\",\"2014-06-29\",\"2014-06-30\",\"2014-07-01\",\"2014-07-02\",\"2014-07-03\",\"2014-07-04\",\"2014-07-05\",\"2014-07-06\",\"2014-07-07\",\"2014-07-08\",\"2014-07-09\",\"2014-07-10\",\"2014-07-11\",\"2014-07-12\",\"2014-07-13\",\"2014-07-14\",\"2014-07-15\",\"2014-07-16\",\"2014-07-17\",\"2014-07-18\",\"2014-07-19\",\"2014-07-20\",\"2014-07-21\",\"2014-07-22\",\"2014-07-23\",\"2014-07-24\",\"2014-07-25\",\"2014-07-26\",\"2014-07-27\",\"2014-07-28\",\"2014-07-29\",\"2014-07-30\",\"2014-07-31\",\"2014-08-01\",\"2014-08-02\",\"2014-08-03\",\"2014-08-04\",\"2014-08-05\",\"2014-08-06\",\"2014-08-07\",\"2014-08-08\",\"2014-08-09\",\"2014-08-10\",\"2014-08-11\",\"2014-08-12\",\"2014-08-13\",\"2014-08-14\",\"2014-08-15\",\"2014-08-16\",\"2014-08-17\",\"2014-08-18\",\"2014-08-19\",\"2014-08-20\",\"2014-08-21\",\"2014-08-22\",\"2014-08-23\",\"2014-08-24\",\"2014-08-25\",\"2014-08-26\",\"2014-08-27\",\"2014-08-28\",\"2014-08-29\",\"2014-08-30\",\"2014-08-31\",\"2014-09-01\",\"2014-09-02\",\"2014-09-03\",\"2014-09-04\",\"2014-09-05\",\"2014-09-06\",\"2014-09-07\",\"2014-09-08\",\"2014-09-09\",\"2014-09-10\",\"2014-09-11\",\"2014-09-12\",\"2014-09-13\",\"2014-09-14\",\"2014-09-15\",\"2014-09-16\",\"2014-09-17\",\"2014-09-18\",\"2014-09-19\",\"2014-09-20\",\"2014-09-21\",\"2014-09-22\",\"2014-09-23\",\"2014-09-24\",\"2014-09-25\",\"2014-09-26\",\"2014-09-27\",\"2014-09-28\",\"2014-09-29\",\"2014-09-30\",\"2014-10-01\",\"2014-10-02\",\"2014-10-03\",\"2014-10-04\",\"2014-10-05\",\"2014-10-06\",\"2014-10-07\",\"2014-10-08\",\"2014-10-09\",\"2014-10-10\",\"2014-10-11\",\"2014-10-12\",\"2014-10-13\",\"2014-10-14\",\"2014-10-15\",\"2014-10-16\",\"2014-10-17\",\"2014-10-18\",\"2014-10-19\",\"2014-10-20\",\"2014-10-21\",\"2014-10-22\",\"2014-10-23\",\"2014-10-24\",\"2014-10-25\",\"2014-10-26\",\"2014-10-27\",\"2014-10-28\",\"2014-10-29\",\"2014-10-30\",\"2014-10-31\",\"2014-11-01\",\"2014-11-02\",\"2014-11-03\",\"2014-11-04\",\"2014-11-05\",\"2014-11-06\",\"2014-11-07\",\"2014-11-08\",\"2014-11-09\",\"2014-11-10\",\"2014-11-11\",\"2014-11-12\",\"2014-11-13\",\"2014-11-14\",\"2014-11-15\",\"2014-11-16\",\"2014-11-17\",\"2014-11-18\",\"2014-11-19\",\"2014-11-20\",\"2014-11-21\",\"2014-11-22\",\"2014-11-23\",\"2014-11-24\",\"2014-11-25\",\"2014-11-26\",\"2014-11-27\",\"2014-11-29\",\"2014-11-30\",\"2014-12-01\",\"2014-12-02\",\"2014-12-03\",\"2014-12-04\",\"2014-12-05\",\"2014-12-06\",\"2014-12-07\",\"2014-12-08\",\"2014-12-09\",\"2014-12-10\",\"2014-12-11\",\"2014-12-12\",\"2014-12-13\",\"2014-12-14\",\"2014-12-15\",\"2014-12-16\",\"2014-12-17\",\"2014-12-18\",\"2014-12-19\",\"2014-12-20\",\"2014-12-21\",\"2014-12-22\",\"2014-12-23\",\"2014-12-24\",\"2014-12-25\",\"2014-12-26\",\"2014-12-27\",\"2014-12-28\",\"2014-12-29\",\"2014-12-30\",\"2014-12-31\",\"2015-01-01\",\"2015-01-02\",\"2015-01-03\",\"2015-01-04\",\"2015-01-05\",\"2015-01-06\",\"2015-01-07\",\"2015-01-08\",\"2015-01-09\",\"2015-01-10\",\"2015-01-11\",\"2015-01-12\",\"2015-01-13\",\"2015-01-14\",\"2015-01-15\",\"2015-01-16\",\"2015-01-17\",\"2015-01-18\",\"2015-01-19\",\"2015-01-20\",\"2015-01-21\",\"2015-01-22\",\"2015-01-23\",\"2015-01-24\",\"2015-01-25\",\"2015-01-26\",\"2015-01-27\",\"2015-01-28\",\"2015-01-29\",\"2015-01-30\",\"2015-01-31\",\"2015-02-01\",\"2015-02-02\",\"2015-02-03\",\"2015-02-04\",\"2015-02-05\",\"2015-02-06\",\"2015-02-07\",\"2015-02-08\",\"2015-02-09\",\"2015-02-10\",\"2015-02-11\",\"2015-02-12\",\"2015-02-13\",\"2015-02-14\",\"2015-02-15\",\"2015-02-16\",\"2015-02-17\",\"2015-02-18\",\"2015-02-19\",\"2015-02-20\",\"2015-02-21\",\"2015-02-22\",\"2015-02-23\",\"2015-02-24\",\"2015-02-25\",\"2015-02-26\",\"2015-02-27\",\"2015-02-28\",\"2015-03-01\",\"2015-03-02\",\"2015-03-03\",\"2015-03-04\",\"2015-03-05\",\"2015-03-06\",\"2015-03-07\",\"2015-03-08\",\"2015-03-09\",\"2015-03-10\",\"2015-03-11\",\"2015-03-12\",\"2015-03-13\",\"2015-03-14\",\"2015-03-15\",\"2015-03-16\",\"2015-03-17\",\"2015-03-18\",\"2015-03-19\",\"2015-03-20\",\"2015-03-21\",\"2015-03-22\",\"2015-03-23\",\"2015-03-24\",\"2015-03-25\",\"2015-03-26\",\"2015-03-27\",\"2015-03-28\",\"2015-03-29\",\"2015-03-30\",\"2015-03-31\",\"2015-04-01\",\"2015-04-02\",\"2015-04-03\",\"2015-04-04\",\"2015-04-05\",\"2015-04-06\",\"2015-04-07\",\"2015-04-08\",\"2015-04-09\",\"2015-04-10\",\"2015-04-11\",\"2015-04-12\",\"2015-04-13\",\"2015-04-14\",\"2015-04-15\",\"2015-04-16\",\"2015-04-17\",\"2015-04-18\",\"2015-04-19\",\"2015-04-20\",\"2015-04-21\",\"2015-04-22\",\"2015-04-23\",\"2015-04-24\",\"2015-04-25\",\"2015-04-26\",\"2015-04-27\",\"2015-04-28\",\"2015-04-29\",\"2015-04-30\",\"2015-05-01\",\"2015-05-02\",\"2015-05-03\",\"2015-05-04\",\"2015-05-05\",\"2015-05-06\",\"2015-05-07\",\"2015-05-08\",\"2015-05-09\",\"2015-05-10\",\"2015-05-11\",\"2015-05-12\",\"2015-05-13\",\"2015-05-14\",\"2015-05-15\",\"2015-05-16\",\"2015-05-17\",\"2015-05-18\",\"2015-05-19\",\"2015-05-20\",\"2015-05-21\",\"2015-05-22\",\"2015-05-23\",\"2015-05-24\",\"2015-05-25\",\"2015-05-26\",\"2015-05-27\",\"2015-05-28\",\"2015-05-29\",\"2015-05-30\",\"2015-05-31\",\"2015-06-01\",\"2015-06-02\",\"2015-06-03\",\"2015-06-04\",\"2015-06-05\",\"2015-06-06\",\"2015-06-07\",\"2015-06-08\",\"2015-06-09\",\"2015-06-10\",\"2015-06-11\",\"2015-06-12\",\"2015-06-13\",\"2015-06-14\",\"2015-06-15\",\"2015-06-16\",\"2015-06-17\",\"2015-06-18\",\"2015-06-19\",\"2015-06-20\",\"2015-06-21\",\"2015-06-22\",\"2015-06-23\",\"2015-06-24\",\"2015-06-25\",\"2015-06-26\",\"2015-06-27\",\"2015-06-28\",\"2015-06-29\",\"2015-06-30\",\"2015-07-01\",\"2015-07-02\",\"2015-07-03\",\"2015-07-04\",\"2015-07-05\",\"2015-07-06\",\"2015-07-07\",\"2015-07-08\",\"2015-07-09\",\"2015-07-10\",\"2015-07-11\",\"2015-07-12\",\"2015-07-13\",\"2015-07-14\",\"2015-07-15\",\"2015-07-16\",\"2015-07-17\",\"2015-07-18\",\"2015-07-19\",\"2015-07-20\",\"2015-07-21\",\"2015-07-22\",\"2015-07-23\",\"2015-07-24\",\"2015-07-25\",\"2015-07-26\",\"2015-07-27\",\"2015-07-28\",\"2015-07-29\",\"2015-07-30\",\"2015-07-31\",\"2015-08-01\",\"2015-08-02\",\"2015-08-03\",\"2015-08-04\",\"2015-08-05\",\"2015-08-06\",\"2015-08-07\",\"2015-08-08\",\"2015-08-09\",\"2015-08-10\",\"2015-08-11\",\"2015-08-12\",\"2015-08-13\",\"2015-08-14\",\"2015-08-15\",\"2015-08-16\",\"2015-08-17\",\"2015-08-18\",\"2015-08-19\",\"2015-08-20\",\"2015-08-21\",\"2015-08-22\",\"2015-08-23\",\"2015-08-24\",\"2015-08-25\",\"2015-08-26\",\"2015-08-27\",\"2015-08-28\",\"2015-08-29\",\"2015-08-30\",\"2015-08-31\",\"2015-09-01\",\"2015-09-02\",\"2015-09-03\",\"2015-09-04\",\"2015-09-05\",\"2015-09-06\",\"2015-09-07\",\"2015-09-08\",\"2015-09-09\",\"2015-09-10\",\"2015-09-11\",\"2015-09-12\",\"2015-09-13\",\"2015-09-14\",\"2015-09-15\",\"2015-09-16\",\"2015-09-17\",\"2015-09-18\",\"2015-09-19\",\"2015-09-20\",\"2015-09-21\",\"2015-09-22\",\"2015-09-23\",\"2015-09-24\",\"2015-09-25\",\"2015-09-26\",\"2015-09-27\",\"2015-09-28\",\"2015-09-29\",\"2015-09-30\",\"2015-10-01\",\"2015-10-02\",\"2015-10-03\",\"2015-10-04\",\"2015-10-05\",\"2015-10-06\",\"2015-10-07\",\"2015-10-08\",\"2015-10-09\",\"2015-10-10\",\"2015-10-11\",\"2015-10-12\",\"2015-10-13\",\"2015-10-14\",\"2015-10-15\",\"2015-10-16\",\"2015-10-17\",\"2015-10-18\",\"2015-10-19\",\"2015-10-20\",\"2015-10-21\",\"2015-10-22\",\"2015-10-23\",\"2015-10-24\",\"2015-10-25\",\"2015-10-26\",\"2015-10-27\",\"2015-10-28\",\"2015-10-29\",\"2015-10-30\",\"2015-10-31\",\"2015-11-01\",\"2015-11-02\",\"2015-11-03\",\"2015-11-04\",\"2015-11-05\",\"2015-11-06\",\"2015-11-07\",\"2015-11-08\",\"2015-11-09\",\"2015-11-10\",\"2015-11-11\",\"2015-11-12\",\"2015-11-13\",\"2015-11-14\",\"2015-11-15\",\"2015-11-16\",\"2015-11-17\",\"2015-11-18\",\"2015-11-19\",\"2015-11-20\",\"2015-11-21\",\"2015-11-22\",\"2015-11-23\",\"2015-11-24\",\"2015-11-25\",\"2015-11-26\",\"2015-11-27\",\"2015-11-28\",\"2015-11-29\",\"2015-11-30\",\"2015-12-01\",\"2015-12-02\",\"2015-12-03\",\"2015-12-04\",\"2015-12-05\",\"2015-12-06\",\"2015-12-07\",\"2015-12-08\",\"2015-12-09\",\"2015-12-10\",\"2015-12-11\",\"2015-12-12\",\"2015-12-13\",\"2015-12-14\",\"2015-12-15\",\"2015-12-16\",\"2015-12-17\",\"2015-12-18\",\"2015-12-19\",\"2015-12-20\",\"2015-12-21\",\"2015-12-22\",\"2015-12-23\",\"2015-12-24\",\"2015-12-25\",\"2015-12-26\",\"2015-12-27\",\"2015-12-28\",\"2015-12-29\",\"2015-12-30\",\"2015-12-31\",\"2016-01-01\",\"2016-01-02\",\"2016-01-03\",\"2016-01-04\",\"2016-01-05\",\"2016-01-06\",\"2016-01-07\",\"2016-01-08\",\"2016-01-09\",\"2016-01-10\",\"2016-01-11\",\"2016-01-12\",\"2016-01-13\",\"2016-01-14\",\"2016-01-15\",\"2016-01-16\",\"2016-01-17\",\"2016-01-18\",\"2016-01-19\",\"2016-01-20\",\"2016-01-21\",\"2016-01-22\",\"2016-01-23\",\"2016-01-24\",\"2016-01-25\",\"2016-01-26\",\"2016-01-27\",\"2016-01-28\",\"2016-01-29\",\"2016-01-30\",\"2016-01-31\",\"2016-02-01\",\"2016-02-02\",\"2016-02-03\",\"2016-02-04\",\"2016-02-05\",\"2016-02-06\",\"2016-02-07\",\"2016-02-08\",\"2016-02-09\",\"2016-02-10\",\"2016-02-11\",\"2016-02-12\",\"2016-02-13\",\"2016-02-14\",\"2016-02-15\",\"2016-02-16\",\"2016-02-17\",\"2016-02-18\",\"2016-02-19\",\"2016-02-20\",\"2016-02-21\",\"2016-02-22\",\"2016-02-23\",\"2016-02-24\",\"2016-02-25\",\"2016-02-26\",\"2016-02-27\",\"2016-02-28\",\"2016-02-29\",\"2016-03-01\",\"2016-03-02\",\"2016-03-03\",\"2016-03-04\",\"2016-03-05\",\"2016-03-06\",\"2016-03-07\",\"2016-03-08\",\"2016-03-09\",\"2016-03-10\",\"2016-03-11\",\"2016-03-12\",\"2016-03-13\",\"2016-03-14\",\"2016-03-15\",\"2016-03-16\",\"2016-03-17\",\"2016-03-18\",\"2016-03-19\",\"2016-03-20\",\"2016-03-21\",\"2016-03-22\",\"2016-03-23\",\"2016-03-24\",\"2016-03-25\",\"2016-03-26\",\"2016-03-27\",\"2016-03-28\",\"2016-03-29\",\"2016-03-30\",\"2016-03-31\",\"2016-04-01\",\"2016-04-02\",\"2016-04-03\",\"2016-04-04\",\"2016-04-05\",\"2016-04-06\",\"2016-04-07\",\"2016-04-08\",\"2016-04-09\",\"2016-04-10\",\"2016-04-11\",\"2016-04-12\",\"2016-04-13\",\"2016-04-14\",\"2016-04-15\",\"2016-04-16\",\"2016-04-17\",\"2016-04-18\",\"2016-04-19\",\"2016-04-20\",\"2016-04-21\",\"2016-04-22\",\"2016-04-23\",\"2016-04-24\",\"2016-04-25\",\"2016-04-26\",\"2016-04-27\",\"2016-04-28\",\"2016-04-29\",\"2016-04-30\",\"2016-05-01\",\"2016-05-02\",\"2016-05-03\",\"2016-05-04\",\"2016-05-05\",\"2016-05-06\",\"2016-05-07\",\"2016-05-08\",\"2016-05-09\",\"2016-05-10\",\"2016-05-11\",\"2016-05-12\",\"2016-05-13\",\"2016-05-14\",\"2016-05-15\",\"2016-05-16\",\"2016-05-17\",\"2016-05-18\",\"2016-05-19\",\"2016-05-20\",\"2016-05-21\",\"2016-05-22\",\"2016-05-23\",\"2016-05-24\",\"2016-05-25\",\"2016-05-26\",\"2016-05-27\",\"2016-05-28\",\"2016-05-29\",\"2016-05-30\",\"2016-05-31\",\"2016-06-01\",\"2016-06-02\",\"2016-06-03\",\"2016-06-04\",\"2016-06-05\",\"2016-06-06\",\"2016-06-07\",\"2016-06-08\",\"2016-06-09\",\"2016-06-10\",\"2016-06-11\",\"2016-06-12\",\"2016-06-13\",\"2016-06-14\",\"2016-06-15\",\"2016-06-16\",\"2016-06-17\",\"2016-06-18\",\"2016-06-19\",\"2016-06-20\",\"2016-06-21\",\"2016-06-22\",\"2016-06-23\",\"2016-06-24\",\"2016-06-25\",\"2016-06-26\",\"2016-06-27\",\"2016-06-28\",\"2016-06-29\",\"2016-06-30\",\"2016-07-01\",\"2016-07-02\",\"2016-07-03\",\"2016-07-04\",\"2016-07-05\",\"2016-07-06\",\"2016-07-07\",\"2016-07-08\",\"2016-07-09\",\"2016-07-10\",\"2016-07-11\",\"2016-07-12\",\"2016-07-13\",\"2016-07-14\",\"2016-07-15\",\"2016-07-16\",\"2016-07-17\",\"2016-07-18\",\"2016-07-19\",\"2016-07-20\",\"2016-07-21\",\"2016-07-22\",\"2016-07-23\",\"2016-07-24\",\"2016-07-25\",\"2016-07-26\",\"2016-07-27\",\"2016-07-28\",\"2016-07-29\",\"2016-07-30\",\"2016-07-31\",\"2016-08-01\",\"2016-08-02\",\"2016-08-03\",\"2016-08-04\",\"2016-08-05\",\"2016-08-06\",\"2016-08-07\",\"2016-08-08\",\"2016-08-09\",\"2016-08-10\",\"2016-08-11\",\"2016-08-12\",\"2016-08-13\",\"2016-08-14\",\"2016-08-15\",\"2016-08-16\",\"2016-08-17\",\"2016-08-18\",\"2016-08-19\",\"2016-08-20\",\"2016-08-21\",\"2016-08-22\",\"2016-08-23\",\"2016-08-24\",\"2016-08-25\",\"2016-08-26\",\"2016-08-27\",\"2016-08-28\",\"2016-08-29\",\"2016-08-30\",\"2016-08-31\",\"2016-09-01\",\"2016-09-02\",\"2016-09-03\",\"2016-09-04\",\"2016-09-05\",\"2016-09-06\",\"2016-09-07\",\"2016-09-08\",\"2016-09-09\",\"2016-09-10\",\"2016-09-11\",\"2016-09-12\",\"2016-09-13\",\"2016-09-14\",\"2016-09-15\",\"2016-09-16\",\"2016-09-17\",\"2016-09-18\",\"2016-09-19\",\"2016-09-20\",\"2016-09-21\",\"2016-09-22\",\"2016-09-23\",\"2016-09-24\",\"2016-09-25\",\"2016-09-26\",\"2016-09-27\",\"2016-09-28\",\"2016-09-29\",\"2016-09-30\",\"2016-10-01\",\"2016-10-02\",\"2016-10-03\",\"2016-10-04\",\"2016-10-05\",\"2016-10-06\",\"2016-10-07\",\"2016-10-08\",\"2016-10-09\",\"2016-10-10\",\"2016-10-11\",\"2016-10-12\",\"2016-10-13\",\"2016-10-14\",\"2016-10-15\",\"2016-10-16\",\"2016-10-17\",\"2016-10-18\",\"2016-10-19\",\"2016-10-20\",\"2016-10-21\",\"2016-10-22\",\"2016-10-23\",\"2016-10-24\",\"2016-10-25\",\"2016-10-26\",\"2016-10-27\",\"2016-10-28\",\"2016-10-29\",\"2016-10-30\",\"2016-10-31\",\"2016-11-01\",\"2016-11-02\",\"2016-11-03\",\"2016-11-04\",\"2016-11-05\",\"2016-11-06\",\"2016-11-07\",\"2016-11-08\",\"2016-11-09\",\"2016-11-10\",\"2016-11-11\",\"2016-11-12\",\"2016-11-13\",\"2016-11-14\",\"2016-11-15\",\"2016-11-16\",\"2016-11-17\",\"2016-11-18\",\"2016-11-19\",\"2016-11-20\",\"2016-11-21\",\"2016-11-22\",\"2016-11-23\",\"2016-11-24\",\"2016-11-25\",\"2016-11-26\",\"2016-11-27\",\"2016-11-28\",\"2016-11-29\",\"2016-11-30\",\"2016-12-01\",\"2016-12-02\",\"2016-12-03\",\"2016-12-04\",\"2016-12-05\",\"2016-12-06\",\"2016-12-07\",\"2016-12-08\",\"2016-12-09\",\"2016-12-10\",\"2016-12-11\",\"2016-12-12\",\"2016-12-13\",\"2016-12-14\",\"2016-12-15\",\"2016-12-16\",\"2016-12-17\",\"2016-12-18\",\"2016-12-19\",\"2016-12-20\",\"2016-12-21\",\"2016-12-22\",\"2016-12-23\",\"2016-12-24\",\"2016-12-25\",\"2016-12-26\",\"2016-12-27\",\"2016-12-28\",\"2016-12-29\",\"2016-12-30\",\"2016-12-31\",\"2017-01-01\",\"2017-01-02\",\"2017-01-03\",\"2017-01-04\",\"2017-01-05\",\"2017-01-06\",\"2017-01-07\",\"2017-01-08\",\"2017-01-09\",\"2017-01-10\",\"2017-01-11\",\"2017-01-12\",\"2017-01-13\",\"2017-01-14\",\"2017-01-15\",\"2017-01-16\",\"2017-01-17\",\"2017-01-18\",\"2017-01-19\",\"2017-01-20\",\"2017-01-21\",\"2017-01-22\",\"2017-01-23\",\"2017-01-24\",\"2017-01-25\",\"2017-01-26\",\"2017-01-27\",\"2017-01-28\",\"2017-01-29\",\"2017-01-30\",\"2017-01-31\",\"2017-02-01\",\"2017-02-02\",\"2017-02-03\",\"2017-02-04\",\"2017-02-05\",\"2017-02-06\",\"2017-02-07\",\"2017-02-08\",\"2017-02-09\",\"2017-02-10\",\"2017-02-11\",\"2017-02-12\",\"2017-02-13\",\"2017-02-14\",\"2017-02-15\",\"2017-02-16\",\"2017-02-17\",\"2017-02-18\",\"2017-02-19\",\"2017-02-20\",\"2017-02-21\",\"2017-02-22\",\"2017-02-23\",\"2017-02-24\",\"2017-02-25\",\"2017-02-26\",\"2017-02-27\",\"2017-02-28\",\"2017-03-01\",\"2017-03-02\",\"2017-03-03\",\"2017-03-04\",\"2017-03-05\",\"2017-03-06\",\"2017-03-07\",\"2017-03-08\",\"2017-03-09\",\"2017-03-10\",\"2017-03-11\",\"2017-03-12\",\"2017-03-13\",\"2017-03-14\",\"2017-03-15\",\"2017-03-16\",\"2017-03-17\",\"2017-03-18\",\"2017-03-19\",\"2017-03-20\",\"2017-03-21\",\"2017-03-22\",\"2017-03-23\",\"2017-03-24\",\"2017-03-25\",\"2017-03-26\",\"2017-03-27\",\"2017-03-28\",\"2017-03-29\",\"2017-03-30\",\"2017-03-31\",\"2017-04-01\",\"2017-04-02\",\"2017-04-03\",\"2017-04-04\",\"2017-04-05\",\"2017-04-06\",\"2017-04-07\",\"2017-04-08\",\"2017-04-09\",\"2017-04-10\",\"2017-04-11\",\"2017-04-12\",\"2017-04-13\",\"2017-04-14\",\"2017-04-15\",\"2017-04-16\",\"2017-04-17\",\"2017-04-18\",\"2017-04-19\",\"2017-04-20\",\"2017-04-21\",\"2017-04-22\",\"2017-04-23\",\"2017-04-24\",\"2017-04-25\",\"2017-04-26\",\"2017-04-27\",\"2017-04-28\",\"2017-04-29\",\"2017-04-30\",\"2017-05-01\",\"2017-05-02\",\"2017-05-03\",\"2017-05-04\",\"2017-05-05\",\"2017-05-06\",\"2017-05-07\",\"2017-05-08\",\"2017-05-09\",\"2017-05-10\",\"2017-05-11\",\"2017-05-12\",\"2017-05-13\",\"2017-05-14\",\"2017-05-15\",\"2017-05-16\",\"2017-05-17\",\"2017-05-18\",\"2017-05-19\",\"2017-05-20\",\"2017-05-21\",\"2017-05-22\",\"2017-05-23\",\"2017-05-24\",\"2017-05-25\",\"2017-05-26\",\"2017-05-27\",\"2017-05-28\",\"2017-05-29\",\"2017-05-30\",\"2017-05-31\",\"2017-06-01\",\"2017-06-02\",\"2017-06-03\",\"2017-06-04\",\"2017-06-05\",\"2017-06-06\",\"2017-06-07\",\"2017-06-08\",\"2017-06-09\",\"2017-06-10\",\"2017-06-11\",\"2017-06-12\",\"2017-06-13\",\"2017-06-14\",\"2017-06-15\",\"2017-06-16\",\"2017-06-17\",\"2017-06-18\",\"2017-06-19\",\"2017-06-20\",\"2017-06-21\",\"2017-06-22\",\"2017-06-23\",\"2017-06-24\",\"2017-06-25\"],\"y\":[20.95,22.55,23.05,21.5,22.7,23.7,22.450000000000003,19.75,18.6,19.4,20.15,23.1,20.6,20.6,21.35,20.4,22.15,21.950000000000003,21.9,22.35,23.700000000000003,22.25,23.25,22.4,22.35,22.75,24.0,19.65,17.65,17.4,18.799999999999997,19.05,20.45,22.25,22.8,22.4,20.65,20.35,22.8,22.35,22.85,22.65,22.4,22.700000000000003,22.75,22.6,22.85,23.4,23.9,18.65,20.049999999999997,20.55,21.4,23.65,22.1,19.3,18.45,18.65,19.95,19.55,18.799999999999997,21.4,19.299999999999997,16.7,17.15,17.9,18.65,18.35,18.9,18.25,18.8,18.9,18.9,16.049999999999997,16.75,17.35,17.3,17.65,18.65,17.15,17.0,17.35,16.299999999999997,17.35,19.0,18.75,20.85,14.350000000000001,13.5,14.0,14.899999999999999,16.5,15.25,14.850000000000001,15.850000000000001,17.700000000000003,18.0,16.4,16.45,16.95,16.7,15.95,16.45,15.9,16.7,18.5,18.5,13.3,15.6,16.0,15.0,15.3,14.7,15.75,13.55,16.0,16.95,15.1,14.8,15.95,15.450000000000001,16.05,15.950000000000001,17.15,16.9,16.049999999999997,16.049999999999997,14.95,15.2,14.95,16.15,16.549999999999997,17.9,16.4,12.1,12.95,15.05,15.3,16.5,16.55,15.85,15.05,13.5,12.65,14.2,14.75,15.2,14.45,13.3,14.45,15.65,14.950000000000001,15.0,13.549999999999999,11.6,13.25,13.35,14.75,13.85,10.100000000000001,11.5,13.25,10.8,12.55,16.6,14.75,13.45,13.35,13.45,13.149999999999999,14.200000000000001,13.95,11.15,10.1,11.4,11.25,11.6,11.950000000000001,10.3,11.5,11.5,13.15,14.350000000000001,13.25,14.100000000000001,12.649999999999999,11.45,12.15,12.4,13.4,12.100000000000001,11.15,11.45,11.55,12.899999999999999,12.85,14.100000000000001,14.25,11.649999999999999,10.7,11.450000000000001,13.85,14.8,11.05,11.05,11.4,12.299999999999999,15.0,13.4,12.85,13.45,12.05,15.649999999999999,15.7,14.65,13.799999999999999,15.3,14.399999999999999,13.0,14.25,13.45,12.399999999999999,11.9,12.399999999999999,16.5,22.700000000000003,20.35,22.4,16.05,13.5,14.399999999999999,20.2,25.799999999999997,18.700000000000003,21.5,16.3,14.15,14.450000000000001,16.75,19.7,26.35,17.65,15.55,18.65,25.0,28.65,18.45,16.85,18.85,15.15,15.3,15.2,17.05,18.45,18.35,22.65,18.8,17.0,16.950000000000003,18.9,19.95,21.65,19.65,16.85,12.100000000000001,11.8,14.6,18.15,19.4,26.700000000000003,19.75,17.05,20.45,25.95,19.6,20.3,23.75,17.25,17.75,22.75,20.05,21.799999999999997,19.8,20.35,19.5,20.5,21.95,23.1,20.8,19.799999999999997,18.2,19.799999999999997,19.55,22.450000000000003,22.2,19.25,15.95,17.95,18.65,19.1,19.75,22.05,21.3,19.95,24.450000000000003,20.200000000000003,25.8,20.1,23.15,27.799999999999997,23.05,20.25,21.65,21.45,18.549999999999997,20.95,24.95,22.299999999999997,20.25,19.55,21.85,23.35,21.85,18.049999999999997,18.200000000000003,20.0,22.95,19.7,19.85,22.55,23.85,24.0,22.799999999999997,22.9,25.35,26.55,20.75,20.0,21.65,23.7,24.25,26.9,21.4,19.9,20.85,21.0,22.75,22.9,25.25,28.2,21.9,20.15,19.05,20.75,24.4,26.200000000000003,28.5,28.35,32.85,23.2,23.8,22.049999999999997,23.5,24.75,24.65,25.450000000000003,24.65,25.6,24.9,24.450000000000003,25.7,25.7,27.65,25.0,21.7,18.65,19.85,19.75,18.4,19.1,19.9,21.8,21.15,23.0,23.65,23.200000000000003,23.15,22.6,23.3,25.2,23.75,22.1,20.5,21.45,23.1,23.65,23.85,23.8,20.700000000000003,19.0,22.0,22.75,21.35,21.8,21.799999999999997,21.75,22.55,23.549999999999997,23.299999999999997,21.450000000000003,20.8,20.8,22.6,23.0,22.450000000000003,22.15,22.6,23.3,23.4,23.55,22.05,19.95,20.25,22.4,21.15,21.549999999999997,22.15,22.6,19.55,19.950000000000003,19.05,18.8,17.6,19.15,18.7,20.6,22.5,21.5,22.25,22.700000000000003,19.5,18.8,18.5,19.15,18.65,19.25,19.35,18.15,18.9,20.1,18.45,14.95,16.85,13.9,14.2,16.35,16.45,15.95,17.7,17.5,17.9,17.35,16.6,16.95,16.55,15.35,14.850000000000001,15.850000000000001,16.3,17.05,17.95,16.05,15.7,17.2,17.85,17.25,17.6,18.1,19.35,16.95,18.1,15.399999999999999,15.6,14.45,13.2,15.2,14.95,15.8,16.1,15.05,15.8,14.15,15.25,15.3,13.1,11.95,10.95,11.65,13.15,12.5,14.0,12.75,13.05,12.75,13.6,13.45,15.4,17.55,14.850000000000001,14.0,12.799999999999999,13.65,12.600000000000001,14.55,15.149999999999999,16.1,18.45,14.95,13.649999999999999,12.8,14.100000000000001,10.95,11.3,12.7,13.350000000000001,14.05,12.75,13.55,14.5,13.7,12.0,12.3,12.5,13.3,13.95,14.75,16.1,17.95,14.850000000000001,12.95,13.100000000000001,12.100000000000001,13.6,13.399999999999999,14.5,13.7,14.45,14.2,13.55,14.4,14.9,13.45,13.75,17.25,12.3,11.350000000000001,11.55,12.95,14.350000000000001,15.0,15.9,15.4,17.55,17.95,13.95,12.85,15.5,18.05,17.65,19.200000000000003,20.45,17.9,16.8,16.1,17.7,20.25,16.6,15.35,16.55,14.2,16.55,20.0,17.95,14.3,16.7,16.35,15.55,16.1,15.95,19.75,24.75,18.9,17.9,18.9,23.4,21.25,16.95,19.25,20.75,24.4,19.4,20.05,19.45,18.35,13.649999999999999,16.2,16.2,18.25,24.0,18.6,14.399999999999999,14.95,16.65,15.55,14.95,14.0,13.350000000000001,13.75,15.55,16.950000000000003,20.75,18.65,18.4,16.5,16.4,16.3,16.6,18.65,25.1,19.6,20.2,19.450000000000003,19.4,15.7,16.75,18.4,19.5,20.35,20.75,20.549999999999997,22.4,27.9,19.65,18.35,19.0,20.049999999999997,20.5,21.15,19.9,19.65,21.65,21.25,19.65,21.8,23.15,21.5,20.8,22.45,27.1,26.75,30.799999999999997,21.35,19.8,21.65,23.950000000000003,27.25,25.200000000000003,25.0,20.6,17.75,18.05,18.9,20.85,20.799999999999997,22.15,25.1,23.85,21.2,24.0,24.35,22.0,23.85,22.15,21.8,24.1,26.75,20.799999999999997,22.9,21.05,22.4,24.549999999999997,24.85,18.95,20.299999999999997,21.6,22.950000000000003,22.5,22.450000000000003,25.1,27.0,20.2,21.049999999999997,22.200000000000003,24.700000000000003,22.85,23.25,26.6,27.05,23.950000000000003,26.65,25.7,21.2,22.05,23.799999999999997,23.8,21.2,21.2,23.15,23.45,27.6,33.15,20.7,22.8,25.65,25.0,24.4,24.9,23.9,24.05,25.15,25.2,24.35,24.549999999999997,24.8,21.45,22.6,24.3,25.200000000000003,24.799999999999997,24.799999999999997,30.849999999999998,23.45,24.25,25.1,23.85,22.05,22.1,22.85,23.1,25.25,29.299999999999997,27.3,22.6,22.55,21.6,22.7,23.85,19.45,20.15,21.299999999999997,21.2,22.8,23.799999999999997,24.35,25.9,25.4,20.0,21.2,21.6,21.049999999999997,20.4,21.6,21.45,20.8,21.75,22.799999999999997,24.4,26.299999999999997,22.9,22.85,22.35,22.5,24.55,24.65,23.6,24.95,20.9,21.0,20.65,20.9,19.95,18.9,18.35,20.15,22.2,23.85,20.7,22.549999999999997,23.25,19.7,17.7,18.65,19.9,19.6,20.55,21.049999999999997,21.05,20.45,21.2,23.65,24.4,20.0,17.15,16.049999999999997,18.75,19.0,16.7,18.0,20.2,18.950000000000003,20.5,18.25,16.35,17.200000000000003,17.75,18.450000000000003,17.65,19.9,14.7,15.45,15.850000000000001,16.1,16.3,15.299999999999999,13.9,15.85,15.45,15.6,14.700000000000001,12.1,14.2,14.5,15.350000000000001,16.1,15.799999999999999,15.0,15.450000000000001,16.3,15.7,15.65,15.65,16.45,16.5,14.0,12.3,13.8,13.1,13.75,11.799999999999999,12.85,12.25,12.600000000000001,13.7,14.0,13.95,13.9,14.0,14.85,13.05,14.35,14.1,14.4,15.299999999999999,16.75,10.8,10.65,9.55,10.200000000000001,11.75,9.85,12.0,12.8,11.15,13.45,12.8,11.4,12.649999999999999,13.100000000000001,14.45,13.5,15.0,16.0,14.3,12.7,12.8,13.35,12.7,12.25,11.85,10.35,13.1,13.95,13.549999999999999,13.1,13.1,13.2,13.8,16.55,16.75,15.25,12.399999999999999,13.8,13.6,12.0,12.3,11.450000000000001,11.8,12.15,12.85,15.1,13.7,14.100000000000001,15.0,16.450000000000003,15.7,12.600000000000001,13.2,16.950000000000003,15.3,12.75,12.850000000000001,13.1,15.350000000000001,14.8,14.15,14.75,13.35,13.1,14.05,15.75,20.4,17.35,15.65,17.75,18.85,15.95,13.600000000000001,13.25,14.049999999999999,17.75,15.5,14.049999999999999,18.6,16.0,15.8,14.4,16.45,14.9,15.600000000000001,17.65,16.55,17.1,17.4,20.15,17.55,19.950000000000003,20.6,15.85,13.649999999999999,14.049999999999999,16.15,17.35,17.950000000000003,19.5,19.799999999999997,19.700000000000003,16.65,17.35,18.299999999999997,18.8,19.1,20.299999999999997,23.35,22.1,13.9,16.95,18.4,16.5,16.6,17.4,19.15,21.5,14.899999999999999,16.75,19.8,19.3,18.9,18.3,20.299999999999997,22.0,19.25,14.85,17.95,16.25,16.3,16.2,18.35,21.200000000000003,20.4,21.35,23.45,22.950000000000003,24.950000000000003,25.45,23.1,20.45,19.700000000000003,20.1,18.35,17.799999999999997,19.05,20.25,21.9,21.1,22.25,21.5,22.0,21.25,19.15,19.0,18.65,21.4,22.1,21.15,22.3,23.049999999999997,23.5,23.55,26.35,26.200000000000003,22.049999999999997,24.3,22.4,23.0,22.8,24.049999999999997,22.2,22.55,22.9,17.5,21.6,21.7,23.05,21.4,21.15,26.05,19.15,18.3,21.0,23.25,24.299999999999997,24.75,24.35,20.1,19.950000000000003,20.299999999999997,23.15,23.2,24.0,24.5,23.85,23.5,25.1,24.950000000000003,24.85,26.2,25.1,25.6,23.05,22.35,24.4,23.799999999999997,24.45,24.85,28.2,25.1,27.15,25.45,23.4,22.4,23.0,26.9,28.1,28.65,31.3,28.85,32.85,31.6,20.5,22.0,21.3,23.049999999999997,25.1,22.9,21.15,22.4,21.65,23.25,24.799999999999997,25.1,26.25,29.1,22.45,20.4,21.950000000000003,21.35,23.0,24.049999999999997,25.3,25.5,28.15,20.6,24.549999999999997,22.450000000000003,20.65,20.8,20.7,21.700000000000003,25.75,24.6,24.35,24.35,24.75,24.4,21.0,23.8,23.700000000000003,22.6,21.7,21.15,22.1,24.25,25.35,22.65,22.2,19.15,18.3,20.05,20.950000000000003,22.75,20.700000000000003,18.85,15.649999999999999,16.25,17.4,15.6,14.850000000000001,15.3,15.8,14.1,14.05,12.299999999999999,12.3,15.45,14.35,13.25,13.450000000000001,14.05,14.65,16.0,16.25,17.7,17.0,18.4,15.45,12.649999999999999,15.15,13.55,12.95,13.6,14.549999999999999,16.9,18.55,16.75,15.5,14.899999999999999,14.1,13.5,11.0,11.149999999999999,11.95,12.3,12.8,13.649999999999999,14.75,15.75,16.25,15.55,13.25,13.8,13.35,14.450000000000001,16.25,12.95,15.15,13.350000000000001,13.65,14.25,13.75,12.8,14.35,15.100000000000001,13.700000000000001,15.3,14.649999999999999,15.25,14.65,14.25,14.350000000000001,11.25,11.7,11.25,13.549999999999999,12.899999999999999,10.9,11.899999999999999,9.399999999999999,11.9,13.25,14.95,11.05,13.6,12.2,12.600000000000001,12.149999999999999,10.9,13.700000000000001,12.7,12.7,13.75,13.65,13.649999999999999,14.399999999999999,16.2,16.0,19.1,17.75,18.25,18.35,16.6,13.850000000000001,12.450000000000001,13.15,12.9,13.8,13.6,13.4,13.600000000000001,14.25,13.549999999999999,14.899999999999999,13.0,14.2,15.4,15.45,14.85,14.649999999999999,15.149999999999999,15.6,15.7,16.450000000000003,17.6,16.15,15.55,16.45,16.049999999999997,14.600000000000001,15.3,18.35,20.75,15.850000000000001,15.45,13.5,12.149999999999999,15.299999999999999,14.4,15.4,18.9,17.25,16.4,19.85,23.15,20.3,22.8,17.3,17.0,22.6,16.0,15.2,16.0,15.75,15.7,18.75,16.5,15.4,14.25,14.35,15.299999999999999,15.05,16.15,17.7,18.5,18.4,17.0,16.65,16.0,17.5,18.0,20.85,20.200000000000003,16.85,16.45,16.85,18.5,23.0,21.1,21.9,26.15,19.1,16.4,16.75,19.25,22.9,21.950000000000003,18.55,17.9,19.15,16.1,17.7,19.700000000000003,23.299999999999997,25.35,24.15,24.35,27.299999999999997,20.8,22.0,22.7,28.5,21.700000000000003,20.6,18.65,20.4,22.8,23.8,19.9,19.85,16.55,16.8,17.7,22.450000000000003,24.200000000000003,21.95,22.95,26.15,18.85,17.6,18.05,18.35,15.4,15.850000000000001,17.05,19.25,20.299999999999997,20.6,21.950000000000003,18.4,19.9,18.7,19.05,18.15,19.35,19.5,20.700000000000003,21.35,21.85,21.049999999999997,21.85,22.95,22.85,23.4,21.4,21.35,21.25,21.1,20.25,20.65,22.3,23.700000000000003,25.049999999999997,22.4,20.45,19.95,23.2,24.15,24.6,23.65,18.55,19.85,20.9,20.1,20.9,22.4,23.45,24.25,23.2,23.3,23.15,22.05,22.1,22.6,23.85,23.55,24.1,24.65,27.450000000000003,27.05,20.15,19.35,18.85,21.45,22.5,22.6,21.7,21.85,22.35,22.799999999999997,22.450000000000003,21.200000000000003,22.0,22.0,22.200000000000003,22.6,23.2,23.45,23.5,23.85,22.65,21.9,22.549999999999997,24.05,22.75,24.35,24.95,28.45,21.1,24.8,19.75,20.3,23.1,23.7,22.1,20.200000000000003,18.1,21.65,21.75,20.75,21.95,21.200000000000003,21.65,23.2,24.05,19.4,20.05,21.0,21.799999999999997,22.0,19.15,21.950000000000003,19.55,18.85,19.6,21.15,20.95,22.0,20.75,21.55,20.799999999999997,22.15,21.65,22.15,22.3,21.35,23.25,22.200000000000003,19.45,14.600000000000001,15.3,17.9,18.55,19.549999999999997,21.2,20.85,19.35,19.15,20.65,21.25,21.549999999999997,20.15,18.55,20.45,15.35,17.5,17.85,19.0,16.1,15.55,17.4,17.35,19.25,16.95,16.35,16.05,14.85,17.05,19.55,21.6,19.6,17.25,14.0,13.850000000000001,14.35,15.450000000000001,15.8,16.8,15.75,13.399999999999999,16.549999999999997,15.35,16.65,13.350000000000001,15.4,13.95,14.65,14.0,14.700000000000001,14.45,16.0,15.2,14.8,14.65,16.700000000000003,12.55,13.2,13.399999999999999,12.2,12.45,11.25,13.0,15.5,13.05,15.299999999999999,16.15,12.8,14.3,14.8,13.899999999999999,12.700000000000001,13.55,13.95,12.5,12.600000000000001,12.95,11.149999999999999,13.65,13.75,14.7,15.05,13.0,12.15,12.25,11.7,11.8,12.8,11.899999999999999,13.55,12.65,13.2,15.4,14.45,17.9,15.649999999999999,13.6,14.850000000000001,14.55,15.0,12.05,11.55,11.5,13.299999999999999,13.9,12.2,14.15,14.75,13.049999999999999,13.6,12.3,11.6,11.8,11.6,11.95,12.65,14.0,15.450000000000001,15.5,12.700000000000001,14.05,14.65,11.25,12.7,13.1,14.2,13.0,16.2,16.15,16.65,13.850000000000001,14.9,12.65,15.45,17.65,22.65,15.850000000000001,15.7,14.6,13.7,13.75,15.95,17.05,14.049999999999999,11.55,13.95,15.15,17.049999999999997,19.7,23.15,19.049999999999997,16.15,16.65,15.35,17.2,16.15,19.35,13.2,14.65,15.75,17.549999999999997,16.5,17.0,16.3,18.0,17.55,17.5,18.95,15.55,17.65,18.45,26.05,20.05,16.15,14.85,16.5,19.5,23.35,27.1,16.95,16.65,15.899999999999999,15.850000000000001,18.4,16.25,12.25,14.350000000000001,15.95,17.65,24.75,21.05,19.05,20.75,25.2,21.15,16.9,15.65,17.35,19.700000000000003,19.049999999999997,17.2,17.55,16.9,18.6,21.75,25.049999999999997,19.0,16.1,18.85,21.05,22.5,22.0,23.6,22.8,18.75,17.25,18.35,20.4,18.3,20.45,17.6,18.2,19.200000000000003,16.950000000000003,19.5,18.95,18.9,18.85,20.9,24.75,23.95,21.950000000000003,21.45,23.45,25.4,23.2,21.6,21.6,22.450000000000003,24.6,24.8,24.45,31.599999999999998,23.05,22.799999999999997,25.4,27.35,22.25,20.4,20.85,23.15,25.2,33.75,23.15,22.25,23.65,25.25,23.2,25.1,25.4,25.95,21.4,21.75,22.75,22.9,24.4,18.3,20.5,21.6,22.8,23.65,23.75,22.85,23.55,24.2,23.8,24.049999999999997,23.4,23.3,22.55,22.35,24.4,21.35,18.85,19.5,20.450000000000003,22.4,26.450000000000003,24.3,24.5,23.95,23.75,24.25,27.5,19.5,19.200000000000003,21.65,20.85,21.25,17.8,18.299999999999997,19.6,18.1,18.45,19.4,18.8,19.25,20.25,20.8,20.549999999999997,21.9,22.65,19.45,18.9,19.95,16.75,15.6,16.55,19.3,19.0,18.05,17.85,20.6,20.15,21.55,21.2,20.549999999999997,20.95,17.35,17.0,20.2,16.4,15.450000000000001,16.6,17.0,17.65,18.0,17.55,18.05,18.25,17.75,14.9,17.1,15.9,15.850000000000001,15.0,15.399999999999999,16.3,12.7,14.0,16.65,15.95,15.4,15.399999999999999,15.45,16.200000000000003,16.549999999999997,18.35,17.55,15.100000000000001,14.7,15.700000000000001,14.9,15.9,18.55,16.35,14.95,16.0,15.05,13.2,15.75,15.9,15.3,14.4,13.1,13.6,12.4,12.65,12.65,10.6,10.75,11.7,13.35,15.15,15.8,14.5,13.45,14.200000000000001,14.450000000000001,14.35,13.95,15.95,17.1,12.6,13.25,13.3,11.149999999999999,12.4,13.299999999999999,14.25,12.85,13.649999999999999,16.35,18.0,18.65,17.950000000000003,17.7,17.45,12.4,12.95,12.399999999999999,13.55,13.5,14.100000000000001,13.05,13.55,16.85,16.3,15.5,13.850000000000001,14.7,15.0,15.399999999999999,15.25,17.9,14.35,11.2,12.2,17.0,15.4,18.2,16.2,18.3,14.6,13.950000000000001,17.549999999999997,17.3,17.25,12.5,12.850000000000001,12.850000000000001,15.200000000000001,17.45,16.75,16.15,16.7,17.55,16.6,19.95,19.7,16.8,17.1,16.95,16.65,20.5,19.65,23.25,19.1,20.700000000000003,25.85,19.85,17.85,14.25,18.5,15.8,16.15,19.549999999999997,20.25,18.799999999999997,16.5,16.65,18.1,18.65,22.95,22.2,24.0,17.65,20.5,18.6,19.9,26.200000000000003,19.8,17.049999999999997,15.049999999999999,18.15,21.95,18.85,18.1,19.8,27.45,20.0,19.5,26.25,16.9,17.5,20.5,26.6,17.9,17.5,19.95,22.75,23.25,26.85,21.15,17.799999999999997,18.95,18.45,18.95,21.35,17.7,18.8,19.5,21.0,26.450000000000003,17.65,18.2,16.6,20.6,23.0,27.799999999999997,17.299999999999997,16.75,19.2,21.35,21.95,19.6,18.7,16.4,17.6,20.9,20.75,22.35,22.1,21.55,20.3,19.85,18.799999999999997,18.799999999999997,21.55,20.2,18.9,18.35,19.65,19.9,22.8,22.65,17.799999999999997,19.3,20.9,24.55,28.0,23.05,22.35,22.6,23.65,21.85,21.75,22.35,23.3,22.65,26.9,24.65,25.2,29.2,21.049999999999997,20.1,22.65,21.35,22.45,22.3,21.5,21.85,23.8,29.4,23.6,23.8,23.4,25.8,19.950000000000003,19.25,20.65,22.35,24.1,24.950000000000003,23.25,22.9,25.0,24.6,24.5,24.0,25.299999999999997,23.799999999999997,22.4,21.3,22.45,23.0,22.3,19.75,20.75,23.05,24.700000000000003,24.799999999999997,24.3,25.2,24.85,24.200000000000003,22.95,21.0,20.200000000000003,20.45,23.35,24.1,23.9,23.9,24.200000000000003,24.25,22.15,22.9,23.2,22.4,21.799999999999997,24.8,24.75,22.5,22.1,23.05,22.75,23.1,26.049999999999997,21.15,20.450000000000003,20.45,20.35,22.55,22.2,22.8,23.9,23.1,24.4,23.35,24.7,23.700000000000003,24.2,22.75,22.8,23.05,24.25,21.55,22.9,23.75,24.35,23.6,22.7,23.65,21.65,21.15,22.299999999999997,21.4,21.35,22.2,23.2,21.25,21.95,22.05,22.6,21.1,22.0,19.45,18.85,20.2,20.0,21.25,23.45,19.45,18.3,17.25,17.65,18.8,18.4,20.0,18.85,18.049999999999997,19.25,19.1,19.75,22.0,19.25,19.3,17.4,17.8,20.3,21.75,17.15,17.75,13.7,15.65,15.6,17.049999999999997,15.95,16.05,16.85,18.4,18.65,17.8,18.35,17.9,17.299999999999997,18.65,18.1,18.9,19.6,19.95,19.15,20.1,19.5,20.45,21.2,18.85,20.0,20.6,17.05,17.95,17.5,17.75,17.35,15.4,16.75,16.7,15.0,14.75,14.1,13.5,14.8,15.0,15.75,15.799999999999999,15.85,13.75,14.4,14.9,15.899999999999999,16.05,16.65,16.2,15.399999999999999,13.3,14.1,14.600000000000001,16.45,15.8,17.4,13.2,12.75,14.0,13.8,12.5,13.549999999999999,13.1,13.15,13.9,13.3,13.95,13.05,13.75,12.45,11.4,12.25,12.399999999999999,14.95,14.7,12.25,11.7,12.55,13.600000000000001,13.85,13.899999999999999,14.15,14.2,15.0,15.2,13.65,17.55,18.5,19.45,17.05,11.65,11.55,11.8,14.25,14.45,15.0,13.600000000000001,14.05,16.55,11.25,10.85,12.45,12.850000000000001,13.45,12.75,13.9,13.35,15.25,13.3,13.75,15.4,14.600000000000001,15.25,14.9,13.6,16.6,16.0,13.7,14.05,16.25,17.15,16.25,12.8,13.700000000000001,13.5,14.700000000000001,15.1,15.2,17.65,19.2,18.95,16.15,15.25,17.75,16.6,18.45,17.75,16.35,15.7,14.7,15.899999999999999,16.25,16.05,16.95,21.0,18.0,17.9,18.5,24.7,25.05,18.85,17.65,16.950000000000003,19.15,23.9,21.65,23.799999999999997,18.1,17.8,18.4,20.6,20.85,22.049999999999997,15.4,13.3,16.2,16.5,16.65,18.15,18.3,16.85,18.15,21.25,22.5,24.2,25.5,25.5,22.4,20.6,23.15,23.25,28.9,18.6,17.65,18.950000000000003,20.6,19.35,19.3,18.75,21.35,21.15,19.9,19.299999999999997,21.0,24.950000000000003,21.5,23.3,20.35,22.65,21.5,24.950000000000003,28.0,22.700000000000003,24.85,25.65,23.25,21.3,19.9,20.950000000000003,22.950000000000003,23.200000000000003,23.95,25.450000000000003,23.45,23.4,23.6,22.95,25.45,22.450000000000003,22.85,21.35,19.8,20.4,19.85,21.85,22.5,21.5,21.8,21.15,20.55,21.25,23.45,23.4,22.65,23.3,25.15,20.25,21.549999999999997,22.5,23.75,22.25,24.9,24.85,25.4,26.4,23.4,24.75,26.05,24.6,25.85,25.35,21.75,22.4,23.85,27.650000000000002,25.5,24.4,28.200000000000003,24.9,21.799999999999997,21.450000000000003,23.85,25.4,25.75,25.9,28.0,20.299999999999997,19.65,18.9,19.45,21.25,21.55,22.950000000000003,21.5,22.5,21.450000000000003,21.450000000000003,21.6,22.65,25.5,24.299999999999997,24.85,25.700000000000003,24.9,24.25,23.799999999999997,24.85,25.05,24.85,24.9,24.9,24.25,23.05,24.049999999999997,25.0,23.9,21.950000000000003,22.85,23.75,23.55,29.2,21.4,22.25,24.7,24.5,23.549999999999997,22.35,23.6,25.75,22.8,24.6,24.35,21.0,20.15,21.299999999999997,19.950000000000003,19.85,24.799999999999997,24.25,25.7,20.700000000000003,21.5,22.45,24.1,19.9,22.799999999999997,21.15,19.6,19.95,20.6,20.700000000000003,21.55,23.2,18.45,18.9,20.7,20.35,19.05,18.25,18.75,18.549999999999997,19.15,19.15,18.5,18.45,19.6,24.7,21.799999999999997,24.15,20.25,15.399999999999999,16.1,16.0,19.05,20.05,20.15,14.9,16.7,15.6,14.75,17.45,17.9,19.8,19.9,19.55,21.1,17.2,15.9,16.05,16.2,16.25,18.65,17.35,15.25,13.600000000000001,15.1,16.9,15.8,15.4,17.65,20.799999999999997,18.15,15.35,14.6,14.3,14.45,13.75,16.0,16.35,16.4,14.7,13.25,13.0,11.350000000000001,12.25,13.2,13.3,15.55,15.950000000000001,16.85,18.1,13.7,13.9,16.0,16.4,14.7,13.899999999999999,15.399999999999999,16.15,14.399999999999999,12.05,12.450000000000001,11.3,13.6,14.15,15.75,16.049999999999997,14.649999999999999,13.85,13.5,14.4,14.05,14.1,11.7,11.2,10.950000000000001,12.3,11.65,11.25,12.2,12.100000000000001,12.1,13.25,11.1,12.5,13.100000000000001,11.5,10.850000000000001,10.25,10.6,12.25,12.85,13.75,13.399999999999999,15.15,15.8,15.8,15.6,11.5,11.850000000000001,13.25,14.35,15.85,15.850000000000001,19.5,13.899999999999999,11.7,9.6,11.6,12.6,12.7,11.9,14.600000000000001,15.4,12.95,14.600000000000001,14.149999999999999,13.15,15.15,14.9,13.55,13.0,13.549999999999999,15.2,20.6,16.95,16.25,16.2,16.25,16.05,15.7,14.65,13.5,14.649999999999999,14.35,13.4,16.0,16.0,16.6,15.1,18.0,15.0,15.0,15.450000000000001,17.65,18.15,17.35,19.450000000000003,22.8,16.75,16.049999999999997,16.8,16.0,15.55,17.45,17.05,13.1,12.3,13.25,15.600000000000001,15.75,15.850000000000001,17.65,19.049999999999997,19.85,19.75,20.85,26.799999999999997,26.55,26.299999999999997,20.6,19.05,19.75,20.0,19.65,23.0,18.95,20.1,20.15,22.4,22.55,21.0,22.0,22.75,23.799999999999997,19.55,17.95,17.6,20.049999999999997,23.45,17.55,17.3,19.35,18.6,20.65,22.15,24.45,19.3,18.35,19.7,23.25,21.5,18.95,18.5,20.4,21.4,21.9,23.4,18.9,17.9,18.450000000000003,19.75,26.95,25.0,31.15,21.200000000000003,20.7,21.8,21.95,25.0,30.099999999999998,19.55,21.450000000000003,22.95,22.25,26.15,21.0,19.4,19.1,20.2,21.200000000000003,22.15,22.95,27.299999999999997,22.85,28.25,20.5,21.299999999999997,23.950000000000003,23.75,22.25,21.35,23.25,24.65,25.1,26.35,19.75,20.15,20.75,21.35,22.450000000000003,20.05,18.950000000000003,20.15,20.3,22.049999999999997,21.75,21.7,22.4,21.1,19.05,18.0,20.45,20.45,22.0,22.8,26.05,28.75,26.15,30.950000000000003,18.0,19.05,21.05,21.85,24.7,29.7,28.55,26.0,24.15,22.9,23.4,24.700000000000003,22.85,24.5,25.25,24.1,25.4,24.15,22.45,23.8,21.950000000000003,22.85,23.45,23.25,23.5,24.35,24.05,24.549999999999997,25.15,24.799999999999997,26.8,25.8,24.7,22.75,22.35,24.95,26.200000000000003,24.2,24.8,25.75,25.2,27.349999999999998,25.5,25.0,24.4,24.1,24.75,24.55,25.45,25.55,24.1,24.35,24.65,25.25,26.1,26.3,25.3,25.25,25.15,26.25,22.75,22.95,22.55,23.9,20.299999999999997,19.7,18.3,19.05,20.1,21.95,22.25,21.55,21.75,22.7,21.950000000000003,23.85,21.05,21.1,24.75,22.35,21.1,22.4,27.05,20.2,19.15,20.5,21.700000000000003,21.3,20.15,19.85,19.299999999999997,20.55,21.05,21.15,19.65,20.4,21.1,20.9,21.5,18.2,19.200000000000003,17.95,18.95,19.5,20.4,20.1,22.65,22.1,17.6,19.6,21.1,17.95,20.35,17.65,18.05,20.1,20.950000000000003,17.85,19.1,19.9,19.5,18.799999999999997,18.25,22.25,17.299999999999997,17.55,18.85,17.55,18.25,21.0,17.2,15.8,16.55,15.700000000000001,12.3,14.25,13.6,13.1,14.399999999999999,15.100000000000001,15.0,17.200000000000003,18.0,16.049999999999997,15.6,15.8,17.9,17.25,14.95,13.0,14.4,15.55,14.8,16.2,16.0,17.9,17.0,17.7,16.65,16.25,13.95,14.5,11.2,10.45,9.55,12.5,12.75,10.95,12.2,13.2,12.3,11.0,13.15,13.6,15.05,14.0,13.35,14.2,15.200000000000001,17.5,11.8,11.85,12.05,12.899999999999999,14.0,17.6,18.15,16.7,16.6,19.4,15.95,11.05,13.149999999999999,14.049999999999999,14.700000000000001,14.1,12.9,14.25,15.649999999999999,14.649999999999999,13.65,12.649999999999999,14.450000000000001,12.95,12.35,13.35,14.2,13.600000000000001,18.05,15.75,13.25,14.3,14.75,14.25,15.05,17.4,17.25,17.75,14.45,14.299999999999999,11.65,13.45,13.25,13.15,12.3,13.649999999999999,14.45,14.0,15.299999999999999,18.6,17.3,16.25,17.95,15.7,15.6,15.25,17.1,18.3,18.7,18.4,17.0,16.65,18.1,20.3,18.1,18.0,16.549999999999997,16.0,17.25,15.3,17.6,16.8,18.6,17.4,17.85,16.9,17.05,15.75,18.5,16.200000000000003,17.25,18.6,22.0,18.049999999999997,17.7,20.4,23.5,21.15,19.65,25.200000000000003,16.8,17.15,15.05,15.15,17.5,22.45,22.049999999999997,18.65,20.35,19.0,20.25,17.05,15.0,15.85,17.35,20.65,20.049999999999997,17.15,19.8,21.85,19.700000000000003,18.3,18.55,19.4,22.950000000000003,23.35,20.85,21.450000000000003,24.75,20.25,20.75,21.05,25.45,24.6,20.9,19.3,19.75,20.6,23.9,22.05,22.1,24.049999999999997,26.0,23.0,18.45,20.1,21.25,21.55,23.200000000000003,22.3,21.7,23.3,27.200000000000003,23.9,23.299999999999997,26.0,22.0,21.85,24.049999999999997,22.950000000000003,20.299999999999997,23.15,24.25,29.25,32.150000000000006,18.25,21.299999999999997,26.1,19.8,20.299999999999997,21.9,22.65,22.3,22.6,23.5,23.25,25.1,25.700000000000003,25.0,29.6,28.599999999999998,27.05,24.65,23.75,22.55,23.0,21.950000000000003,23.2,23.0,24.1,25.6,26.950000000000003,30.85,25.35,26.75,28.55,24.9,24.45,28.700000000000003,31.6,22.3,24.1,24.1,23.45,27.05,30.75,22.450000000000003,23.1,23.75,25.049999999999997,26.25,28.7,32.4,21.950000000000003,23.950000000000003,24.35,26.549999999999997,30.35,30.450000000000003,23.5,23.85,26.7,30.6,30.05,28.2,22.55,22.8,22.05,24.75,26.25,25.6,22.35,22.9,22.25,23.5,24.85,24.9,19.700000000000003,21.9,22.65,23.7,23.9,23.4,22.75,21.6,21.55,22.65,21.0,20.2,21.5,21.55,21.5,21.9,24.799999999999997,24.25,22.85,23.4,21.35,22.55,23.9,25.799999999999997,25.200000000000003,27.1,22.0,21.3,21.85,22.7,23.1,22.5,25.1,24.25,18.950000000000003,20.05,19.5,18.4,18.85,18.7,18.299999999999997,18.95,19.9,22.1,14.799999999999999,18.4,18.85,19.450000000000003,19.3,18.5,21.049999999999997,19.15,20.15,20.049999999999997,20.1,19.15,20.9,21.3,19.799999999999997,22.45,20.85,16.05,16.0,16.75,18.3,19.4,19.25,16.65,15.9,17.15,19.45,18.4,15.15,15.85,16.1,16.5,16.05,17.65,16.7,16.95,16.5,15.0,17.05,17.6,19.95,18.65,17.0,18.65,18.75,16.5,15.7,16.6,17.8,14.850000000000001,12.100000000000001,13.0,13.15,13.3,14.049999999999999,15.1,14.5,13.5,12.15,15.25,14.649999999999999,15.3,14.85,15.85,14.1,14.45,15.4,14.600000000000001,16.15,14.65,14.75,15.65,14.100000000000001,14.25,13.55,14.7,13.45],\"type\":\"scatter\"}],                        {\"template\":{\"data\":{\"bar\":[{\"error_x\":{\"color\":\"#2a3f5f\"},\"error_y\":{\"color\":\"#2a3f5f\"},\"marker\":{\"line\":{\"color\":\"#E5ECF6\",\"width\":0.5},\"pattern\":{\"fillmode\":\"overlay\",\"size\":10,\"solidity\":0.2}},\"type\":\"bar\"}],\"barpolar\":[{\"marker\":{\"line\":{\"color\":\"#E5ECF6\",\"width\":0.5},\"pattern\":{\"fillmode\":\"overlay\",\"size\":10,\"solidity\":0.2}},\"type\":\"barpolar\"}],\"carpet\":[{\"aaxis\":{\"endlinecolor\":\"#2a3f5f\",\"gridcolor\":\"white\",\"linecolor\":\"white\",\"minorgridcolor\":\"white\",\"startlinecolor\":\"#2a3f5f\"},\"baxis\":{\"endlinecolor\":\"#2a3f5f\",\"gridcolor\":\"white\",\"linecolor\":\"white\",\"minorgridcolor\":\"white\",\"startlinecolor\":\"#2a3f5f\"},\"type\":\"carpet\"}],\"choropleth\":[{\"colorbar\":{\"outlinewidth\":0,\"ticks\":\"\"},\"type\":\"choropleth\"}],\"contour\":[{\"colorbar\":{\"outlinewidth\":0,\"ticks\":\"\"},\"colorscale\":[[0.0,\"#0d0887\"],[0.1111111111111111,\"#46039f\"],[0.2222222222222222,\"#7201a8\"],[0.3333333333333333,\"#9c179e\"],[0.4444444444444444,\"#bd3786\"],[0.5555555555555556,\"#d8576b\"],[0.6666666666666666,\"#ed7953\"],[0.7777777777777778,\"#fb9f3a\"],[0.8888888888888888,\"#fdca26\"],[1.0,\"#f0f921\"]],\"type\":\"contour\"}],\"contourcarpet\":[{\"colorbar\":{\"outlinewidth\":0,\"ticks\":\"\"},\"type\":\"contourcarpet\"}],\"heatmap\":[{\"colorbar\":{\"outlinewidth\":0,\"ticks\":\"\"},\"colorscale\":[[0.0,\"#0d0887\"],[0.1111111111111111,\"#46039f\"],[0.2222222222222222,\"#7201a8\"],[0.3333333333333333,\"#9c179e\"],[0.4444444444444444,\"#bd3786\"],[0.5555555555555556,\"#d8576b\"],[0.6666666666666666,\"#ed7953\"],[0.7777777777777778,\"#fb9f3a\"],[0.8888888888888888,\"#fdca26\"],[1.0,\"#f0f921\"]],\"type\":\"heatmap\"}],\"heatmapgl\":[{\"colorbar\":{\"outlinewidth\":0,\"ticks\":\"\"},\"colorscale\":[[0.0,\"#0d0887\"],[0.1111111111111111,\"#46039f\"],[0.2222222222222222,\"#7201a8\"],[0.3333333333333333,\"#9c179e\"],[0.4444444444444444,\"#bd3786\"],[0.5555555555555556,\"#d8576b\"],[0.6666666666666666,\"#ed7953\"],[0.7777777777777778,\"#fb9f3a\"],[0.8888888888888888,\"#fdca26\"],[1.0,\"#f0f921\"]],\"type\":\"heatmapgl\"}],\"histogram\":[{\"marker\":{\"pattern\":{\"fillmode\":\"overlay\",\"size\":10,\"solidity\":0.2}},\"type\":\"histogram\"}],\"histogram2d\":[{\"colorbar\":{\"outlinewidth\":0,\"ticks\":\"\"},\"colorscale\":[[0.0,\"#0d0887\"],[0.1111111111111111,\"#46039f\"],[0.2222222222222222,\"#7201a8\"],[0.3333333333333333,\"#9c179e\"],[0.4444444444444444,\"#bd3786\"],[0.5555555555555556,\"#d8576b\"],[0.6666666666666666,\"#ed7953\"],[0.7777777777777778,\"#fb9f3a\"],[0.8888888888888888,\"#fdca26\"],[1.0,\"#f0f921\"]],\"type\":\"histogram2d\"}],\"histogram2dcontour\":[{\"colorbar\":{\"outlinewidth\":0,\"ticks\":\"\"},\"colorscale\":[[0.0,\"#0d0887\"],[0.1111111111111111,\"#46039f\"],[0.2222222222222222,\"#7201a8\"],[0.3333333333333333,\"#9c179e\"],[0.4444444444444444,\"#bd3786\"],[0.5555555555555556,\"#d8576b\"],[0.6666666666666666,\"#ed7953\"],[0.7777777777777778,\"#fb9f3a\"],[0.8888888888888888,\"#fdca26\"],[1.0,\"#f0f921\"]],\"type\":\"histogram2dcontour\"}],\"mesh3d\":[{\"colorbar\":{\"outlinewidth\":0,\"ticks\":\"\"},\"type\":\"mesh3d\"}],\"parcoords\":[{\"line\":{\"colorbar\":{\"outlinewidth\":0,\"ticks\":\"\"}},\"type\":\"parcoords\"}],\"pie\":[{\"automargin\":true,\"type\":\"pie\"}],\"scatter\":[{\"marker\":{\"colorbar\":{\"outlinewidth\":0,\"ticks\":\"\"}},\"type\":\"scatter\"}],\"scatter3d\":[{\"line\":{\"colorbar\":{\"outlinewidth\":0,\"ticks\":\"\"}},\"marker\":{\"colorbar\":{\"outlinewidth\":0,\"ticks\":\"\"}},\"type\":\"scatter3d\"}],\"scattercarpet\":[{\"marker\":{\"colorbar\":{\"outlinewidth\":0,\"ticks\":\"\"}},\"type\":\"scattercarpet\"}],\"scattergeo\":[{\"marker\":{\"colorbar\":{\"outlinewidth\":0,\"ticks\":\"\"}},\"type\":\"scattergeo\"}],\"scattergl\":[{\"marker\":{\"colorbar\":{\"outlinewidth\":0,\"ticks\":\"\"}},\"type\":\"scattergl\"}],\"scattermapbox\":[{\"marker\":{\"colorbar\":{\"outlinewidth\":0,\"ticks\":\"\"}},\"type\":\"scattermapbox\"}],\"scatterpolar\":[{\"marker\":{\"colorbar\":{\"outlinewidth\":0,\"ticks\":\"\"}},\"type\":\"scatterpolar\"}],\"scatterpolargl\":[{\"marker\":{\"colorbar\":{\"outlinewidth\":0,\"ticks\":\"\"}},\"type\":\"scatterpolargl\"}],\"scatterternary\":[{\"marker\":{\"colorbar\":{\"outlinewidth\":0,\"ticks\":\"\"}},\"type\":\"scatterternary\"}],\"surface\":[{\"colorbar\":{\"outlinewidth\":0,\"ticks\":\"\"},\"colorscale\":[[0.0,\"#0d0887\"],[0.1111111111111111,\"#46039f\"],[0.2222222222222222,\"#7201a8\"],[0.3333333333333333,\"#9c179e\"],[0.4444444444444444,\"#bd3786\"],[0.5555555555555556,\"#d8576b\"],[0.6666666666666666,\"#ed7953\"],[0.7777777777777778,\"#fb9f3a\"],[0.8888888888888888,\"#fdca26\"],[1.0,\"#f0f921\"]],\"type\":\"surface\"}],\"table\":[{\"cells\":{\"fill\":{\"color\":\"#EBF0F8\"},\"line\":{\"color\":\"white\"}},\"header\":{\"fill\":{\"color\":\"#C8D4E3\"},\"line\":{\"color\":\"white\"}},\"type\":\"table\"}]},\"layout\":{\"annotationdefaults\":{\"arrowcolor\":\"#2a3f5f\",\"arrowhead\":0,\"arrowwidth\":1},\"autotypenumbers\":\"strict\",\"coloraxis\":{\"colorbar\":{\"outlinewidth\":0,\"ticks\":\"\"}},\"colorscale\":{\"diverging\":[[0,\"#8e0152\"],[0.1,\"#c51b7d\"],[0.2,\"#de77ae\"],[0.3,\"#f1b6da\"],[0.4,\"#fde0ef\"],[0.5,\"#f7f7f7\"],[0.6,\"#e6f5d0\"],[0.7,\"#b8e186\"],[0.8,\"#7fbc41\"],[0.9,\"#4d9221\"],[1,\"#276419\"]],\"sequential\":[[0.0,\"#0d0887\"],[0.1111111111111111,\"#46039f\"],[0.2222222222222222,\"#7201a8\"],[0.3333333333333333,\"#9c179e\"],[0.4444444444444444,\"#bd3786\"],[0.5555555555555556,\"#d8576b\"],[0.6666666666666666,\"#ed7953\"],[0.7777777777777778,\"#fb9f3a\"],[0.8888888888888888,\"#fdca26\"],[1.0,\"#f0f921\"]],\"sequentialminus\":[[0.0,\"#0d0887\"],[0.1111111111111111,\"#46039f\"],[0.2222222222222222,\"#7201a8\"],[0.3333333333333333,\"#9c179e\"],[0.4444444444444444,\"#bd3786\"],[0.5555555555555556,\"#d8576b\"],[0.6666666666666666,\"#ed7953\"],[0.7777777777777778,\"#fb9f3a\"],[0.8888888888888888,\"#fdca26\"],[1.0,\"#f0f921\"]]},\"colorway\":[\"#636efa\",\"#EF553B\",\"#00cc96\",\"#ab63fa\",\"#FFA15A\",\"#19d3f3\",\"#FF6692\",\"#B6E880\",\"#FF97FF\",\"#FECB52\"],\"font\":{\"color\":\"#2a3f5f\"},\"geo\":{\"bgcolor\":\"white\",\"lakecolor\":\"white\",\"landcolor\":\"#E5ECF6\",\"showlakes\":true,\"showland\":true,\"subunitcolor\":\"white\"},\"hoverlabel\":{\"align\":\"left\"},\"hovermode\":\"closest\",\"mapbox\":{\"style\":\"light\"},\"paper_bgcolor\":\"white\",\"plot_bgcolor\":\"#E5ECF6\",\"polar\":{\"angularaxis\":{\"gridcolor\":\"white\",\"linecolor\":\"white\",\"ticks\":\"\"},\"bgcolor\":\"#E5ECF6\",\"radialaxis\":{\"gridcolor\":\"white\",\"linecolor\":\"white\",\"ticks\":\"\"}},\"scene\":{\"xaxis\":{\"backgroundcolor\":\"#E5ECF6\",\"gridcolor\":\"white\",\"gridwidth\":2,\"linecolor\":\"white\",\"showbackground\":true,\"ticks\":\"\",\"zerolinecolor\":\"white\"},\"yaxis\":{\"backgroundcolor\":\"#E5ECF6\",\"gridcolor\":\"white\",\"gridwidth\":2,\"linecolor\":\"white\",\"showbackground\":true,\"ticks\":\"\",\"zerolinecolor\":\"white\"},\"zaxis\":{\"backgroundcolor\":\"#E5ECF6\",\"gridcolor\":\"white\",\"gridwidth\":2,\"linecolor\":\"white\",\"showbackground\":true,\"ticks\":\"\",\"zerolinecolor\":\"white\"}},\"shapedefaults\":{\"line\":{\"color\":\"#2a3f5f\"}},\"ternary\":{\"aaxis\":{\"gridcolor\":\"white\",\"linecolor\":\"white\",\"ticks\":\"\"},\"baxis\":{\"gridcolor\":\"white\",\"linecolor\":\"white\",\"ticks\":\"\"},\"bgcolor\":\"#E5ECF6\",\"caxis\":{\"gridcolor\":\"white\",\"linecolor\":\"white\",\"ticks\":\"\"}},\"title\":{\"x\":0.05},\"xaxis\":{\"automargin\":true,\"gridcolor\":\"white\",\"linecolor\":\"white\",\"ticks\":\"\",\"title\":{\"standoff\":15},\"zerolinecolor\":\"white\",\"zerolinewidth\":2},\"yaxis\":{\"automargin\":true,\"gridcolor\":\"white\",\"linecolor\":\"white\",\"ticks\":\"\",\"title\":{\"standoff\":15},\"zerolinecolor\":\"white\",\"zerolinewidth\":2}}},\"plot_bgcolor\":\"black\",\"xaxis\":{\"showgrid\":true,\"gridcolor\":\"lightgray\",\"showline\":true,\"zeroline\":true,\"zerolinecolor\":\"gray\",\"zerolinewidth\":1,\"linewidth\":1,\"linecolor\":\"red\",\"title\":{\"text\":\"Date\"}},\"yaxis\":{\"showgrid\":true,\"gridcolor\":\"lightgray\",\"showline\":true,\"zeroline\":true,\"zerolinecolor\":\"gray\",\"zerolinewidth\":1,\"linewidth\":1,\"linecolor\":\"red\",\"title\":{\"text\":\"Degree celcuis\"}},\"title\":{\"font\":{\"color\":\"green\"},\"text\":\"Avg daily temp in Sydney\"}},                        {\"responsive\": true}                    ).then(function(){\n",
              "                            \n",
              "var gd = document.getElementById('3341e0eb-297d-4fc5-8f05-e4d08b9c29a9');\n",
              "var x = new MutationObserver(function (mutations, observer) {{\n",
              "        var display = window.getComputedStyle(gd).display;\n",
              "        if (!display || display === 'none') {{\n",
              "            console.log([gd, 'removed!']);\n",
              "            Plotly.purge(gd);\n",
              "            observer.disconnect();\n",
              "        }}\n",
              "}});\n",
              "\n",
              "// Listen for the removal of the full notebook cells\n",
              "var notebookContainer = gd.closest('#notebook-container');\n",
              "if (notebookContainer) {{\n",
              "    x.observe(notebookContainer, {childList: true});\n",
              "}}\n",
              "\n",
              "// Listen for the clearing of the current output cell\n",
              "var outputEl = gd.closest('.output');\n",
              "if (outputEl) {{\n",
              "    x.observe(outputEl, {childList: true});\n",
              "}}\n",
              "\n",
              "                        })                };                            </script>        </div>\n",
              "</body>\n",
              "</html>"
            ]
          },
          "metadata": {}
        }
      ]
    },
    {
      "cell_type": "code",
      "source": [
        "def prep_data(data,time_step):\n",
        "  # create an array with in\n",
        "  y_indicies = np.arange(start=time_step,stop=len(data),step=time_step)  \n",
        "\n",
        "  y_temp = data[y_indicies]\n",
        "\n",
        "  row_x=len(y_temp)\n",
        "  print(row_x)\n",
        "\n",
        "  x_temp= data[range(time_step * row_x)]\n",
        "\n",
        "  x_temp = np.reshape(x_temp,(row_x,time_step,1))\n",
        "  \n",
        "  return x_temp,y_temp"
      ],
      "metadata": {
        "id": "NuhDwreSodo-"
      },
      "execution_count": 71,
      "outputs": []
    },
    {
      "cell_type": "code",
      "source": [
        "X,y =  prep_data(np.array(dfSydney[\"MedTemp\"]),7) "
      ],
      "metadata": {
        "colab": {
          "base_uri": "https://localhost:8080/"
        },
        "id": "-1AVJOiEuPqw",
        "outputId": "80030711-fe44-41f7-89ec-8cd62f8d4cb0"
      },
      "execution_count": 73,
      "outputs": [
        {
          "output_type": "stream",
          "name": "stdout",
          "text": [
            "476\n"
          ]
        }
      ]
    },
    {
      "cell_type": "code",
      "source": [
        "X.shape"
      ],
      "metadata": {
        "colab": {
          "base_uri": "https://localhost:8080/"
        },
        "id": "ElKLdxZduWyO",
        "outputId": "8b72b445-0f73-4bd2-d5cc-144567a45355"
      },
      "execution_count": 74,
      "outputs": [
        {
          "output_type": "execute_result",
          "data": {
            "text/plain": [
              "(476, 7, 1)"
            ]
          },
          "metadata": {},
          "execution_count": 74
        }
      ]
    },
    {
      "cell_type": "code",
      "source": [
        "y.shape"
      ],
      "metadata": {
        "colab": {
          "base_uri": "https://localhost:8080/"
        },
        "id": "UoJFknlTzc8u",
        "outputId": "5ceda997-521e-4438-a491-b144abb35585"
      },
      "execution_count": 76,
      "outputs": [
        {
          "output_type": "execute_result",
          "data": {
            "text/plain": [
              "(476,)"
            ]
          },
          "metadata": {},
          "execution_count": 76
        }
      ]
    },
    {
      "cell_type": "code",
      "source": [
        "scaler = MinMaxScaler()\n",
        "\n",
        "data_scaled = scaler.fit_transform(dfSydney[[\"MedTemp\"]])"
      ],
      "metadata": {
        "id": "ljrZnkKY0Ut-"
      },
      "execution_count": 81,
      "outputs": []
    },
    {
      "cell_type": "code",
      "source": [
        "traindata,testdata = train_test_split(data_scaled,test_size=.3)"
      ],
      "metadata": {
        "id": "EMr4Bmcx1JuJ"
      },
      "execution_count": 85,
      "outputs": []
    },
    {
      "cell_type": "code",
      "source": [
        "traindata.shape"
      ],
      "metadata": {
        "colab": {
          "base_uri": "https://localhost:8080/"
        },
        "id": "zlYw2G0E1qpt",
        "outputId": "04fe52e1-7d55-466c-f32f-f5c1fd7038cb"
      },
      "execution_count": 86,
      "outputs": [
        {
          "output_type": "execute_result",
          "data": {
            "text/plain": [
              "(2337, 1)"
            ]
          },
          "metadata": {},
          "execution_count": 86
        }
      ]
    },
    {
      "cell_type": "code",
      "source": [
        "testdata.shape"
      ],
      "metadata": {
        "colab": {
          "base_uri": "https://localhost:8080/"
        },
        "id": "6DWsa5Iw1vKt",
        "outputId": "883740b9-6588-463f-8d2c-3c78c7ed78d9"
      },
      "execution_count": 87,
      "outputs": [
        {
          "output_type": "execute_result",
          "data": {
            "text/plain": [
              "(1002, 1)"
            ]
          },
          "metadata": {},
          "execution_count": 87
        }
      ]
    },
    {
      "cell_type": "code",
      "source": [
        "timestep = 7\n",
        "\n",
        "X_train,y_train =prep_data(traindata,timestep)\n",
        "X_test,y_test =prep_data(testdata,timestep)"
      ],
      "metadata": {
        "colab": {
          "base_uri": "https://localhost:8080/"
        },
        "id": "u2GFoJ5Q10Ic",
        "outputId": "29751a07-9ef4-4271-ebce-7d5024d27d0c"
      },
      "execution_count": 88,
      "outputs": [
        {
          "output_type": "stream",
          "name": "stdout",
          "text": [
            "333\n",
            "143\n"
          ]
        }
      ]
    },
    {
      "cell_type": "code",
      "source": [
        "X_train[0]"
      ],
      "metadata": {
        "colab": {
          "base_uri": "https://localhost:8080/"
        },
        "id": "ejTHghyy2L_W",
        "outputId": "43c35a09-7f91-4762-cd1e-f89f8399e57e"
      },
      "execution_count": 89,
      "outputs": [
        {
          "output_type": "execute_result",
          "data": {
            "text/plain": [
              "array([[0.3100616 ],\n",
              "       [0.45585216],\n",
              "       [0.06776181],\n",
              "       [0.44353183],\n",
              "       [0.41889117],\n",
              "       [0.39425051],\n",
              "       [0.27310062]])"
            ]
          },
          "metadata": {},
          "execution_count": 89
        }
      ]
    },
    {
      "cell_type": "code",
      "source": [
        "y_train[0]"
      ],
      "metadata": {
        "colab": {
          "base_uri": "https://localhost:8080/"
        },
        "id": "QGQ-EUNv264w",
        "outputId": "36e8cc0c-c8b9-476e-ed79-47935d6a5cfb"
      },
      "execution_count": 90,
      "outputs": [
        {
          "output_type": "execute_result",
          "data": {
            "text/plain": [
              "array([0.7412731])"
            ]
          },
          "metadata": {},
          "execution_count": 90
        }
      ]
    },
    {
      "cell_type": "code",
      "source": [
        "model = keras.Sequential()\n",
        "model.add(Input(shape=(timestep,1),name=\"Input_Layer\"))"
      ],
      "metadata": {
        "id": "nPsWNdvm297E"
      },
      "execution_count": 166,
      "outputs": []
    },
    {
      "cell_type": "code",
      "source": [
        "model.add(SimpleRNN(units=1024,activation=\"tanh\"))\n",
        "\n",
        "model.add(Dense(units=512,activation=\"relu\"))\n",
        "\n",
        "model.add(Dense(units=128,activation=\"tanh\"))\n",
        "\n",
        "model.add(Dense(units=64,activation=\"tanh\"))\n",
        "\n",
        "model.add(Dense(units=32,activation=\"tanh\"))\n",
        "\n",
        "model.add(Dense(units=1,activation=\"tanh\"))"
      ],
      "metadata": {
        "id": "Ki_z_ap4-YUS"
      },
      "execution_count": 167,
      "outputs": []
    },
    {
      "cell_type": "code",
      "source": [
        "model.compile(optimizer=\"adam\",loss=\"mean_squared_error\",metrics=[\"MeanSquaredError\",\"MeanAbsoluteError\"])"
      ],
      "metadata": {
        "id": "llxm-Mps_Sgy"
      },
      "execution_count": 168,
      "outputs": []
    },
    {
      "cell_type": "code",
      "source": [
        "model.summary()"
      ],
      "metadata": {
        "colab": {
          "base_uri": "https://localhost:8080/"
        },
        "id": "wmb-bs2QADyb",
        "outputId": "b32436d0-b844-419d-9ea7-fd136a8eb6b3"
      },
      "execution_count": 169,
      "outputs": [
        {
          "output_type": "stream",
          "name": "stdout",
          "text": [
            "Model: \"sequential_10\"\n",
            "_________________________________________________________________\n",
            " Layer (type)                Output Shape              Param #   \n",
            "=================================================================\n",
            " simple_rnn_12 (SimpleRNN)   (None, 1024)              1050624   \n",
            "                                                                 \n",
            " dense_11 (Dense)            (None, 512)               524800    \n",
            "                                                                 \n",
            " dense_12 (Dense)            (None, 128)               65664     \n",
            "                                                                 \n",
            " dense_13 (Dense)            (None, 64)                8256      \n",
            "                                                                 \n",
            " dense_14 (Dense)            (None, 32)                2080      \n",
            "                                                                 \n",
            " dense_15 (Dense)            (None, 1)                 33        \n",
            "                                                                 \n",
            "=================================================================\n",
            "Total params: 1,651,457\n",
            "Trainable params: 1,651,457\n",
            "Non-trainable params: 0\n",
            "_________________________________________________________________\n"
          ]
        }
      ]
    },
    {
      "cell_type": "code",
      "source": [
        "history= model.fit(X_train,y_train,epochs=100,batch_size=32,verbose=1,validation_data=(X_test,y_test) )"
      ],
      "metadata": {
        "colab": {
          "base_uri": "https://localhost:8080/"
        },
        "id": "eO8SwKgnAFLw",
        "outputId": "99b792ea-432c-4574-fc7e-259bbc7ec762"
      },
      "execution_count": 170,
      "outputs": [
        {
          "output_type": "stream",
          "name": "stdout",
          "text": [
            "Epoch 1/100\n",
            "11/11 [==============================] - 2s 134ms/step - loss: 0.3260 - mean_squared_error: 0.3260 - mean_absolute_error: 0.4880 - val_loss: 0.0940 - val_mean_squared_error: 0.0940 - val_mean_absolute_error: 0.2524\n",
            "Epoch 2/100\n",
            "11/11 [==============================] - 2s 145ms/step - loss: 0.0530 - mean_squared_error: 0.0530 - mean_absolute_error: 0.1866 - val_loss: 0.0385 - val_mean_squared_error: 0.0385 - val_mean_absolute_error: 0.1623\n",
            "Epoch 3/100\n",
            "11/11 [==============================] - 2s 153ms/step - loss: 0.0423 - mean_squared_error: 0.0423 - mean_absolute_error: 0.1703 - val_loss: 0.0422 - val_mean_squared_error: 0.0422 - val_mean_absolute_error: 0.1690\n",
            "Epoch 4/100\n",
            "11/11 [==============================] - 2s 152ms/step - loss: 0.0399 - mean_squared_error: 0.0399 - mean_absolute_error: 0.1619 - val_loss: 0.0337 - val_mean_squared_error: 0.0337 - val_mean_absolute_error: 0.1549\n",
            "Epoch 5/100\n",
            "11/11 [==============================] - 1s 111ms/step - loss: 0.0353 - mean_squared_error: 0.0353 - mean_absolute_error: 0.1584 - val_loss: 0.0356 - val_mean_squared_error: 0.0356 - val_mean_absolute_error: 0.1586\n",
            "Epoch 6/100\n",
            "11/11 [==============================] - 1s 112ms/step - loss: 0.0340 - mean_squared_error: 0.0340 - mean_absolute_error: 0.1551 - val_loss: 0.0338 - val_mean_squared_error: 0.0338 - val_mean_absolute_error: 0.1537\n",
            "Epoch 7/100\n",
            "11/11 [==============================] - 1s 117ms/step - loss: 0.0331 - mean_squared_error: 0.0331 - mean_absolute_error: 0.1524 - val_loss: 0.0334 - val_mean_squared_error: 0.0334 - val_mean_absolute_error: 0.1529\n",
            "Epoch 8/100\n",
            "11/11 [==============================] - 1s 107ms/step - loss: 0.0325 - mean_squared_error: 0.0325 - mean_absolute_error: 0.1502 - val_loss: 0.0341 - val_mean_squared_error: 0.0341 - val_mean_absolute_error: 0.1549\n",
            "Epoch 9/100\n",
            "11/11 [==============================] - 1s 108ms/step - loss: 0.0325 - mean_squared_error: 0.0325 - mean_absolute_error: 0.1491 - val_loss: 0.0332 - val_mean_squared_error: 0.0332 - val_mean_absolute_error: 0.1520\n",
            "Epoch 10/100\n",
            "11/11 [==============================] - 1s 110ms/step - loss: 0.0330 - mean_squared_error: 0.0330 - mean_absolute_error: 0.1519 - val_loss: 0.0318 - val_mean_squared_error: 0.0318 - val_mean_absolute_error: 0.1491\n",
            "Epoch 11/100\n",
            "11/11 [==============================] - 1s 111ms/step - loss: 0.0323 - mean_squared_error: 0.0323 - mean_absolute_error: 0.1496 - val_loss: 0.0328 - val_mean_squared_error: 0.0328 - val_mean_absolute_error: 0.1522\n",
            "Epoch 12/100\n",
            "11/11 [==============================] - 1s 111ms/step - loss: 0.0325 - mean_squared_error: 0.0325 - mean_absolute_error: 0.1486 - val_loss: 0.0348 - val_mean_squared_error: 0.0348 - val_mean_absolute_error: 0.1542\n",
            "Epoch 13/100\n",
            "11/11 [==============================] - 1s 111ms/step - loss: 0.0323 - mean_squared_error: 0.0323 - mean_absolute_error: 0.1493 - val_loss: 0.0331 - val_mean_squared_error: 0.0331 - val_mean_absolute_error: 0.1525\n",
            "Epoch 14/100\n",
            "11/11 [==============================] - 1s 111ms/step - loss: 0.0339 - mean_squared_error: 0.0339 - mean_absolute_error: 0.1528 - val_loss: 0.0352 - val_mean_squared_error: 0.0352 - val_mean_absolute_error: 0.1565\n",
            "Epoch 15/100\n",
            "11/11 [==============================] - 1s 111ms/step - loss: 0.0319 - mean_squared_error: 0.0319 - mean_absolute_error: 0.1471 - val_loss: 0.0347 - val_mean_squared_error: 0.0347 - val_mean_absolute_error: 0.1549\n",
            "Epoch 16/100\n",
            "11/11 [==============================] - 1s 116ms/step - loss: 0.0325 - mean_squared_error: 0.0325 - mean_absolute_error: 0.1497 - val_loss: 0.0353 - val_mean_squared_error: 0.0353 - val_mean_absolute_error: 0.1571\n",
            "Epoch 17/100\n",
            "11/11 [==============================] - 1s 111ms/step - loss: 0.0337 - mean_squared_error: 0.0337 - mean_absolute_error: 0.1521 - val_loss: 0.0327 - val_mean_squared_error: 0.0327 - val_mean_absolute_error: 0.1523\n",
            "Epoch 18/100\n",
            "11/11 [==============================] - 1s 111ms/step - loss: 0.0337 - mean_squared_error: 0.0337 - mean_absolute_error: 0.1515 - val_loss: 0.0325 - val_mean_squared_error: 0.0325 - val_mean_absolute_error: 0.1504\n",
            "Epoch 19/100\n",
            "11/11 [==============================] - 1s 113ms/step - loss: 0.0333 - mean_squared_error: 0.0333 - mean_absolute_error: 0.1528 - val_loss: 0.0338 - val_mean_squared_error: 0.0338 - val_mean_absolute_error: 0.1531\n",
            "Epoch 20/100\n",
            "11/11 [==============================] - 1s 113ms/step - loss: 0.0333 - mean_squared_error: 0.0333 - mean_absolute_error: 0.1535 - val_loss: 0.0351 - val_mean_squared_error: 0.0351 - val_mean_absolute_error: 0.1567\n",
            "Epoch 21/100\n",
            "11/11 [==============================] - 1s 110ms/step - loss: 0.0325 - mean_squared_error: 0.0325 - mean_absolute_error: 0.1496 - val_loss: 0.0339 - val_mean_squared_error: 0.0339 - val_mean_absolute_error: 0.1537\n",
            "Epoch 22/100\n",
            "11/11 [==============================] - 1s 117ms/step - loss: 0.0329 - mean_squared_error: 0.0329 - mean_absolute_error: 0.1510 - val_loss: 0.0346 - val_mean_squared_error: 0.0346 - val_mean_absolute_error: 0.1550\n",
            "Epoch 23/100\n",
            "11/11 [==============================] - 1s 114ms/step - loss: 0.0315 - mean_squared_error: 0.0315 - mean_absolute_error: 0.1472 - val_loss: 0.0364 - val_mean_squared_error: 0.0364 - val_mean_absolute_error: 0.1576\n",
            "Epoch 24/100\n",
            "11/11 [==============================] - 1s 113ms/step - loss: 0.0321 - mean_squared_error: 0.0321 - mean_absolute_error: 0.1481 - val_loss: 0.0338 - val_mean_squared_error: 0.0338 - val_mean_absolute_error: 0.1523\n",
            "Epoch 25/100\n",
            "11/11 [==============================] - 1s 108ms/step - loss: 0.0318 - mean_squared_error: 0.0318 - mean_absolute_error: 0.1499 - val_loss: 0.0333 - val_mean_squared_error: 0.0333 - val_mean_absolute_error: 0.1513\n",
            "Epoch 26/100\n",
            "11/11 [==============================] - 1s 111ms/step - loss: 0.0313 - mean_squared_error: 0.0313 - mean_absolute_error: 0.1462 - val_loss: 0.0340 - val_mean_squared_error: 0.0340 - val_mean_absolute_error: 0.1528\n",
            "Epoch 27/100\n",
            "11/11 [==============================] - 1s 114ms/step - loss: 0.0316 - mean_squared_error: 0.0316 - mean_absolute_error: 0.1479 - val_loss: 0.0335 - val_mean_squared_error: 0.0335 - val_mean_absolute_error: 0.1538\n",
            "Epoch 28/100\n",
            "11/11 [==============================] - 1s 113ms/step - loss: 0.0305 - mean_squared_error: 0.0305 - mean_absolute_error: 0.1457 - val_loss: 0.0358 - val_mean_squared_error: 0.0358 - val_mean_absolute_error: 0.1584\n",
            "Epoch 29/100\n",
            "11/11 [==============================] - 1s 112ms/step - loss: 0.0304 - mean_squared_error: 0.0304 - mean_absolute_error: 0.1430 - val_loss: 0.0354 - val_mean_squared_error: 0.0354 - val_mean_absolute_error: 0.1564\n",
            "Epoch 30/100\n",
            "11/11 [==============================] - 1s 112ms/step - loss: 0.0318 - mean_squared_error: 0.0318 - mean_absolute_error: 0.1459 - val_loss: 0.0419 - val_mean_squared_error: 0.0419 - val_mean_absolute_error: 0.1675\n",
            "Epoch 31/100\n",
            "11/11 [==============================] - 1s 111ms/step - loss: 0.0324 - mean_squared_error: 0.0324 - mean_absolute_error: 0.1497 - val_loss: 0.0369 - val_mean_squared_error: 0.0369 - val_mean_absolute_error: 0.1551\n",
            "Epoch 32/100\n",
            "11/11 [==============================] - 1s 112ms/step - loss: 0.0315 - mean_squared_error: 0.0315 - mean_absolute_error: 0.1457 - val_loss: 0.0361 - val_mean_squared_error: 0.0361 - val_mean_absolute_error: 0.1552\n",
            "Epoch 33/100\n",
            "11/11 [==============================] - 1s 117ms/step - loss: 0.0314 - mean_squared_error: 0.0314 - mean_absolute_error: 0.1457 - val_loss: 0.0354 - val_mean_squared_error: 0.0354 - val_mean_absolute_error: 0.1559\n",
            "Epoch 34/100\n",
            "11/11 [==============================] - 1s 111ms/step - loss: 0.0301 - mean_squared_error: 0.0301 - mean_absolute_error: 0.1438 - val_loss: 0.0398 - val_mean_squared_error: 0.0398 - val_mean_absolute_error: 0.1677\n",
            "Epoch 35/100\n",
            "11/11 [==============================] - 1s 114ms/step - loss: 0.0319 - mean_squared_error: 0.0319 - mean_absolute_error: 0.1457 - val_loss: 0.0355 - val_mean_squared_error: 0.0355 - val_mean_absolute_error: 0.1563\n",
            "Epoch 36/100\n",
            "11/11 [==============================] - 1s 116ms/step - loss: 0.0303 - mean_squared_error: 0.0303 - mean_absolute_error: 0.1424 - val_loss: 0.0348 - val_mean_squared_error: 0.0348 - val_mean_absolute_error: 0.1555\n",
            "Epoch 37/100\n",
            "11/11 [==============================] - 1s 111ms/step - loss: 0.0303 - mean_squared_error: 0.0303 - mean_absolute_error: 0.1456 - val_loss: 0.0359 - val_mean_squared_error: 0.0359 - val_mean_absolute_error: 0.1574\n",
            "Epoch 38/100\n",
            "11/11 [==============================] - 1s 114ms/step - loss: 0.0320 - mean_squared_error: 0.0320 - mean_absolute_error: 0.1450 - val_loss: 0.0345 - val_mean_squared_error: 0.0345 - val_mean_absolute_error: 0.1554\n",
            "Epoch 39/100\n",
            "11/11 [==============================] - 1s 113ms/step - loss: 0.0302 - mean_squared_error: 0.0302 - mean_absolute_error: 0.1442 - val_loss: 0.0350 - val_mean_squared_error: 0.0350 - val_mean_absolute_error: 0.1567\n",
            "Epoch 40/100\n",
            "11/11 [==============================] - 1s 112ms/step - loss: 0.0290 - mean_squared_error: 0.0290 - mean_absolute_error: 0.1416 - val_loss: 0.0350 - val_mean_squared_error: 0.0350 - val_mean_absolute_error: 0.1566\n",
            "Epoch 41/100\n",
            "11/11 [==============================] - 1s 116ms/step - loss: 0.0296 - mean_squared_error: 0.0296 - mean_absolute_error: 0.1409 - val_loss: 0.0365 - val_mean_squared_error: 0.0365 - val_mean_absolute_error: 0.1595\n",
            "Epoch 42/100\n",
            "11/11 [==============================] - 1s 112ms/step - loss: 0.0287 - mean_squared_error: 0.0287 - mean_absolute_error: 0.1411 - val_loss: 0.0357 - val_mean_squared_error: 0.0357 - val_mean_absolute_error: 0.1584\n",
            "Epoch 43/100\n",
            "11/11 [==============================] - 1s 115ms/step - loss: 0.0284 - mean_squared_error: 0.0284 - mean_absolute_error: 0.1372 - val_loss: 0.0352 - val_mean_squared_error: 0.0352 - val_mean_absolute_error: 0.1563\n",
            "Epoch 44/100\n",
            "11/11 [==============================] - 1s 114ms/step - loss: 0.0284 - mean_squared_error: 0.0284 - mean_absolute_error: 0.1376 - val_loss: 0.0392 - val_mean_squared_error: 0.0392 - val_mean_absolute_error: 0.1657\n",
            "Epoch 45/100\n",
            "11/11 [==============================] - 1s 113ms/step - loss: 0.0277 - mean_squared_error: 0.0277 - mean_absolute_error: 0.1334 - val_loss: 0.0371 - val_mean_squared_error: 0.0371 - val_mean_absolute_error: 0.1604\n",
            "Epoch 46/100\n",
            "11/11 [==============================] - 1s 114ms/step - loss: 0.0291 - mean_squared_error: 0.0291 - mean_absolute_error: 0.1395 - val_loss: 0.0347 - val_mean_squared_error: 0.0347 - val_mean_absolute_error: 0.1538\n",
            "Epoch 47/100\n",
            "11/11 [==============================] - 1s 117ms/step - loss: 0.0285 - mean_squared_error: 0.0285 - mean_absolute_error: 0.1385 - val_loss: 0.0366 - val_mean_squared_error: 0.0366 - val_mean_absolute_error: 0.1605\n",
            "Epoch 48/100\n",
            "11/11 [==============================] - 1s 113ms/step - loss: 0.0280 - mean_squared_error: 0.0280 - mean_absolute_error: 0.1378 - val_loss: 0.0381 - val_mean_squared_error: 0.0381 - val_mean_absolute_error: 0.1637\n",
            "Epoch 49/100\n",
            "11/11 [==============================] - 1s 111ms/step - loss: 0.0281 - mean_squared_error: 0.0281 - mean_absolute_error: 0.1367 - val_loss: 0.0406 - val_mean_squared_error: 0.0406 - val_mean_absolute_error: 0.1706\n",
            "Epoch 50/100\n",
            "11/11 [==============================] - 1s 111ms/step - loss: 0.0276 - mean_squared_error: 0.0276 - mean_absolute_error: 0.1351 - val_loss: 0.0351 - val_mean_squared_error: 0.0351 - val_mean_absolute_error: 0.1565\n",
            "Epoch 51/100\n",
            "11/11 [==============================] - 1s 113ms/step - loss: 0.0288 - mean_squared_error: 0.0288 - mean_absolute_error: 0.1365 - val_loss: 0.0354 - val_mean_squared_error: 0.0354 - val_mean_absolute_error: 0.1596\n",
            "Epoch 52/100\n",
            "11/11 [==============================] - 1s 115ms/step - loss: 0.0290 - mean_squared_error: 0.0290 - mean_absolute_error: 0.1366 - val_loss: 0.0361 - val_mean_squared_error: 0.0361 - val_mean_absolute_error: 0.1604\n",
            "Epoch 53/100\n",
            "11/11 [==============================] - 1s 114ms/step - loss: 0.0289 - mean_squared_error: 0.0289 - mean_absolute_error: 0.1388 - val_loss: 0.0347 - val_mean_squared_error: 0.0347 - val_mean_absolute_error: 0.1565\n",
            "Epoch 54/100\n",
            "11/11 [==============================] - 1s 113ms/step - loss: 0.0280 - mean_squared_error: 0.0280 - mean_absolute_error: 0.1362 - val_loss: 0.0340 - val_mean_squared_error: 0.0340 - val_mean_absolute_error: 0.1546\n",
            "Epoch 55/100\n",
            "11/11 [==============================] - 1s 113ms/step - loss: 0.0274 - mean_squared_error: 0.0274 - mean_absolute_error: 0.1340 - val_loss: 0.0371 - val_mean_squared_error: 0.0371 - val_mean_absolute_error: 0.1614\n",
            "Epoch 56/100\n",
            "11/11 [==============================] - 1s 113ms/step - loss: 0.0293 - mean_squared_error: 0.0293 - mean_absolute_error: 0.1403 - val_loss: 0.0345 - val_mean_squared_error: 0.0345 - val_mean_absolute_error: 0.1539\n",
            "Epoch 57/100\n",
            "11/11 [==============================] - 1s 113ms/step - loss: 0.0293 - mean_squared_error: 0.0293 - mean_absolute_error: 0.1386 - val_loss: 0.0351 - val_mean_squared_error: 0.0351 - val_mean_absolute_error: 0.1560\n",
            "Epoch 58/100\n",
            "11/11 [==============================] - 1s 115ms/step - loss: 0.0295 - mean_squared_error: 0.0295 - mean_absolute_error: 0.1409 - val_loss: 0.0419 - val_mean_squared_error: 0.0419 - val_mean_absolute_error: 0.1701\n",
            "Epoch 59/100\n",
            "11/11 [==============================] - 1s 120ms/step - loss: 0.0293 - mean_squared_error: 0.0293 - mean_absolute_error: 0.1418 - val_loss: 0.0359 - val_mean_squared_error: 0.0359 - val_mean_absolute_error: 0.1608\n",
            "Epoch 60/100\n",
            "11/11 [==============================] - 1s 115ms/step - loss: 0.0274 - mean_squared_error: 0.0274 - mean_absolute_error: 0.1361 - val_loss: 0.0367 - val_mean_squared_error: 0.0367 - val_mean_absolute_error: 0.1614\n",
            "Epoch 61/100\n",
            "11/11 [==============================] - 1s 115ms/step - loss: 0.0294 - mean_squared_error: 0.0294 - mean_absolute_error: 0.1379 - val_loss: 0.0347 - val_mean_squared_error: 0.0347 - val_mean_absolute_error: 0.1551\n",
            "Epoch 62/100\n",
            "11/11 [==============================] - 1s 115ms/step - loss: 0.0290 - mean_squared_error: 0.0290 - mean_absolute_error: 0.1408 - val_loss: 0.0351 - val_mean_squared_error: 0.0351 - val_mean_absolute_error: 0.1588\n",
            "Epoch 63/100\n",
            "11/11 [==============================] - 1s 120ms/step - loss: 0.0295 - mean_squared_error: 0.0295 - mean_absolute_error: 0.1416 - val_loss: 0.0380 - val_mean_squared_error: 0.0380 - val_mean_absolute_error: 0.1607\n",
            "Epoch 64/100\n",
            "11/11 [==============================] - 1s 115ms/step - loss: 0.0319 - mean_squared_error: 0.0319 - mean_absolute_error: 0.1436 - val_loss: 0.0337 - val_mean_squared_error: 0.0337 - val_mean_absolute_error: 0.1521\n",
            "Epoch 65/100\n",
            "11/11 [==============================] - 1s 116ms/step - loss: 0.0321 - mean_squared_error: 0.0321 - mean_absolute_error: 0.1451 - val_loss: 0.0329 - val_mean_squared_error: 0.0329 - val_mean_absolute_error: 0.1517\n",
            "Epoch 66/100\n",
            "11/11 [==============================] - 1s 117ms/step - loss: 0.0300 - mean_squared_error: 0.0300 - mean_absolute_error: 0.1426 - val_loss: 0.0423 - val_mean_squared_error: 0.0423 - val_mean_absolute_error: 0.1699\n",
            "Epoch 67/100\n",
            "11/11 [==============================] - 1s 113ms/step - loss: 0.0316 - mean_squared_error: 0.0316 - mean_absolute_error: 0.1473 - val_loss: 0.0362 - val_mean_squared_error: 0.0362 - val_mean_absolute_error: 0.1559\n",
            "Epoch 68/100\n",
            "11/11 [==============================] - 1s 116ms/step - loss: 0.0307 - mean_squared_error: 0.0307 - mean_absolute_error: 0.1425 - val_loss: 0.0362 - val_mean_squared_error: 0.0362 - val_mean_absolute_error: 0.1605\n",
            "Epoch 69/100\n",
            "11/11 [==============================] - 1s 117ms/step - loss: 0.0274 - mean_squared_error: 0.0274 - mean_absolute_error: 0.1342 - val_loss: 0.0421 - val_mean_squared_error: 0.0421 - val_mean_absolute_error: 0.1721\n",
            "Epoch 70/100\n",
            "11/11 [==============================] - 1s 119ms/step - loss: 0.0269 - mean_squared_error: 0.0269 - mean_absolute_error: 0.1331 - val_loss: 0.0399 - val_mean_squared_error: 0.0399 - val_mean_absolute_error: 0.1674\n",
            "Epoch 71/100\n",
            "11/11 [==============================] - 1s 120ms/step - loss: 0.0268 - mean_squared_error: 0.0268 - mean_absolute_error: 0.1325 - val_loss: 0.0378 - val_mean_squared_error: 0.0378 - val_mean_absolute_error: 0.1639\n",
            "Epoch 72/100\n",
            "11/11 [==============================] - 1s 115ms/step - loss: 0.0271 - mean_squared_error: 0.0271 - mean_absolute_error: 0.1316 - val_loss: 0.0375 - val_mean_squared_error: 0.0375 - val_mean_absolute_error: 0.1636\n",
            "Epoch 73/100\n",
            "11/11 [==============================] - 1s 113ms/step - loss: 0.0266 - mean_squared_error: 0.0266 - mean_absolute_error: 0.1309 - val_loss: 0.0390 - val_mean_squared_error: 0.0390 - val_mean_absolute_error: 0.1675\n",
            "Epoch 74/100\n",
            "11/11 [==============================] - 1s 113ms/step - loss: 0.0255 - mean_squared_error: 0.0255 - mean_absolute_error: 0.1292 - val_loss: 0.0417 - val_mean_squared_error: 0.0417 - val_mean_absolute_error: 0.1705\n",
            "Epoch 75/100\n",
            "11/11 [==============================] - 1s 108ms/step - loss: 0.0267 - mean_squared_error: 0.0267 - mean_absolute_error: 0.1320 - val_loss: 0.0396 - val_mean_squared_error: 0.0396 - val_mean_absolute_error: 0.1653\n",
            "Epoch 76/100\n",
            "11/11 [==============================] - 1s 116ms/step - loss: 0.0271 - mean_squared_error: 0.0271 - mean_absolute_error: 0.1338 - val_loss: 0.0361 - val_mean_squared_error: 0.0361 - val_mean_absolute_error: 0.1619\n",
            "Epoch 77/100\n",
            "11/11 [==============================] - 1s 114ms/step - loss: 0.0270 - mean_squared_error: 0.0270 - mean_absolute_error: 0.1328 - val_loss: 0.0528 - val_mean_squared_error: 0.0528 - val_mean_absolute_error: 0.1850\n",
            "Epoch 78/100\n",
            "11/11 [==============================] - 1s 113ms/step - loss: 0.0334 - mean_squared_error: 0.0334 - mean_absolute_error: 0.1512 - val_loss: 0.0344 - val_mean_squared_error: 0.0344 - val_mean_absolute_error: 0.1550\n",
            "Epoch 79/100\n",
            "11/11 [==============================] - 1s 114ms/step - loss: 0.0314 - mean_squared_error: 0.0314 - mean_absolute_error: 0.1475 - val_loss: 0.0335 - val_mean_squared_error: 0.0335 - val_mean_absolute_error: 0.1529\n",
            "Epoch 80/100\n",
            "11/11 [==============================] - 1s 114ms/step - loss: 0.0296 - mean_squared_error: 0.0296 - mean_absolute_error: 0.1423 - val_loss: 0.0354 - val_mean_squared_error: 0.0354 - val_mean_absolute_error: 0.1576\n",
            "Epoch 81/100\n",
            "11/11 [==============================] - 1s 115ms/step - loss: 0.0295 - mean_squared_error: 0.0295 - mean_absolute_error: 0.1380 - val_loss: 0.0345 - val_mean_squared_error: 0.0345 - val_mean_absolute_error: 0.1528\n",
            "Epoch 82/100\n",
            "11/11 [==============================] - 1s 111ms/step - loss: 0.0278 - mean_squared_error: 0.0278 - mean_absolute_error: 0.1351 - val_loss: 0.0363 - val_mean_squared_error: 0.0363 - val_mean_absolute_error: 0.1602\n",
            "Epoch 83/100\n",
            "11/11 [==============================] - 1s 114ms/step - loss: 0.0276 - mean_squared_error: 0.0276 - mean_absolute_error: 0.1360 - val_loss: 0.0392 - val_mean_squared_error: 0.0392 - val_mean_absolute_error: 0.1667\n",
            "Epoch 84/100\n",
            "11/11 [==============================] - 1s 114ms/step - loss: 0.0267 - mean_squared_error: 0.0267 - mean_absolute_error: 0.1326 - val_loss: 0.0385 - val_mean_squared_error: 0.0385 - val_mean_absolute_error: 0.1643\n",
            "Epoch 85/100\n",
            "11/11 [==============================] - 1s 115ms/step - loss: 0.0270 - mean_squared_error: 0.0270 - mean_absolute_error: 0.1323 - val_loss: 0.0370 - val_mean_squared_error: 0.0370 - val_mean_absolute_error: 0.1601\n",
            "Epoch 86/100\n",
            "11/11 [==============================] - 1s 116ms/step - loss: 0.0256 - mean_squared_error: 0.0256 - mean_absolute_error: 0.1305 - val_loss: 0.0365 - val_mean_squared_error: 0.0365 - val_mean_absolute_error: 0.1611\n",
            "Epoch 87/100\n",
            "11/11 [==============================] - 1s 115ms/step - loss: 0.0249 - mean_squared_error: 0.0249 - mean_absolute_error: 0.1270 - val_loss: 0.0397 - val_mean_squared_error: 0.0397 - val_mean_absolute_error: 0.1671\n",
            "Epoch 88/100\n",
            "11/11 [==============================] - 1s 120ms/step - loss: 0.0257 - mean_squared_error: 0.0257 - mean_absolute_error: 0.1296 - val_loss: 0.0411 - val_mean_squared_error: 0.0411 - val_mean_absolute_error: 0.1689\n",
            "Epoch 89/100\n",
            "11/11 [==============================] - 1s 114ms/step - loss: 0.0252 - mean_squared_error: 0.0252 - mean_absolute_error: 0.1280 - val_loss: 0.0444 - val_mean_squared_error: 0.0444 - val_mean_absolute_error: 0.1757\n",
            "Epoch 90/100\n",
            "11/11 [==============================] - 1s 112ms/step - loss: 0.0259 - mean_squared_error: 0.0259 - mean_absolute_error: 0.1310 - val_loss: 0.0374 - val_mean_squared_error: 0.0374 - val_mean_absolute_error: 0.1627\n",
            "Epoch 91/100\n",
            "11/11 [==============================] - 1s 111ms/step - loss: 0.0256 - mean_squared_error: 0.0256 - mean_absolute_error: 0.1305 - val_loss: 0.0364 - val_mean_squared_error: 0.0364 - val_mean_absolute_error: 0.1598\n",
            "Epoch 92/100\n",
            "11/11 [==============================] - 1s 116ms/step - loss: 0.0250 - mean_squared_error: 0.0250 - mean_absolute_error: 0.1245 - val_loss: 0.0428 - val_mean_squared_error: 0.0428 - val_mean_absolute_error: 0.1720\n",
            "Epoch 93/100\n",
            "11/11 [==============================] - 1s 113ms/step - loss: 0.0300 - mean_squared_error: 0.0300 - mean_absolute_error: 0.1386 - val_loss: 0.0400 - val_mean_squared_error: 0.0400 - val_mean_absolute_error: 0.1624\n",
            "Epoch 94/100\n",
            "11/11 [==============================] - 1s 115ms/step - loss: 0.0300 - mean_squared_error: 0.0300 - mean_absolute_error: 0.1389 - val_loss: 0.0418 - val_mean_squared_error: 0.0418 - val_mean_absolute_error: 0.1652\n",
            "Epoch 95/100\n",
            "11/11 [==============================] - 1s 113ms/step - loss: 0.0312 - mean_squared_error: 0.0312 - mean_absolute_error: 0.1447 - val_loss: 0.0349 - val_mean_squared_error: 0.0349 - val_mean_absolute_error: 0.1583\n",
            "Epoch 96/100\n",
            "11/11 [==============================] - 1s 112ms/step - loss: 0.0304 - mean_squared_error: 0.0304 - mean_absolute_error: 0.1435 - val_loss: 0.0373 - val_mean_squared_error: 0.0373 - val_mean_absolute_error: 0.1609\n",
            "Epoch 97/100\n",
            "11/11 [==============================] - 1s 111ms/step - loss: 0.0304 - mean_squared_error: 0.0304 - mean_absolute_error: 0.1431 - val_loss: 0.0356 - val_mean_squared_error: 0.0356 - val_mean_absolute_error: 0.1566\n",
            "Epoch 98/100\n",
            "11/11 [==============================] - 1s 113ms/step - loss: 0.0308 - mean_squared_error: 0.0308 - mean_absolute_error: 0.1453 - val_loss: 0.0350 - val_mean_squared_error: 0.0350 - val_mean_absolute_error: 0.1573\n",
            "Epoch 99/100\n",
            "11/11 [==============================] - 1s 111ms/step - loss: 0.0297 - mean_squared_error: 0.0297 - mean_absolute_error: 0.1415 - val_loss: 0.0333 - val_mean_squared_error: 0.0333 - val_mean_absolute_error: 0.1504\n",
            "Epoch 100/100\n",
            "11/11 [==============================] - 1s 117ms/step - loss: 0.0282 - mean_squared_error: 0.0282 - mean_absolute_error: 0.1384 - val_loss: 0.0378 - val_mean_squared_error: 0.0378 - val_mean_absolute_error: 0.1632\n"
          ]
        }
      ]
    },
    {
      "cell_type": "code",
      "source": [
        "pred_train = model.predict(X_train)\n",
        "pred_test = model.predict(X_test)"
      ],
      "metadata": {
        "id": "726KJcKHApSQ"
      },
      "execution_count": 171,
      "outputs": []
    },
    {
      "cell_type": "code",
      "source": [
        "history.params"
      ],
      "metadata": {
        "colab": {
          "base_uri": "https://localhost:8080/"
        },
        "id": "_aDT4eEvB81C",
        "outputId": "0a53d578-6fae-4aaf-a09b-f40357174e15"
      },
      "execution_count": 172,
      "outputs": [
        {
          "output_type": "execute_result",
          "data": {
            "text/plain": [
              "{'epochs': 100, 'steps': 11, 'verbose': 1}"
            ]
          },
          "metadata": {},
          "execution_count": 172
        }
      ]
    },
    {
      "cell_type": "code",
      "source": [
        "print(\"MSE in Train Data \",mean_squared_error(y_train,pred_train))"
      ],
      "metadata": {
        "colab": {
          "base_uri": "https://localhost:8080/"
        },
        "id": "IkfDvT9MCDlf",
        "outputId": "4ff809c0-12fc-41bb-c48b-b75d01ca7451"
      },
      "execution_count": 173,
      "outputs": [
        {
          "output_type": "stream",
          "name": "stdout",
          "text": [
            "MSE in Train Data  0.026465690679184885\n"
          ]
        }
      ]
    },
    {
      "cell_type": "code",
      "source": [
        "print(\"MSE in Train Data \",mean_squared_error(y_test,pred_test))"
      ],
      "metadata": {
        "colab": {
          "base_uri": "https://localhost:8080/"
        },
        "id": "KpAuvczMCfPh",
        "outputId": "6105229d-36a5-4e63-d0be-1e4bec9ed05b"
      },
      "execution_count": 174,
      "outputs": [
        {
          "output_type": "stream",
          "name": "stdout",
          "text": [
            "MSE in Train Data  0.03779715902642009\n"
          ]
        }
      ]
    },
    {
      "cell_type": "code",
      "source": [
        "fig = go.Figure()\n",
        "fig.add_trace(go.Scatter(\n",
        "    x=np.arange(0,len(y_test)),\n",
        "    y=scaler.inverse_transform(y_test).flatten(),\n",
        "    mode=\"lines\",\n",
        "    name=\"Actual Median Temperatures\",\n",
        "    opacity=0.8,  \n",
        "    line={'color':'orange','width':1}\n",
        "))\n",
        "\n",
        "fig.add_trace(go.Scatter(\n",
        "    x=np.arange(0,len(pred_test)),\n",
        "    y=scaler.inverse_transform(pred_test).flatten(),\n",
        "    mode=\"lines\",\n",
        "    name=\"Predicted Median Temperatures\",\n",
        "    opacity=0.8,  \n",
        "    line={'color':'red','width':1}\n",
        "))\n",
        "\n",
        "\n",
        "fig.update_layout({'plot_bgcolor':'white'})\n",
        "fig.update_xaxes(showgrid=True,gridcolor='lightgray',showline=True,zeroline=True,zerolinecolor='gray',zerolinewidth=1,\n",
        "                 linewidth=1,linecolor='red',title='Date')\n",
        "fig.update_yaxes(showgrid=True,gridcolor='lightgray',showline=True,zeroline=True,zerolinecolor='gray',zerolinewidth=1,\n",
        "                 linewidth=1,linecolor='red',title='Degree celcuis')\n",
        "fig.update_layout(title={'text':'Avg daily temp in Sydney','font':{'color':'green'}})\n"
      ],
      "metadata": {
        "colab": {
          "base_uri": "https://localhost:8080/",
          "height": 542
        },
        "id": "V7zBvT2iCi1x",
        "outputId": "a3bcb24d-52d6-4ecb-b58a-ec00773f6bc7"
      },
      "execution_count": 175,
      "outputs": [
        {
          "output_type": "display_data",
          "data": {
            "text/html": [
              "<html>\n",
              "<head><meta charset=\"utf-8\" /></head>\n",
              "<body>\n",
              "    <div>            <script src=\"https://cdnjs.cloudflare.com/ajax/libs/mathjax/2.7.5/MathJax.js?config=TeX-AMS-MML_SVG\"></script><script type=\"text/javascript\">if (window.MathJax) {MathJax.Hub.Config({SVG: {font: \"STIX-Web\"}});}</script>                <script type=\"text/javascript\">window.PlotlyConfig = {MathJaxConfig: 'local'};</script>\n",
              "        <script src=\"https://cdn.plot.ly/plotly-2.8.3.min.js\"></script>                <div id=\"5f492474-77b6-4a97-b4df-2f2e22226ef7\" class=\"plotly-graph-div\" style=\"height:525px; width:100%;\"></div>            <script type=\"text/javascript\">                                    window.PLOTLYENV=window.PLOTLYENV || {};                                    if (document.getElementById(\"5f492474-77b6-4a97-b4df-2f2e22226ef7\")) {                    Plotly.newPlot(                        \"5f492474-77b6-4a97-b4df-2f2e22226ef7\",                        [{\"line\":{\"color\":\"orange\",\"width\":1},\"mode\":\"lines\",\"name\":\"Actual Median Temperatures\",\"opacity\":0.8,\"x\":[0,1,2,3,4,5,6,7,8,9,10,11,12,13,14,15,16,17,18,19,20,21,22,23,24,25,26,27,28,29,30,31,32,33,34,35,36,37,38,39,40,41,42,43,44,45,46,47,48,49,50,51,52,53,54,55,56,57,58,59,60,61,62,63,64,65,66,67,68,69,70,71,72,73,74,75,76,77,78,79,80,81,82,83,84,85,86,87,88,89,90,91,92,93,94,95,96,97,98,99,100,101,102,103,104,105,106,107,108,109,110,111,112,113,114,115,116,117,118,119,120,121,122,123,124,125,126,127,128,129,130,131,132,133,134,135,136,137,138,139,140,141,142],\"y\":[19.45,13.85,17.9,15.3,16.8,23.15,22.2,14.0,12.95,21.2,21.15,27.799999999999997,30.799999999999997,19.450000000000003,20.0,20.2,17.299999999999997,13.699999999999998,17.65,22.5,19.15,11.149999999999999,16.5,28.699999999999996,23.700000000000003,17.35,24.299999999999997,20.549999999999997,14.049999999999999,15.000000000000002,20.5,15.399999999999999,11.7,25.6,15.75,18.85,19.6,19.75,13.75,24.049999999999997,19.55,13.35,17.7,13.05,23.4,19.8,14.749999999999998,17.3,13.6,16.65,13.45,20.1,14.25,23.6,20.65,13.399999999999999,24.35,28.599999999999998,16.1,12.95,14.0,20.6,22.4,22.25,18.35,21.5,18.6,23.1,20.1,12.700000000000003,21.15,14.049999999999999,25.3,24.15,26.9,18.85,18.65,16.7,22.299999999999997,16.0,17.4,14.9,15.000000000000002,20.299999999999997,15.6,21.799999999999997,15.950000000000001,16.95,11.05,23.200000000000003,20.8,15.000000000000002,13.950000000000001,14.600000000000001,24.400000000000002,19.6,20.6,14.5,21.6,26.05,13.35,13.55,14.399999999999999,22.450000000000003,14.9,22.0,20.700000000000003,21.4,16.05,16.55,18.3,24.0,25.200000000000003,11.450000000000001,17.0,12.0,13.649999999999999,22.05,14.1,18.5,26.3,22.0,19.95,15.399999999999999,16.2,21.1,22.35,28.2,18.45,12.9,11.0,25.9,24.9,21.9,20.35,21.45,22.4,26.7,15.05,19.05,20.799999999999997,15.75,19.15],\"type\":\"scatter\"},{\"line\":{\"color\":\"red\",\"width\":1},\"mode\":\"lines\",\"name\":\"Predicted Median Temperatures\",\"opacity\":0.8,\"x\":[0,1,2,3,4,5,6,7,8,9,10,11,12,13,14,15,16,17,18,19,20,21,22,23,24,25,26,27,28,29,30,31,32,33,34,35,36,37,38,39,40,41,42,43,44,45,46,47,48,49,50,51,52,53,54,55,56,57,58,59,60,61,62,63,64,65,66,67,68,69,70,71,72,73,74,75,76,77,78,79,80,81,82,83,84,85,86,87,88,89,90,91,92,93,94,95,96,97,98,99,100,101,102,103,104,105,106,107,108,109,110,111,112,113,114,115,116,117,118,119,120,121,122,123,124,125,126,127,128,129,130,131,132,133,134,135,136,137,138,139,140,141,142],\"y\":[16.200876235961914,18.713930130004883,16.935503005981445,18.354923248291016,15.822367668151855,16.070310592651367,18.999731063842773,18.39417839050293,14.741328239440918,16.1948184967041,19.084203720092773,18.46010398864746,19.12909507751465,19.0039119720459,18.509191513061523,18.33611297607422,18.733564376831055,17.712026596069336,20.025527954101562,18.271045684814453,18.62421226501465,18.565885543823242,17.176185607910156,17.844308853149414,19.175132751464844,19.03708267211914,17.79330062866211,19.023683547973633,18.639772415161133,20.1348876953125,15.780688285827637,18.871192932128906,16.328428268432617,23.794775009155273,19.064008712768555,14.714065551757812,18.265155792236328,18.78458595275879,17.539566040039062,17.78905487060547,19.00758934020996,17.943605422973633,16.572816848754883,17.795204162597656,21.393152236938477,19.043563842773438,18.42072868347168,18.964502334594727,17.983213424682617,18.18067741394043,15.380441665649414,15.133625984191895,18.536203384399414,17.150535583496094,18.782150268554688,18.772886276245117,15.832293510437012,18.507402420043945,19.049617767333984,19.350948333740234,18.788728713989258,13.617583274841309,18.700273513793945,18.63816261291504,18.644559860229492,17.72833251953125,18.594818115234375,18.970449447631836,18.656352996826172,18.92144203186035,17.718656539916992,18.94481086730957,16.165613174438477,19.109447479248047,18.96317481994629,19.033559799194336,17.803560256958008,18.326574325561523,15.718672752380371,18.520492553710938,13.551200866699219,19.46106719970703,21.16330909729004,16.850738525390625,18.790699005126953,16.320180892944336,18.452842712402344,15.184147834777832,16.950042724609375,25.625490188598633,18.903501510620117,18.89784812927246,15.009337425231934,18.978294372558594,14.356063842773438,18.861557006835938,18.884654998779297,18.74180793762207,19.538602828979492,18.622026443481445,19.112062454223633,21.791406631469727,17.954208374023438,19.25480079650879,18.80696678161621,14.100786209106445,18.778932571411133,18.956695556640625,19.050474166870117,15.483585357666016,17.97547721862793,18.053274154663086,18.96712303161621,19.059511184692383,19.47110939025879,20.583749771118164,19.50192642211914,15.268940925598145,18.78986167907715,19.328950881958008,18.024045944213867,18.863059997558594,18.889270782470703,18.41447639465332,18.31544303894043,16.18357276916504,18.833261489868164,18.60955047607422,19.130245208740234,17.71450424194336,13.623711585998535,15.805042266845703,18.997880935668945,19.05946159362793,18.924129486083984,18.90915298461914,18.60991096496582,18.328399658203125,19.011856079101562,16.49264144897461,18.68039321899414,18.71734046936035,14.481267929077148],\"type\":\"scatter\"}],                        {\"template\":{\"data\":{\"bar\":[{\"error_x\":{\"color\":\"#2a3f5f\"},\"error_y\":{\"color\":\"#2a3f5f\"},\"marker\":{\"line\":{\"color\":\"#E5ECF6\",\"width\":0.5},\"pattern\":{\"fillmode\":\"overlay\",\"size\":10,\"solidity\":0.2}},\"type\":\"bar\"}],\"barpolar\":[{\"marker\":{\"line\":{\"color\":\"#E5ECF6\",\"width\":0.5},\"pattern\":{\"fillmode\":\"overlay\",\"size\":10,\"solidity\":0.2}},\"type\":\"barpolar\"}],\"carpet\":[{\"aaxis\":{\"endlinecolor\":\"#2a3f5f\",\"gridcolor\":\"white\",\"linecolor\":\"white\",\"minorgridcolor\":\"white\",\"startlinecolor\":\"#2a3f5f\"},\"baxis\":{\"endlinecolor\":\"#2a3f5f\",\"gridcolor\":\"white\",\"linecolor\":\"white\",\"minorgridcolor\":\"white\",\"startlinecolor\":\"#2a3f5f\"},\"type\":\"carpet\"}],\"choropleth\":[{\"colorbar\":{\"outlinewidth\":0,\"ticks\":\"\"},\"type\":\"choropleth\"}],\"contour\":[{\"colorbar\":{\"outlinewidth\":0,\"ticks\":\"\"},\"colorscale\":[[0.0,\"#0d0887\"],[0.1111111111111111,\"#46039f\"],[0.2222222222222222,\"#7201a8\"],[0.3333333333333333,\"#9c179e\"],[0.4444444444444444,\"#bd3786\"],[0.5555555555555556,\"#d8576b\"],[0.6666666666666666,\"#ed7953\"],[0.7777777777777778,\"#fb9f3a\"],[0.8888888888888888,\"#fdca26\"],[1.0,\"#f0f921\"]],\"type\":\"contour\"}],\"contourcarpet\":[{\"colorbar\":{\"outlinewidth\":0,\"ticks\":\"\"},\"type\":\"contourcarpet\"}],\"heatmap\":[{\"colorbar\":{\"outlinewidth\":0,\"ticks\":\"\"},\"colorscale\":[[0.0,\"#0d0887\"],[0.1111111111111111,\"#46039f\"],[0.2222222222222222,\"#7201a8\"],[0.3333333333333333,\"#9c179e\"],[0.4444444444444444,\"#bd3786\"],[0.5555555555555556,\"#d8576b\"],[0.6666666666666666,\"#ed7953\"],[0.7777777777777778,\"#fb9f3a\"],[0.8888888888888888,\"#fdca26\"],[1.0,\"#f0f921\"]],\"type\":\"heatmap\"}],\"heatmapgl\":[{\"colorbar\":{\"outlinewidth\":0,\"ticks\":\"\"},\"colorscale\":[[0.0,\"#0d0887\"],[0.1111111111111111,\"#46039f\"],[0.2222222222222222,\"#7201a8\"],[0.3333333333333333,\"#9c179e\"],[0.4444444444444444,\"#bd3786\"],[0.5555555555555556,\"#d8576b\"],[0.6666666666666666,\"#ed7953\"],[0.7777777777777778,\"#fb9f3a\"],[0.8888888888888888,\"#fdca26\"],[1.0,\"#f0f921\"]],\"type\":\"heatmapgl\"}],\"histogram\":[{\"marker\":{\"pattern\":{\"fillmode\":\"overlay\",\"size\":10,\"solidity\":0.2}},\"type\":\"histogram\"}],\"histogram2d\":[{\"colorbar\":{\"outlinewidth\":0,\"ticks\":\"\"},\"colorscale\":[[0.0,\"#0d0887\"],[0.1111111111111111,\"#46039f\"],[0.2222222222222222,\"#7201a8\"],[0.3333333333333333,\"#9c179e\"],[0.4444444444444444,\"#bd3786\"],[0.5555555555555556,\"#d8576b\"],[0.6666666666666666,\"#ed7953\"],[0.7777777777777778,\"#fb9f3a\"],[0.8888888888888888,\"#fdca26\"],[1.0,\"#f0f921\"]],\"type\":\"histogram2d\"}],\"histogram2dcontour\":[{\"colorbar\":{\"outlinewidth\":0,\"ticks\":\"\"},\"colorscale\":[[0.0,\"#0d0887\"],[0.1111111111111111,\"#46039f\"],[0.2222222222222222,\"#7201a8\"],[0.3333333333333333,\"#9c179e\"],[0.4444444444444444,\"#bd3786\"],[0.5555555555555556,\"#d8576b\"],[0.6666666666666666,\"#ed7953\"],[0.7777777777777778,\"#fb9f3a\"],[0.8888888888888888,\"#fdca26\"],[1.0,\"#f0f921\"]],\"type\":\"histogram2dcontour\"}],\"mesh3d\":[{\"colorbar\":{\"outlinewidth\":0,\"ticks\":\"\"},\"type\":\"mesh3d\"}],\"parcoords\":[{\"line\":{\"colorbar\":{\"outlinewidth\":0,\"ticks\":\"\"}},\"type\":\"parcoords\"}],\"pie\":[{\"automargin\":true,\"type\":\"pie\"}],\"scatter\":[{\"marker\":{\"colorbar\":{\"outlinewidth\":0,\"ticks\":\"\"}},\"type\":\"scatter\"}],\"scatter3d\":[{\"line\":{\"colorbar\":{\"outlinewidth\":0,\"ticks\":\"\"}},\"marker\":{\"colorbar\":{\"outlinewidth\":0,\"ticks\":\"\"}},\"type\":\"scatter3d\"}],\"scattercarpet\":[{\"marker\":{\"colorbar\":{\"outlinewidth\":0,\"ticks\":\"\"}},\"type\":\"scattercarpet\"}],\"scattergeo\":[{\"marker\":{\"colorbar\":{\"outlinewidth\":0,\"ticks\":\"\"}},\"type\":\"scattergeo\"}],\"scattergl\":[{\"marker\":{\"colorbar\":{\"outlinewidth\":0,\"ticks\":\"\"}},\"type\":\"scattergl\"}],\"scattermapbox\":[{\"marker\":{\"colorbar\":{\"outlinewidth\":0,\"ticks\":\"\"}},\"type\":\"scattermapbox\"}],\"scatterpolar\":[{\"marker\":{\"colorbar\":{\"outlinewidth\":0,\"ticks\":\"\"}},\"type\":\"scatterpolar\"}],\"scatterpolargl\":[{\"marker\":{\"colorbar\":{\"outlinewidth\":0,\"ticks\":\"\"}},\"type\":\"scatterpolargl\"}],\"scatterternary\":[{\"marker\":{\"colorbar\":{\"outlinewidth\":0,\"ticks\":\"\"}},\"type\":\"scatterternary\"}],\"surface\":[{\"colorbar\":{\"outlinewidth\":0,\"ticks\":\"\"},\"colorscale\":[[0.0,\"#0d0887\"],[0.1111111111111111,\"#46039f\"],[0.2222222222222222,\"#7201a8\"],[0.3333333333333333,\"#9c179e\"],[0.4444444444444444,\"#bd3786\"],[0.5555555555555556,\"#d8576b\"],[0.6666666666666666,\"#ed7953\"],[0.7777777777777778,\"#fb9f3a\"],[0.8888888888888888,\"#fdca26\"],[1.0,\"#f0f921\"]],\"type\":\"surface\"}],\"table\":[{\"cells\":{\"fill\":{\"color\":\"#EBF0F8\"},\"line\":{\"color\":\"white\"}},\"header\":{\"fill\":{\"color\":\"#C8D4E3\"},\"line\":{\"color\":\"white\"}},\"type\":\"table\"}]},\"layout\":{\"annotationdefaults\":{\"arrowcolor\":\"#2a3f5f\",\"arrowhead\":0,\"arrowwidth\":1},\"autotypenumbers\":\"strict\",\"coloraxis\":{\"colorbar\":{\"outlinewidth\":0,\"ticks\":\"\"}},\"colorscale\":{\"diverging\":[[0,\"#8e0152\"],[0.1,\"#c51b7d\"],[0.2,\"#de77ae\"],[0.3,\"#f1b6da\"],[0.4,\"#fde0ef\"],[0.5,\"#f7f7f7\"],[0.6,\"#e6f5d0\"],[0.7,\"#b8e186\"],[0.8,\"#7fbc41\"],[0.9,\"#4d9221\"],[1,\"#276419\"]],\"sequential\":[[0.0,\"#0d0887\"],[0.1111111111111111,\"#46039f\"],[0.2222222222222222,\"#7201a8\"],[0.3333333333333333,\"#9c179e\"],[0.4444444444444444,\"#bd3786\"],[0.5555555555555556,\"#d8576b\"],[0.6666666666666666,\"#ed7953\"],[0.7777777777777778,\"#fb9f3a\"],[0.8888888888888888,\"#fdca26\"],[1.0,\"#f0f921\"]],\"sequentialminus\":[[0.0,\"#0d0887\"],[0.1111111111111111,\"#46039f\"],[0.2222222222222222,\"#7201a8\"],[0.3333333333333333,\"#9c179e\"],[0.4444444444444444,\"#bd3786\"],[0.5555555555555556,\"#d8576b\"],[0.6666666666666666,\"#ed7953\"],[0.7777777777777778,\"#fb9f3a\"],[0.8888888888888888,\"#fdca26\"],[1.0,\"#f0f921\"]]},\"colorway\":[\"#636efa\",\"#EF553B\",\"#00cc96\",\"#ab63fa\",\"#FFA15A\",\"#19d3f3\",\"#FF6692\",\"#B6E880\",\"#FF97FF\",\"#FECB52\"],\"font\":{\"color\":\"#2a3f5f\"},\"geo\":{\"bgcolor\":\"white\",\"lakecolor\":\"white\",\"landcolor\":\"#E5ECF6\",\"showlakes\":true,\"showland\":true,\"subunitcolor\":\"white\"},\"hoverlabel\":{\"align\":\"left\"},\"hovermode\":\"closest\",\"mapbox\":{\"style\":\"light\"},\"paper_bgcolor\":\"white\",\"plot_bgcolor\":\"#E5ECF6\",\"polar\":{\"angularaxis\":{\"gridcolor\":\"white\",\"linecolor\":\"white\",\"ticks\":\"\"},\"bgcolor\":\"#E5ECF6\",\"radialaxis\":{\"gridcolor\":\"white\",\"linecolor\":\"white\",\"ticks\":\"\"}},\"scene\":{\"xaxis\":{\"backgroundcolor\":\"#E5ECF6\",\"gridcolor\":\"white\",\"gridwidth\":2,\"linecolor\":\"white\",\"showbackground\":true,\"ticks\":\"\",\"zerolinecolor\":\"white\"},\"yaxis\":{\"backgroundcolor\":\"#E5ECF6\",\"gridcolor\":\"white\",\"gridwidth\":2,\"linecolor\":\"white\",\"showbackground\":true,\"ticks\":\"\",\"zerolinecolor\":\"white\"},\"zaxis\":{\"backgroundcolor\":\"#E5ECF6\",\"gridcolor\":\"white\",\"gridwidth\":2,\"linecolor\":\"white\",\"showbackground\":true,\"ticks\":\"\",\"zerolinecolor\":\"white\"}},\"shapedefaults\":{\"line\":{\"color\":\"#2a3f5f\"}},\"ternary\":{\"aaxis\":{\"gridcolor\":\"white\",\"linecolor\":\"white\",\"ticks\":\"\"},\"baxis\":{\"gridcolor\":\"white\",\"linecolor\":\"white\",\"ticks\":\"\"},\"bgcolor\":\"#E5ECF6\",\"caxis\":{\"gridcolor\":\"white\",\"linecolor\":\"white\",\"ticks\":\"\"}},\"title\":{\"x\":0.05},\"xaxis\":{\"automargin\":true,\"gridcolor\":\"white\",\"linecolor\":\"white\",\"ticks\":\"\",\"title\":{\"standoff\":15},\"zerolinecolor\":\"white\",\"zerolinewidth\":2},\"yaxis\":{\"automargin\":true,\"gridcolor\":\"white\",\"linecolor\":\"white\",\"ticks\":\"\",\"title\":{\"standoff\":15},\"zerolinecolor\":\"white\",\"zerolinewidth\":2}}},\"plot_bgcolor\":\"white\",\"xaxis\":{\"showgrid\":true,\"gridcolor\":\"lightgray\",\"showline\":true,\"zeroline\":true,\"zerolinecolor\":\"gray\",\"zerolinewidth\":1,\"linewidth\":1,\"linecolor\":\"red\",\"title\":{\"text\":\"Date\"}},\"yaxis\":{\"showgrid\":true,\"gridcolor\":\"lightgray\",\"showline\":true,\"zeroline\":true,\"zerolinecolor\":\"gray\",\"zerolinewidth\":1,\"linewidth\":1,\"linecolor\":\"red\",\"title\":{\"text\":\"Degree celcuis\"}},\"title\":{\"font\":{\"color\":\"green\"},\"text\":\"Avg daily temp in Sydney\"}},                        {\"responsive\": true}                    ).then(function(){\n",
              "                            \n",
              "var gd = document.getElementById('5f492474-77b6-4a97-b4df-2f2e22226ef7');\n",
              "var x = new MutationObserver(function (mutations, observer) {{\n",
              "        var display = window.getComputedStyle(gd).display;\n",
              "        if (!display || display === 'none') {{\n",
              "            console.log([gd, 'removed!']);\n",
              "            Plotly.purge(gd);\n",
              "            observer.disconnect();\n",
              "        }}\n",
              "}});\n",
              "\n",
              "// Listen for the removal of the full notebook cells\n",
              "var notebookContainer = gd.closest('#notebook-container');\n",
              "if (notebookContainer) {{\n",
              "    x.observe(notebookContainer, {childList: true});\n",
              "}}\n",
              "\n",
              "// Listen for the clearing of the current output cell\n",
              "var outputEl = gd.closest('.output');\n",
              "if (outputEl) {{\n",
              "    x.observe(outputEl, {childList: true});\n",
              "}}\n",
              "\n",
              "                        })                };                            </script>        </div>\n",
              "</body>\n",
              "</html>"
            ]
          },
          "metadata": {}
        }
      ]
    },
    {
      "cell_type": "code",
      "source": [
        "fig = go.Figure()\n",
        "fig.add_trace(go.Scatter(\n",
        "    x=np.arange(0,len(y_train)),\n",
        "    y=scaler.inverse_transform(y_train).flatten(),\n",
        "    mode=\"lines\",\n",
        "    name=\"Actual Median Temperatures\",\n",
        "    opacity=0.8,  \n",
        "    line={'color':'orange','width':1}\n",
        "))\n",
        "\n",
        "fig.add_trace(go.Scatter(\n",
        "    x=np.arange(0,len(pred_train)),\n",
        "    y=scaler.inverse_transform(pred_train).flatten(),\n",
        "    mode=\"lines\",\n",
        "    name=\"Predicted Median Temperatures\",\n",
        "    opacity=0.8,  \n",
        "    line={'color':'red','width':1}\n",
        "))\n",
        "\n",
        "\n",
        "fig.update_layout({'plot_bgcolor':'white'})\n",
        "fig.update_xaxes(showgrid=True,gridcolor='lightgray',showline=True,zeroline=True,zerolinecolor='gray',zerolinewidth=1,\n",
        "                 linewidth=1,linecolor='red',title='Date')\n",
        "fig.update_yaxes(showgrid=True,gridcolor='lightgray',showline=True,zeroline=True,zerolinecolor='gray',zerolinewidth=1,\n",
        "                 linewidth=1,linecolor='red',title='Degree celcuis')\n",
        "fig.update_layout(title={'text':'Avg daily temp in Sydney','font':{'color':'green'}})\n"
      ],
      "metadata": {
        "colab": {
          "base_uri": "https://localhost:8080/",
          "height": 542
        },
        "id": "FZQ3ePGMDK_C",
        "outputId": "798baa61-d3fe-47ca-beea-15c4091e1973"
      },
      "execution_count": 176,
      "outputs": [
        {
          "output_type": "display_data",
          "data": {
            "text/html": [
              "<html>\n",
              "<head><meta charset=\"utf-8\" /></head>\n",
              "<body>\n",
              "    <div>            <script src=\"https://cdnjs.cloudflare.com/ajax/libs/mathjax/2.7.5/MathJax.js?config=TeX-AMS-MML_SVG\"></script><script type=\"text/javascript\">if (window.MathJax) {MathJax.Hub.Config({SVG: {font: \"STIX-Web\"}});}</script>                <script type=\"text/javascript\">window.PlotlyConfig = {MathJaxConfig: 'local'};</script>\n",
              "        <script src=\"https://cdn.plot.ly/plotly-2.8.3.min.js\"></script>                <div id=\"fb815f4e-e7d4-4947-baa7-cf4aef89c4ca\" class=\"plotly-graph-div\" style=\"height:525px; width:100%;\"></div>            <script type=\"text/javascript\">                                    window.PLOTLYENV=window.PLOTLYENV || {};                                    if (document.getElementById(\"fb815f4e-e7d4-4947-baa7-cf4aef89c4ca\")) {                    Plotly.newPlot(                        \"fb815f4e-e7d4-4947-baa7-cf4aef89c4ca\",                        [{\"line\":{\"color\":\"orange\",\"width\":1},\"mode\":\"lines\",\"name\":\"Actual Median Temperatures\",\"opacity\":0.8,\"x\":[0,1,2,3,4,5,6,7,8,9,10,11,12,13,14,15,16,17,18,19,20,21,22,23,24,25,26,27,28,29,30,31,32,33,34,35,36,37,38,39,40,41,42,43,44,45,46,47,48,49,50,51,52,53,54,55,56,57,58,59,60,61,62,63,64,65,66,67,68,69,70,71,72,73,74,75,76,77,78,79,80,81,82,83,84,85,86,87,88,89,90,91,92,93,94,95,96,97,98,99,100,101,102,103,104,105,106,107,108,109,110,111,112,113,114,115,116,117,118,119,120,121,122,123,124,125,126,127,128,129,130,131,132,133,134,135,136,137,138,139,140,141,142,143,144,145,146,147,148,149,150,151,152,153,154,155,156,157,158,159,160,161,162,163,164,165,166,167,168,169,170,171,172,173,174,175,176,177,178,179,180,181,182,183,184,185,186,187,188,189,190,191,192,193,194,195,196,197,198,199,200,201,202,203,204,205,206,207,208,209,210,211,212,213,214,215,216,217,218,219,220,221,222,223,224,225,226,227,228,229,230,231,232,233,234,235,236,237,238,239,240,241,242,243,244,245,246,247,248,249,250,251,252,253,254,255,256,257,258,259,260,261,262,263,264,265,266,267,268,269,270,271,272,273,274,275,276,277,278,279,280,281,282,283,284,285,286,287,288,289,290,291,292,293,294,295,296,297,298,299,300,301,302,303,304,305,306,307,308,309,310,311,312,313,314,315,316,317,318,319,320,321,322,323,324,325,326,327,328,329,330,331,332],\"y\":[27.450000000000003,20.3,17.9,11.5,30.099999999999994,21.0,19.65,20.85,15.950000000000001,14.749999999999998,24.35,23.5,22.85,17.15,24.9,10.85,14.0,17.4,27.799999999999997,22.85,14.549999999999999,15.2,21.799999999999997,15.3,20.35,27.05,23.85,18.4,27.1,18.6,22.8,14.700000000000003,16.049999999999997,18.75,14.649999999999997,14.9,15.45,18.5,26.2,19.6,15.3,23.049999999999997,22.25,24.5,15.15,23.05,14.100000000000001,18.65,15.2,11.25,23.1,11.55,25.7,21.75,23.75,19.8,21.75,16.15,20.049999999999997,15.75,20.25,12.25,28.0,17.7,22.049999999999997,22.9,15.55,22.0,18.15,31.300000000000004,10.6,13.950000000000001,16.55,27.5,20.65,24.9,23.700000000000003,13.5,19.25,15.35,14.25,16.700000000000003,15.799999999999999,15.649999999999999,21.4,20.85,25.4,15.899999999999999,18.9,18.9,12.95,14.749999999999998,19.25,22.1,26.4,13.299999999999997,13.699999999999998,23.45,22.2,26.05,21.1,19.0,18.95,13.649999999999999,20.85,20.85,11.149999999999999,20.05,15.000000000000002,14.200000000000001,15.55,20.549999999999997,15.399999999999999,22.7,26.950000000000003,12.25,14.85,12.1,26.799999999999997,16.95,15.799999999999999,12.600000000000001,23.25,25.15,18.15,15.6,17.95,11.7,13.85,11.65,19.75,12.15,19.9,21.799999999999997,23.85,22.25,25.1,22.8,14.149999999999999,12.5,17.4,23.3,11.8,17.65,14.600000000000001,14.049999999999999,27.05,21.0,20.6,21.4,19.799999999999997,18.35,16.0,17.4,24.0,18.65,24.9,30.350000000000005,20.75,24.699999999999996,23.85,19.55,14.399999999999999,16.25,19.3,22.95,20.5,21.049999999999997,15.1,15.05,16.0,14.9,19.3,15.450000000000001,17.5,18.8,24.0,17.95,18.4,22.0,13.35,24.600000000000005,15.05,12.65,25.550000000000004,25.25,22.7,13.15,18.35,15.950000000000001,17.4,12.999999999999998,17.7,28.549999999999997,19.65,20.1,10.95,19.200000000000003,15.5,14.65,27.0,17.3,11.65,17.65,18.5,13.15,17.0,12.8,26.9,24.75,16.05,17.200000000000003,16.1,15.3,13.3,12.749999999999998,21.15,16.15,20.5,16.65,25.849999999999998,12.399999999999999,18.799999999999997,24.549999999999997,22.75,24.5,20.85,15.450000000000001,23.0,18.55,14.649999999999997,22.6,14.9,13.6,17.7,12.749999999999998,24.2,16.950000000000003,12.25,15.399999999999999,18.85,14.25,11.8,20.2,20.700000000000003,23.799999999999997,20.65,15.600000000000001,13.5,19.4,21.8,18.450000000000003,12.300000000000002,19.7,14.600000000000001,14.700000000000003,16.35,15.250000000000002,16.25,12.85,15.350000000000003,24.2,25.6,13.250000000000002,20.0,20.5,21.2,13.650000000000002,12.5,17.05,19.45,15.35,12.300000000000002,21.55,21.5,14.4,16.8,15.799999999999999,12.600000000000001,21.5,15.799999999999999,16.1,22.450000000000003,22.85,29.7,22.6,20.4,16.45,19.1,12.45,19.85,24.85,20.15,21.95,17.9,18.6,13.75,15.5,15.950000000000001,15.399999999999999,18.299999999999997,13.850000000000001,12.8,28.2,12.95,11.15,25.999999999999996,23.950000000000003,19.05,23.3,22.9,13.6,18.1,22.65,17.35,15.2,15.699999999999998,21.1,26.350000000000005,17.55,14.7,18.9,16.45,24.549999999999997,22.0,20.700000000000003,18.9,15.35,17.85,16.3,19.950000000000003,13.75,20.45],\"type\":\"scatter\"},{\"line\":{\"color\":\"red\",\"width\":1},\"mode\":\"lines\",\"name\":\"Predicted Median Temperatures\",\"opacity\":0.8,\"x\":[0,1,2,3,4,5,6,7,8,9,10,11,12,13,14,15,16,17,18,19,20,21,22,23,24,25,26,27,28,29,30,31,32,33,34,35,36,37,38,39,40,41,42,43,44,45,46,47,48,49,50,51,52,53,54,55,56,57,58,59,60,61,62,63,64,65,66,67,68,69,70,71,72,73,74,75,76,77,78,79,80,81,82,83,84,85,86,87,88,89,90,91,92,93,94,95,96,97,98,99,100,101,102,103,104,105,106,107,108,109,110,111,112,113,114,115,116,117,118,119,120,121,122,123,124,125,126,127,128,129,130,131,132,133,134,135,136,137,138,139,140,141,142,143,144,145,146,147,148,149,150,151,152,153,154,155,156,157,158,159,160,161,162,163,164,165,166,167,168,169,170,171,172,173,174,175,176,177,178,179,180,181,182,183,184,185,186,187,188,189,190,191,192,193,194,195,196,197,198,199,200,201,202,203,204,205,206,207,208,209,210,211,212,213,214,215,216,217,218,219,220,221,222,223,224,225,226,227,228,229,230,231,232,233,234,235,236,237,238,239,240,241,242,243,244,245,246,247,248,249,250,251,252,253,254,255,256,257,258,259,260,261,262,263,264,265,266,267,268,269,270,271,272,273,274,275,276,277,278,279,280,281,282,283,284,285,286,287,288,289,290,291,292,293,294,295,296,297,298,299,300,301,302,303,304,305,306,307,308,309,310,311,312,313,314,315,316,317,318,319,320,321,322,323,324,325,326,327,328,329,330,331,332],\"y\":[18.6373291015625,19.14100456237793,18.44561767578125,17.28806495666504,29.254627227783203,19.02428436279297,17.86867332458496,18.0650634765625,18.79494285583496,16.165929794311523,24.16487693786621,18.73993492126465,19.06478500366211,18.871089935302734,17.12908363342285,18.854726791381836,15.631434440612793,19.928064346313477,18.75362205505371,19.04867172241211,19.01323699951172,16.72785758972168,16.642547607421875,18.954065322875977,19.900959014892578,18.75173568725586,19.056291580200195,19.06179428100586,19.895967483520508,19.007516860961914,20.224586486816406,18.74545669555664,15.553646087646484,19.83071517944336,17.974267959594727,14.317197799682617,20.938371658325195,18.612037658691406,17.513507843017578,19.102989196777344,18.10294532775879,23.367843627929688,18.903881072998047,18.872058868408203,18.849376678466797,16.120330810546875,18.776920318603516,21.67731475830078,18.01109504699707,12.303043365478516,21.2945556640625,18.774503707885742,20.442251205444336,19.1099910736084,18.850481033325195,18.612558364868164,17.980363845825195,18.66925048828125,16.778535842895508,18.505128860473633,17.12825584411621,18.290376663208008,19.722658157348633,19.101787567138672,20.61374855041504,18.959972381591797,18.712688446044922,20.220260620117188,18.982019424438477,20.39596176147461,19.165857315063477,15.937830924987793,17.762544631958008,21.264970779418945,19.01156234741211,18.88579559326172,19.03291130065918,19.078378677368164,19.779945373535156,17.161388397216797,13.120966911315918,18.174943923950195,15.943275451660156,15.92950439453125,16.008604049682617,18.546201705932617,18.754169464111328,18.98525619506836,16.285478591918945,18.650676727294922,17.813241958618164,18.813949584960938,19.53394889831543,17.72577476501465,18.972721099853516,19.123905181884766,18.73550033569336,20.030017852783203,18.892074584960938,18.746858596801758,19.08875274658203,18.63219451904297,17.14618682861328,18.2784366607666,15.928451538085938,18.663801193237305,18.753145217895508,18.418418884277344,18.67757797241211,13.169440269470215,14.986225128173828,17.12911605834961,18.77130699157715,22.256229400634766,18.701580047607422,19.125089645385742,15.14321517944336,17.83085823059082,25.94822883605957,19.122297286987305,15.754615783691406,14.784652709960938,24.900964736938477,18.865999221801758,19.034074783325195,17.02155303955078,16.48733139038086,18.58003807067871,17.974536895751953,14.533246040344238,19.051376342773438,18.61899185180664,18.28624153137207,18.578397750854492,18.880050659179688,19.01121711730957,18.828163146972656,19.109418869018555,18.875293731689453,12.94169807434082,18.38499641418457,16.38671875,19.026123046875,18.781003952026367,17.362327575683594,16.177690505981445,18.728796005249023,19.121421813964844,18.633764266967773,18.721464157104492,18.30788803100586,19.2882022857666,18.732440948486328,16.90188980102539,17.894451141357422,18.749895095825195,17.686565399169922,19.076143264770508,19.132102966308594,18.8292236328125,19.030868530273438,18.893810272216797,18.517242431640625,14.124492645263672,19.53158187866211,17.084543228149414,18.98125648498535,18.636491775512695,18.506328582763672,13.795672416687012,19.4507999420166,16.445728302001953,17.909751892089844,18.75206184387207,15.320820808410645,18.026165008544922,18.856231689453125,19.073013305664062,16.19139289855957,17.997053146362305,18.736051559448242,21.787681579589844,18.948394775390625,13.912651062011719,26.42037010192871,19.025875091552734,19.048219680786133,18.753284454345703,20.160396575927734,17.625194549560547,18.808866500854492,16.461605072021484,18.269840240478516,20.286365509033203,19.123327255249023,18.52252769470215,17.791828155517578,19.38971519470215,19.15576934814453,14.367497444152832,22.5355167388916,19.130653381347656,16.757705688476562,20.262359619140625,17.768369674682617,18.253023147583008,19.98857879638672,17.225242614746094,25.240942001342773,19.12254524230957,18.941865921020508,15.316579818725586,16.00179672241211,15.950349807739258,16.701494216918945,13.110016822814941,20.808488845825195,18.830305099487305,17.239517211914062,18.34752082824707,15.56713581085205,19.04590606689453,18.58510398864746,17.959613800048828,18.87775230407715,18.693161010742188,18.995838165283203,18.731632232666016,23.009719848632812,18.71980857849121,17.259389877319336,17.245771408081055,18.660234451293945,12.803998947143555,16.58258628845215,16.55685043334961,23.527799606323242,18.99506187438965,15.82900619506836,17.736263275146484,18.850969314575195,17.944387435913086,12.546686172485352,15.447718620300293,18.751365661621094,18.811443328857422,19.07228660583496,18.896530151367188,15.69542407989502,19.366939544677734,18.484107971191406,18.912994384765625,17.455570220947266,18.631149291992188,18.04108238220215,18.091035842895508,14.636174201965332,17.9278564453125,14.949296951293945,17.62459373474121,19.380104064941406,20.9465274810791,18.994659423828125,18.80069923400879,21.092195510864258,18.735675811767578,18.900718688964844,18.895748138427734,13.819555282592773,17.140018463134766,15.119695663452148,18.552270889282227,12.741129875183105,19.161884307861328,18.122854232788086,19.01584243774414,17.025556564331055,18.184032440185547,15.999861717224121,17.90848159790039,18.480579376220703,17.408851623535156,21.1475772857666,18.99038314819336,18.8945255279541,19.14865493774414,18.54088020324707,18.429176330566406,19.775053024291992,18.33370018005371,19.55585289001465,18.783905029296875,19.054065704345703,18.933521270751953,18.52191925048828,17.09616470336914,17.374610900878906,18.54740333557129,15.390657424926758,15.817268371582031,14.883249282836914,20.121448516845703,13.448150634765625,17.801958084106445,19.117599487304688,17.52838134765625,19.028770446777344,19.058366775512695,18.8256778717041,18.578094482421875,18.684593200683594,18.683025360107422,20.30061912536621,18.448936462402344,19.00221061706543,17.766155242919922,16.800567626953125,18.09859848022461,18.163955688476562,18.869470596313477,16.58640480041504,15.90999984741211,18.12846565246582,20.79241943359375,19.00237464904785,18.728017807006836,18.74374008178711,17.685102462768555,16.00377655029297,16.29416847229004,16.348833084106445,18.566104888916016,20.82391357421875],\"type\":\"scatter\"}],                        {\"template\":{\"data\":{\"bar\":[{\"error_x\":{\"color\":\"#2a3f5f\"},\"error_y\":{\"color\":\"#2a3f5f\"},\"marker\":{\"line\":{\"color\":\"#E5ECF6\",\"width\":0.5},\"pattern\":{\"fillmode\":\"overlay\",\"size\":10,\"solidity\":0.2}},\"type\":\"bar\"}],\"barpolar\":[{\"marker\":{\"line\":{\"color\":\"#E5ECF6\",\"width\":0.5},\"pattern\":{\"fillmode\":\"overlay\",\"size\":10,\"solidity\":0.2}},\"type\":\"barpolar\"}],\"carpet\":[{\"aaxis\":{\"endlinecolor\":\"#2a3f5f\",\"gridcolor\":\"white\",\"linecolor\":\"white\",\"minorgridcolor\":\"white\",\"startlinecolor\":\"#2a3f5f\"},\"baxis\":{\"endlinecolor\":\"#2a3f5f\",\"gridcolor\":\"white\",\"linecolor\":\"white\",\"minorgridcolor\":\"white\",\"startlinecolor\":\"#2a3f5f\"},\"type\":\"carpet\"}],\"choropleth\":[{\"colorbar\":{\"outlinewidth\":0,\"ticks\":\"\"},\"type\":\"choropleth\"}],\"contour\":[{\"colorbar\":{\"outlinewidth\":0,\"ticks\":\"\"},\"colorscale\":[[0.0,\"#0d0887\"],[0.1111111111111111,\"#46039f\"],[0.2222222222222222,\"#7201a8\"],[0.3333333333333333,\"#9c179e\"],[0.4444444444444444,\"#bd3786\"],[0.5555555555555556,\"#d8576b\"],[0.6666666666666666,\"#ed7953\"],[0.7777777777777778,\"#fb9f3a\"],[0.8888888888888888,\"#fdca26\"],[1.0,\"#f0f921\"]],\"type\":\"contour\"}],\"contourcarpet\":[{\"colorbar\":{\"outlinewidth\":0,\"ticks\":\"\"},\"type\":\"contourcarpet\"}],\"heatmap\":[{\"colorbar\":{\"outlinewidth\":0,\"ticks\":\"\"},\"colorscale\":[[0.0,\"#0d0887\"],[0.1111111111111111,\"#46039f\"],[0.2222222222222222,\"#7201a8\"],[0.3333333333333333,\"#9c179e\"],[0.4444444444444444,\"#bd3786\"],[0.5555555555555556,\"#d8576b\"],[0.6666666666666666,\"#ed7953\"],[0.7777777777777778,\"#fb9f3a\"],[0.8888888888888888,\"#fdca26\"],[1.0,\"#f0f921\"]],\"type\":\"heatmap\"}],\"heatmapgl\":[{\"colorbar\":{\"outlinewidth\":0,\"ticks\":\"\"},\"colorscale\":[[0.0,\"#0d0887\"],[0.1111111111111111,\"#46039f\"],[0.2222222222222222,\"#7201a8\"],[0.3333333333333333,\"#9c179e\"],[0.4444444444444444,\"#bd3786\"],[0.5555555555555556,\"#d8576b\"],[0.6666666666666666,\"#ed7953\"],[0.7777777777777778,\"#fb9f3a\"],[0.8888888888888888,\"#fdca26\"],[1.0,\"#f0f921\"]],\"type\":\"heatmapgl\"}],\"histogram\":[{\"marker\":{\"pattern\":{\"fillmode\":\"overlay\",\"size\":10,\"solidity\":0.2}},\"type\":\"histogram\"}],\"histogram2d\":[{\"colorbar\":{\"outlinewidth\":0,\"ticks\":\"\"},\"colorscale\":[[0.0,\"#0d0887\"],[0.1111111111111111,\"#46039f\"],[0.2222222222222222,\"#7201a8\"],[0.3333333333333333,\"#9c179e\"],[0.4444444444444444,\"#bd3786\"],[0.5555555555555556,\"#d8576b\"],[0.6666666666666666,\"#ed7953\"],[0.7777777777777778,\"#fb9f3a\"],[0.8888888888888888,\"#fdca26\"],[1.0,\"#f0f921\"]],\"type\":\"histogram2d\"}],\"histogram2dcontour\":[{\"colorbar\":{\"outlinewidth\":0,\"ticks\":\"\"},\"colorscale\":[[0.0,\"#0d0887\"],[0.1111111111111111,\"#46039f\"],[0.2222222222222222,\"#7201a8\"],[0.3333333333333333,\"#9c179e\"],[0.4444444444444444,\"#bd3786\"],[0.5555555555555556,\"#d8576b\"],[0.6666666666666666,\"#ed7953\"],[0.7777777777777778,\"#fb9f3a\"],[0.8888888888888888,\"#fdca26\"],[1.0,\"#f0f921\"]],\"type\":\"histogram2dcontour\"}],\"mesh3d\":[{\"colorbar\":{\"outlinewidth\":0,\"ticks\":\"\"},\"type\":\"mesh3d\"}],\"parcoords\":[{\"line\":{\"colorbar\":{\"outlinewidth\":0,\"ticks\":\"\"}},\"type\":\"parcoords\"}],\"pie\":[{\"automargin\":true,\"type\":\"pie\"}],\"scatter\":[{\"marker\":{\"colorbar\":{\"outlinewidth\":0,\"ticks\":\"\"}},\"type\":\"scatter\"}],\"scatter3d\":[{\"line\":{\"colorbar\":{\"outlinewidth\":0,\"ticks\":\"\"}},\"marker\":{\"colorbar\":{\"outlinewidth\":0,\"ticks\":\"\"}},\"type\":\"scatter3d\"}],\"scattercarpet\":[{\"marker\":{\"colorbar\":{\"outlinewidth\":0,\"ticks\":\"\"}},\"type\":\"scattercarpet\"}],\"scattergeo\":[{\"marker\":{\"colorbar\":{\"outlinewidth\":0,\"ticks\":\"\"}},\"type\":\"scattergeo\"}],\"scattergl\":[{\"marker\":{\"colorbar\":{\"outlinewidth\":0,\"ticks\":\"\"}},\"type\":\"scattergl\"}],\"scattermapbox\":[{\"marker\":{\"colorbar\":{\"outlinewidth\":0,\"ticks\":\"\"}},\"type\":\"scattermapbox\"}],\"scatterpolar\":[{\"marker\":{\"colorbar\":{\"outlinewidth\":0,\"ticks\":\"\"}},\"type\":\"scatterpolar\"}],\"scatterpolargl\":[{\"marker\":{\"colorbar\":{\"outlinewidth\":0,\"ticks\":\"\"}},\"type\":\"scatterpolargl\"}],\"scatterternary\":[{\"marker\":{\"colorbar\":{\"outlinewidth\":0,\"ticks\":\"\"}},\"type\":\"scatterternary\"}],\"surface\":[{\"colorbar\":{\"outlinewidth\":0,\"ticks\":\"\"},\"colorscale\":[[0.0,\"#0d0887\"],[0.1111111111111111,\"#46039f\"],[0.2222222222222222,\"#7201a8\"],[0.3333333333333333,\"#9c179e\"],[0.4444444444444444,\"#bd3786\"],[0.5555555555555556,\"#d8576b\"],[0.6666666666666666,\"#ed7953\"],[0.7777777777777778,\"#fb9f3a\"],[0.8888888888888888,\"#fdca26\"],[1.0,\"#f0f921\"]],\"type\":\"surface\"}],\"table\":[{\"cells\":{\"fill\":{\"color\":\"#EBF0F8\"},\"line\":{\"color\":\"white\"}},\"header\":{\"fill\":{\"color\":\"#C8D4E3\"},\"line\":{\"color\":\"white\"}},\"type\":\"table\"}]},\"layout\":{\"annotationdefaults\":{\"arrowcolor\":\"#2a3f5f\",\"arrowhead\":0,\"arrowwidth\":1},\"autotypenumbers\":\"strict\",\"coloraxis\":{\"colorbar\":{\"outlinewidth\":0,\"ticks\":\"\"}},\"colorscale\":{\"diverging\":[[0,\"#8e0152\"],[0.1,\"#c51b7d\"],[0.2,\"#de77ae\"],[0.3,\"#f1b6da\"],[0.4,\"#fde0ef\"],[0.5,\"#f7f7f7\"],[0.6,\"#e6f5d0\"],[0.7,\"#b8e186\"],[0.8,\"#7fbc41\"],[0.9,\"#4d9221\"],[1,\"#276419\"]],\"sequential\":[[0.0,\"#0d0887\"],[0.1111111111111111,\"#46039f\"],[0.2222222222222222,\"#7201a8\"],[0.3333333333333333,\"#9c179e\"],[0.4444444444444444,\"#bd3786\"],[0.5555555555555556,\"#d8576b\"],[0.6666666666666666,\"#ed7953\"],[0.7777777777777778,\"#fb9f3a\"],[0.8888888888888888,\"#fdca26\"],[1.0,\"#f0f921\"]],\"sequentialminus\":[[0.0,\"#0d0887\"],[0.1111111111111111,\"#46039f\"],[0.2222222222222222,\"#7201a8\"],[0.3333333333333333,\"#9c179e\"],[0.4444444444444444,\"#bd3786\"],[0.5555555555555556,\"#d8576b\"],[0.6666666666666666,\"#ed7953\"],[0.7777777777777778,\"#fb9f3a\"],[0.8888888888888888,\"#fdca26\"],[1.0,\"#f0f921\"]]},\"colorway\":[\"#636efa\",\"#EF553B\",\"#00cc96\",\"#ab63fa\",\"#FFA15A\",\"#19d3f3\",\"#FF6692\",\"#B6E880\",\"#FF97FF\",\"#FECB52\"],\"font\":{\"color\":\"#2a3f5f\"},\"geo\":{\"bgcolor\":\"white\",\"lakecolor\":\"white\",\"landcolor\":\"#E5ECF6\",\"showlakes\":true,\"showland\":true,\"subunitcolor\":\"white\"},\"hoverlabel\":{\"align\":\"left\"},\"hovermode\":\"closest\",\"mapbox\":{\"style\":\"light\"},\"paper_bgcolor\":\"white\",\"plot_bgcolor\":\"#E5ECF6\",\"polar\":{\"angularaxis\":{\"gridcolor\":\"white\",\"linecolor\":\"white\",\"ticks\":\"\"},\"bgcolor\":\"#E5ECF6\",\"radialaxis\":{\"gridcolor\":\"white\",\"linecolor\":\"white\",\"ticks\":\"\"}},\"scene\":{\"xaxis\":{\"backgroundcolor\":\"#E5ECF6\",\"gridcolor\":\"white\",\"gridwidth\":2,\"linecolor\":\"white\",\"showbackground\":true,\"ticks\":\"\",\"zerolinecolor\":\"white\"},\"yaxis\":{\"backgroundcolor\":\"#E5ECF6\",\"gridcolor\":\"white\",\"gridwidth\":2,\"linecolor\":\"white\",\"showbackground\":true,\"ticks\":\"\",\"zerolinecolor\":\"white\"},\"zaxis\":{\"backgroundcolor\":\"#E5ECF6\",\"gridcolor\":\"white\",\"gridwidth\":2,\"linecolor\":\"white\",\"showbackground\":true,\"ticks\":\"\",\"zerolinecolor\":\"white\"}},\"shapedefaults\":{\"line\":{\"color\":\"#2a3f5f\"}},\"ternary\":{\"aaxis\":{\"gridcolor\":\"white\",\"linecolor\":\"white\",\"ticks\":\"\"},\"baxis\":{\"gridcolor\":\"white\",\"linecolor\":\"white\",\"ticks\":\"\"},\"bgcolor\":\"#E5ECF6\",\"caxis\":{\"gridcolor\":\"white\",\"linecolor\":\"white\",\"ticks\":\"\"}},\"title\":{\"x\":0.05},\"xaxis\":{\"automargin\":true,\"gridcolor\":\"white\",\"linecolor\":\"white\",\"ticks\":\"\",\"title\":{\"standoff\":15},\"zerolinecolor\":\"white\",\"zerolinewidth\":2},\"yaxis\":{\"automargin\":true,\"gridcolor\":\"white\",\"linecolor\":\"white\",\"ticks\":\"\",\"title\":{\"standoff\":15},\"zerolinecolor\":\"white\",\"zerolinewidth\":2}}},\"plot_bgcolor\":\"white\",\"xaxis\":{\"showgrid\":true,\"gridcolor\":\"lightgray\",\"showline\":true,\"zeroline\":true,\"zerolinecolor\":\"gray\",\"zerolinewidth\":1,\"linewidth\":1,\"linecolor\":\"red\",\"title\":{\"text\":\"Date\"}},\"yaxis\":{\"showgrid\":true,\"gridcolor\":\"lightgray\",\"showline\":true,\"zeroline\":true,\"zerolinecolor\":\"gray\",\"zerolinewidth\":1,\"linewidth\":1,\"linecolor\":\"red\",\"title\":{\"text\":\"Degree celcuis\"}},\"title\":{\"font\":{\"color\":\"green\"},\"text\":\"Avg daily temp in Sydney\"}},                        {\"responsive\": true}                    ).then(function(){\n",
              "                            \n",
              "var gd = document.getElementById('fb815f4e-e7d4-4947-baa7-cf4aef89c4ca');\n",
              "var x = new MutationObserver(function (mutations, observer) {{\n",
              "        var display = window.getComputedStyle(gd).display;\n",
              "        if (!display || display === 'none') {{\n",
              "            console.log([gd, 'removed!']);\n",
              "            Plotly.purge(gd);\n",
              "            observer.disconnect();\n",
              "        }}\n",
              "}});\n",
              "\n",
              "// Listen for the removal of the full notebook cells\n",
              "var notebookContainer = gd.closest('#notebook-container');\n",
              "if (notebookContainer) {{\n",
              "    x.observe(notebookContainer, {childList: true});\n",
              "}}\n",
              "\n",
              "// Listen for the clearing of the current output cell\n",
              "var outputEl = gd.closest('.output');\n",
              "if (outputEl) {{\n",
              "    x.observe(outputEl, {childList: true});\n",
              "}}\n",
              "\n",
              "                        })                };                            </script>        </div>\n",
              "</body>\n",
              "</html>"
            ]
          },
          "metadata": {}
        }
      ]
    },
    {
      "cell_type": "code",
      "source": [
        ""
      ],
      "metadata": {
        "id": "hpSJfvkrEnx_"
      },
      "execution_count": null,
      "outputs": []
    }
  ]
}