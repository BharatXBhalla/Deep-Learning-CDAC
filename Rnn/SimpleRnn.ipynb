{
  "nbformat": 4,
  "nbformat_minor": 0,
  "metadata": {
    "colab": {
      "name": "SimpleRnn.ipynb",
      "provenance": [],
      "authorship_tag": "ABX9TyOEH9tiRmTzRgmcT9I7cucE",
      "include_colab_link": true
    },
    "kernelspec": {
      "name": "python3",
      "display_name": "Python 3"
    },
    "language_info": {
      "name": "python"
    }
  },
  "cells": [
    {
      "cell_type": "markdown",
      "metadata": {
        "id": "view-in-github",
        "colab_type": "text"
      },
      "source": [
        "<a href=\"https://colab.research.google.com/github/BharatXBhalla/Deep-Learning-CDAC/blob/main/Rnn/SimpleRnn.ipynb\" target=\"_parent\"><img src=\"https://colab.research.google.com/assets/colab-badge.svg\" alt=\"Open In Colab\"/></a>"
      ]
    },
    {
      "cell_type": "code",
      "execution_count": 1,
      "metadata": {
        "id": "YmuH47JybCoq"
      },
      "outputs": [],
      "source": [
        "import numpy as np\n",
        "from keras.models import Sequential\n",
        "from keras.layers import Dense,SimpleRNN"
      ]
    },
    {
      "cell_type": "code",
      "source": [
        "def rnnModels():\n",
        "  model=Sequential()\n",
        "  model.add(SimpleRNN(5,input_shape=(3,2),activation=\"relu\"))\n",
        "  model.add(Dense(1,activation=\"relu\"))\n",
        "  model.compile(loss=\"mean_squared_error\",optimizer=\"adam\")\n",
        "  return model"
      ],
      "metadata": {
        "id": "edXTjHmzbX3O"
      },
      "execution_count": 22,
      "outputs": []
    },
    {
      "cell_type": "code",
      "source": [
        "model=rnnModels()"
      ],
      "metadata": {
        "id": "EE8wt9_5b6P8"
      },
      "execution_count": 23,
      "outputs": []
    },
    {
      "cell_type": "code",
      "source": [
        "model.weights"
      ],
      "metadata": {
        "colab": {
          "base_uri": "https://localhost:8080/"
        },
        "id": "WjjkqiJqb-7T",
        "outputId": "9e0344cc-4057-497c-ae5c-6427fcf37a71"
      },
      "execution_count": 24,
      "outputs": [
        {
          "output_type": "execute_result",
          "data": {
            "text/plain": [
              "[<tf.Variable 'simple_rnn_3/simple_rnn_cell_3/kernel:0' shape=(2, 5) dtype=float32, numpy=\n",
              " array([[ 0.45393574,  0.0614211 ,  0.16106176,  0.44295025,  0.44574344],\n",
              "        [ 0.30805528, -0.2578615 , -0.50351846, -0.06719482,  0.5266248 ]],\n",
              "       dtype=float32)>,\n",
              " <tf.Variable 'simple_rnn_3/simple_rnn_cell_3/recurrent_kernel:0' shape=(5, 5) dtype=float32, numpy=\n",
              " array([[ 0.19620872,  0.502025  , -0.32550788,  0.7152034 , -0.303318  ],\n",
              "        [ 0.75113255, -0.19612873,  0.59457433,  0.13401857, -0.16079137],\n",
              "        [ 0.3843506 , -0.51879025, -0.57494   ,  0.1937135 ,  0.46373534],\n",
              "        [-0.02759676,  0.41177034,  0.3416285 ,  0.21977764,  0.8152738 ],\n",
              "        [-0.49881372, -0.52039045,  0.3053851 ,  0.6202388 , -0.04921915]],\n",
              "       dtype=float32)>,\n",
              " <tf.Variable 'simple_rnn_3/simple_rnn_cell_3/bias:0' shape=(5,) dtype=float32, numpy=array([0., 0., 0., 0., 0.], dtype=float32)>,\n",
              " <tf.Variable 'dense_3/kernel:0' shape=(5, 1) dtype=float32, numpy=\n",
              " array([[ 0.11528301],\n",
              "        [ 0.05118752],\n",
              "        [ 0.43215966],\n",
              "        [-0.40036392],\n",
              "        [-0.9010978 ]], dtype=float32)>,\n",
              " <tf.Variable 'dense_3/bias:0' shape=(1,) dtype=float32, numpy=array([0.], dtype=float32)>]"
            ]
          },
          "metadata": {},
          "execution_count": 24
        }
      ]
    },
    {
      "cell_type": "code",
      "source": [
        "wx =model.get_weights()[0]\n",
        "wh=model.get_weights()[1]\n",
        "bh=model.get_weights()[2]\n",
        "wy=model.get_weights()[3]\n",
        "by=model.get_weights()[4]"
      ],
      "metadata": {
        "id": "EnWshXKKcBU7"
      },
      "execution_count": 25,
      "outputs": []
    },
    {
      "cell_type": "code",
      "source": [
        "wx"
      ],
      "metadata": {
        "colab": {
          "base_uri": "https://localhost:8080/"
        },
        "id": "fgPBrawGcWnt",
        "outputId": "0c8e8a9e-873e-468e-e61c-83fa42b63437"
      },
      "execution_count": 26,
      "outputs": [
        {
          "output_type": "execute_result",
          "data": {
            "text/plain": [
              "array([[ 0.45393574,  0.0614211 ,  0.16106176,  0.44295025,  0.44574344],\n",
              "       [ 0.30805528, -0.2578615 , -0.50351846, -0.06719482,  0.5266248 ]],\n",
              "      dtype=float32)"
            ]
          },
          "metadata": {},
          "execution_count": 26
        }
      ]
    },
    {
      "cell_type": "code",
      "source": [
        "wh"
      ],
      "metadata": {
        "colab": {
          "base_uri": "https://localhost:8080/"
        },
        "id": "OKYm_LfqcaLc",
        "outputId": "62909a77-78c1-4e06-b977-af585b579dbe"
      },
      "execution_count": 27,
      "outputs": [
        {
          "output_type": "execute_result",
          "data": {
            "text/plain": [
              "array([[ 0.19620872,  0.502025  , -0.32550788,  0.7152034 , -0.303318  ],\n",
              "       [ 0.75113255, -0.19612873,  0.59457433,  0.13401857, -0.16079137],\n",
              "       [ 0.3843506 , -0.51879025, -0.57494   ,  0.1937135 ,  0.46373534],\n",
              "       [-0.02759676,  0.41177034,  0.3416285 ,  0.21977764,  0.8152738 ],\n",
              "       [-0.49881372, -0.52039045,  0.3053851 ,  0.6202388 , -0.04921915]],\n",
              "      dtype=float32)"
            ]
          },
          "metadata": {},
          "execution_count": 27
        }
      ]
    },
    {
      "cell_type": "code",
      "source": [
        "bh"
      ],
      "metadata": {
        "colab": {
          "base_uri": "https://localhost:8080/"
        },
        "id": "E7VYATuJcbOL",
        "outputId": "fdd21d1d-5978-4555-c519-39b7014d3516"
      },
      "execution_count": 28,
      "outputs": [
        {
          "output_type": "execute_result",
          "data": {
            "text/plain": [
              "array([0., 0., 0., 0., 0.], dtype=float32)"
            ]
          },
          "metadata": {},
          "execution_count": 28
        }
      ]
    },
    {
      "cell_type": "code",
      "source": [
        "wy"
      ],
      "metadata": {
        "colab": {
          "base_uri": "https://localhost:8080/"
        },
        "id": "FhKxdPGicfM7",
        "outputId": "75b6e7f4-7aa5-429c-84cc-65c1636d89bf"
      },
      "execution_count": 31,
      "outputs": [
        {
          "output_type": "execute_result",
          "data": {
            "text/plain": [
              "array([[ 0.11528301],\n",
              "       [ 0.05118752],\n",
              "       [ 0.43215966],\n",
              "       [-0.40036392],\n",
              "       [-0.9010978 ]], dtype=float32)"
            ]
          },
          "metadata": {},
          "execution_count": 31
        }
      ]
    },
    {
      "cell_type": "code",
      "source": [
        "by"
      ],
      "metadata": {
        "colab": {
          "base_uri": "https://localhost:8080/"
        },
        "id": "TwWcRaqoc3zs",
        "outputId": "6908b348-206e-44cb-c7a7-1fabb31d3d59"
      },
      "execution_count": 30,
      "outputs": [
        {
          "output_type": "execute_result",
          "data": {
            "text/plain": [
              "array([0.], dtype=float32)"
            ]
          },
          "metadata": {},
          "execution_count": 30
        }
      ]
    },
    {
      "cell_type": "code",
      "source": [
        "print(f'wx= {wx} , wy ={wy} , bh={bh}, wh={wh} , by = {by}')"
      ],
      "metadata": {
        "colab": {
          "base_uri": "https://localhost:8080/"
        },
        "id": "FhaFrrabc4xD",
        "outputId": "10f082e7-2f1f-4f4a-d633-6ae0b40aa7a3"
      },
      "execution_count": 33,
      "outputs": [
        {
          "output_type": "stream",
          "name": "stdout",
          "text": [
            "wx= [[ 0.45393574  0.0614211   0.16106176  0.44295025  0.44574344]\n",
            " [ 0.30805528 -0.2578615  -0.50351846 -0.06719482  0.5266248 ]] , wy =[[ 0.11528301]\n",
            " [ 0.05118752]\n",
            " [ 0.43215966]\n",
            " [-0.40036392]\n",
            " [-0.9010978 ]] , bh=[0. 0. 0. 0. 0.], wh=[[ 0.19620872  0.502025   -0.32550788  0.7152034  -0.303318  ]\n",
            " [ 0.75113255 -0.19612873  0.59457433  0.13401857 -0.16079137]\n",
            " [ 0.3843506  -0.51879025 -0.57494     0.1937135   0.46373534]\n",
            " [-0.02759676  0.41177034  0.3416285   0.21977764  0.8152738 ]\n",
            " [-0.49881372 -0.52039045  0.3053851   0.6202388  -0.04921915]] , by = [0.]\n"
          ]
        }
      ]
    },
    {
      "cell_type": "code",
      "source": [
        "x=np.array([1,2,3,4,5,6])"
      ],
      "metadata": {
        "id": "4A2uYYBCeCVU"
      },
      "execution_count": 37,
      "outputs": []
    },
    {
      "cell_type": "code",
      "source": [
        "x"
      ],
      "metadata": {
        "colab": {
          "base_uri": "https://localhost:8080/"
        },
        "id": "Vk-htXx-eHZz",
        "outputId": "0d694699-69a0-4c16-ecc7-1cdc3ee9b129"
      },
      "execution_count": 38,
      "outputs": [
        {
          "output_type": "execute_result",
          "data": {
            "text/plain": [
              "array([1, 2, 3, 4, 5, 6])"
            ]
          },
          "metadata": {},
          "execution_count": 38
        }
      ]
    },
    {
      "cell_type": "code",
      "source": [
        "x_input=np.reshape(x,[1,3,2])\n",
        "y_pred=model.predict(x_input)\n",
        "y_pred"
      ],
      "metadata": {
        "colab": {
          "base_uri": "https://localhost:8080/"
        },
        "id": "hM8U0PEqeIH7",
        "outputId": "0a0fdd1c-041a-4ac2-a162-6c11ce7cfc5a"
      },
      "execution_count": 40,
      "outputs": [
        {
          "output_type": "execute_result",
          "data": {
            "text/plain": [
              "array([[0.]], dtype=float32)"
            ]
          },
          "metadata": {},
          "execution_count": 40
        }
      ]
    },
    {
      "cell_type": "code",
      "source": [
        "m=5\n",
        "h0=np.zeros(m)\n",
        "h1=np.dot(x[0],wx) +h0+bh\n",
        "h2=np.dot(x[1],wx)+np.dot(h1,wh)+bh\n",
        "h3=np.dot(x[2],wx) +np.dot(h2,wh)+bh\n",
        "output=np.dot(h3,wy)+by\n",
        "print(f'h1 = {h1} , h2= {h2} , h3={h3}')"
      ],
      "metadata": {
        "colab": {
          "base_uri": "https://localhost:8080/"
        },
        "id": "7b4SuMPIeMAb",
        "outputId": "04be270a-b6d4-4ba9-90ca-5ddadaf43d87"
      },
      "execution_count": 45,
      "outputs": [
        {
          "output_type": "stream",
          "name": "stdout",
          "text": [
            "h1 = [[ 0.45393574  0.0614211   0.16106176  0.44295025  0.44574344]\n",
            " [ 0.30805528 -0.2578615  -0.50351846 -0.06719482  0.5266248 ]] , h2= [[ 0.87041027  0.20555872  0.40573026  1.62380622  1.15780068]\n",
            " [ 0.0285046  -0.35099637 -0.83326855  0.2657012   0.68707128]] , h3=[[ 1.22059516  0.43655297  0.99712283  3.13250444  2.49517935]\n",
            " [-0.00420644 -0.50627986 -0.94885541  0.09489016  1.42405172]]\n"
          ]
        }
      ]
    },
    {
      "cell_type": "code",
      "source": [
        ""
      ],
      "metadata": {
        "id": "I9rtjlBKeXHk"
      },
      "execution_count": null,
      "outputs": []
    }
  ]
}